{
  "nbformat": 4,
  "nbformat_minor": 0,
  "metadata": {
    "colab": {
      "provenance": []
    },
    "kernelspec": {
      "name": "python3",
      "display_name": "Python 3"
    },
    "language_info": {
      "name": "python"
    }
  },
  "cells": [
    {
      "cell_type": "code",
      "execution_count": null,
      "metadata": {
        "id": "D3GE3ga43lg7"
      },
      "outputs": [],
      "source": [
        "import pandas as pd\n",
        "\n",
        "# Load the datasets\n",
        "yelp_data = pd.read_csv(\"yelp_academic_dataset_business.csv\", on_bad_lines=\"skip\")\n",
        "population_data = pd.read_csv(\"population_by_zip_2010.csv\")  # Replace with the actual filename\n",
        "\n",
        "# Merge datasets on postal_code/zipcode\n",
        "merged_data = pd.merge(\n",
        "    yelp_data,\n",
        "    population_data,\n",
        "    left_on=\"postal_code\",\n",
        "    right_on=\"zipcode\",\n",
        "    how=\"inner\"\n",
        ")"
      ]
    },
    {
      "cell_type": "code",
      "source": [
        "# Calculate competition level (number of businesses per zip code)\n",
        "merged_data[\"competition\"] = merged_data.groupby(\"postal_code\")[\"business_id\"].transform(\"count\")\n",
        "\n",
        "# Calculate average ratings and competition for each zip code\n",
        "analysis = merged_data.groupby(\"zipcode\").agg(\n",
        "    avg_rating=(\"stars\", \"mean\"),\n",
        "    competition=(\"competition\", \"mean\"),\n",
        "    population=(\"population\", \"mean\")\n",
        ").reset_index()\n",
        "\n",
        "# Define bins (adjust based on distribution)\n",
        "bins = [0, 516, 1105, 1862, 4801]  # Example thresholds\n",
        "labels = [\"Very Low Density\", \"Low Density\", \"Medium Density\", \"High Density\"]\n",
        "analysis[\"density_category\"] = pd.cut(analysis[\"population\"], bins=bins, labels=labels)\n",
        "\n",
        "# Calculate average ratings for each density category\n",
        "density_analysis = analysis.groupby(\"density_category\").agg(\n",
        "    avg_rating=(\"avg_rating\", \"mean\"),\n",
        "    avg_competition=(\"competition\", \"mean\"),\n",
        "    avg_population=(\"population\", \"mean\")\n",
        ").reset_index()\n",
        "\n",
        "# Output the analysis\n",
        "print(\"Average ratings by density category:\")\n",
        "print(density_analysis)\n",
        "\n",
        "# Save the analysis for visualization\n",
        "#density_analysis.to_csv(\"density_analysis.csv\", index=False)\n"
      ],
      "metadata": {
        "colab": {
          "base_uri": "https://localhost:8080/"
        },
        "id": "kjnou30I40yJ",
        "outputId": "853136f8-7e87-4a0d-f1b8-391d3867c2b6"
      },
      "execution_count": null,
      "outputs": [
        {
          "output_type": "stream",
          "name": "stdout",
          "text": [
            "Average ratings by density category:\n",
            "   density_category  avg_rating  avg_competition  avg_population\n",
            "0  Very Low Density    3.643132      2020.593750      233.679118\n",
            "1       Low Density    3.539921      6217.952790      829.034510\n",
            "2    Medium Density    3.535804      9209.055794     1463.100026\n",
            "3      High Density    3.472859     12765.337607     2520.646782\n"
          ]
        },
        {
          "output_type": "stream",
          "name": "stderr",
          "text": [
            "<ipython-input-9-f4e6ef1a78a0>:17: FutureWarning: The default of observed=False is deprecated and will be changed to True in a future version of pandas. Pass observed=False to retain current behavior or observed=True to adopt the future default and silence this warning.\n",
            "  density_analysis = analysis.groupby(\"density_category\").agg(\n"
          ]
        }
      ]
    },
    {
      "cell_type": "code",
      "source": [
        "# Check basic statistics for avg_population\n",
        "print(analysis[\"population\"].describe())\n",
        "\n",
        "# Check the minimum and maximum average population values\n",
        "print(f\"Minimum avg_population: {analysis['population'].min()}\")\n",
        "print(f\"Maximum avg_population: {analysis['population'].max()}\")"
      ],
      "metadata": {
        "colab": {
          "base_uri": "https://localhost:8080/"
        },
        "id": "IAKXyWCC5HCH",
        "outputId": "12d88000-b8f3-44f7-f6f1-af55932df318"
      },
      "execution_count": null,
      "outputs": [
        {
          "output_type": "stream",
          "name": "stdout",
          "text": [
            "count     933.000000\n",
            "mean     1260.710414\n",
            "std       910.678491\n",
            "min         0.000000\n",
            "25%       516.551020\n",
            "50%      1105.959184\n",
            "75%      1862.020408\n",
            "max      4800.367347\n",
            "Name: population, dtype: float64\n",
            "Minimum avg_population: 0.0\n",
            "Maximum avg_population: 4800.367346938776\n"
          ]
        }
      ]
    },
    {
      "cell_type": "code",
      "source": [
        "analysis[\"population\"].describe()"
      ],
      "metadata": {
        "colab": {
          "base_uri": "https://localhost:8080/",
          "height": 335
        },
        "id": "qp9EqEXcIj5R",
        "outputId": "46cdfd23-4184-40f9-88ec-8c221dcf7a3b"
      },
      "execution_count": null,
      "outputs": [
        {
          "output_type": "execute_result",
          "data": {
            "text/plain": [
              "count     933.000000\n",
              "mean     1260.710414\n",
              "std       910.678491\n",
              "min         0.000000\n",
              "25%       516.551020\n",
              "50%      1105.959184\n",
              "75%      1862.020408\n",
              "max      4800.367347\n",
              "Name: population, dtype: float64"
            ],
            "text/html": [
              "<div>\n",
              "<style scoped>\n",
              "    .dataframe tbody tr th:only-of-type {\n",
              "        vertical-align: middle;\n",
              "    }\n",
              "\n",
              "    .dataframe tbody tr th {\n",
              "        vertical-align: top;\n",
              "    }\n",
              "\n",
              "    .dataframe thead th {\n",
              "        text-align: right;\n",
              "    }\n",
              "</style>\n",
              "<table border=\"1\" class=\"dataframe\">\n",
              "  <thead>\n",
              "    <tr style=\"text-align: right;\">\n",
              "      <th></th>\n",
              "      <th>population</th>\n",
              "    </tr>\n",
              "  </thead>\n",
              "  <tbody>\n",
              "    <tr>\n",
              "      <th>count</th>\n",
              "      <td>933.000000</td>\n",
              "    </tr>\n",
              "    <tr>\n",
              "      <th>mean</th>\n",
              "      <td>1260.710414</td>\n",
              "    </tr>\n",
              "    <tr>\n",
              "      <th>std</th>\n",
              "      <td>910.678491</td>\n",
              "    </tr>\n",
              "    <tr>\n",
              "      <th>min</th>\n",
              "      <td>0.000000</td>\n",
              "    </tr>\n",
              "    <tr>\n",
              "      <th>25%</th>\n",
              "      <td>516.551020</td>\n",
              "    </tr>\n",
              "    <tr>\n",
              "      <th>50%</th>\n",
              "      <td>1105.959184</td>\n",
              "    </tr>\n",
              "    <tr>\n",
              "      <th>75%</th>\n",
              "      <td>1862.020408</td>\n",
              "    </tr>\n",
              "    <tr>\n",
              "      <th>max</th>\n",
              "      <td>4800.367347</td>\n",
              "    </tr>\n",
              "  </tbody>\n",
              "</table>\n",
              "</div><br><label><b>dtype:</b> float64</label>"
            ]
          },
          "metadata": {},
          "execution_count": 11
        }
      ]
    },
    {
      "cell_type": "code",
      "source": [
        "import matplotlib.pyplot as plt\n",
        "import seaborn as sns\n",
        "\n",
        "# Plot histogram of avg_population\n",
        "plt.figure(figsize=(10, 6))\n",
        "sns.histplot(analysis[\"population\"], bins=30, kde=True)\n",
        "plt.title(\"Distribution of Average Population per ZIP Code\")\n",
        "plt.xlabel(\"Average Population\")\n",
        "plt.ylabel(\"Frequency\")\n",
        "plt.show()"
      ],
      "metadata": {
        "colab": {
          "base_uri": "https://localhost:8080/",
          "height": 564
        },
        "id": "-oBDuxm46Ngo",
        "outputId": "b8acbd1b-3299-47da-eaf1-ae4cbae01e1a"
      },
      "execution_count": null,
      "outputs": [
        {
          "output_type": "display_data",
          "data": {
            "text/plain": [
              "<Figure size 1000x600 with 1 Axes>"
            ],
            "image/png": "[encoded data removed]"
          },
          "metadata": {}
        }
      ]
    },
    {
      "cell_type": "code",
      "source": [
        "from scipy.stats import f_oneway\n",
        "\n",
        "# Group the data by density category\n",
        "grouped_ratings = [analysis.loc[analysis[\"density_category\"] == label, \"avg_rating\"] for label in labels]\n",
        "\n",
        "# Perform one-way ANOVA\n",
        "f_stat, p_value = f_oneway(*grouped_ratings)\n",
        "\n",
        "print(\"ANOVA Results:\")\n",
        "print(f\"F-statistic: {f_stat:.4f}, p-value: {p_value:.4f}\")\n",
        "\n",
        "print(\"Result: There is a significant difference in average ratings between density categories becuase of the p-value being below .05\")"
      ],
      "metadata": {
        "colab": {
          "base_uri": "https://localhost:8080/"
        },
        "id": "-bzG_oFf_NR_",
        "outputId": "5b0e04ca-6e6a-4759-c963-5e7857a0e394"
      },
      "execution_count": null,
      "outputs": [
        {
          "output_type": "stream",
          "name": "stdout",
          "text": [
            "ANOVA Results:\n",
            "F-statistic: 3.7978, p-value: 0.0101\n",
            "Result: There is a significant difference in average ratings between density categories becuase of the p-value being below .05\n"
          ]
        }
      ]
    },
    {
      "cell_type": "code",
      "source": [
        "from scipy.stats import spearmanr\n",
        "\n",
        "# Perform Spearman's correlation test\n",
        "correlation, p_value = spearmanr(analysis[\"competition\"], analysis[\"avg_rating\"])\n",
        "\n",
        "print(\"Spearman Correlation Test Results:\")\n",
        "print(f\"Spearman Correlation Coefficient: {correlation:.4f}\")\n",
        "print(f\"P-value: {p_value:.4f}\")\n",
        "\n",
        "print(\"Result: There is no significant correlation between competition and average ratings because the p-value is greater that .05\")\n"
      ],
      "metadata": {
        "colab": {
          "base_uri": "https://localhost:8080/"
        },
        "id": "FXe1q6WK__aR",
        "outputId": "c2851362-0072-4ccc-cc79-04f6160914f4"
      },
      "execution_count": null,
      "outputs": [
        {
          "output_type": "stream",
          "name": "stdout",
          "text": [
            "Spearman Correlation Test Results:\n",
            "Spearman Correlation Coefficient: 0.0274\n",
            "P-value: 0.4024\n",
            "Result: There is no significant correlation between competition and average ratings because the p-value is greater that .05\n"
          ]
        }
      ]
    },
    {
      "cell_type": "code",
      "source": [],
      "metadata": {
        "id": "jW2E8kuRAxHB"
      },
      "execution_count": null,
      "outputs": []
    }
  ]
}