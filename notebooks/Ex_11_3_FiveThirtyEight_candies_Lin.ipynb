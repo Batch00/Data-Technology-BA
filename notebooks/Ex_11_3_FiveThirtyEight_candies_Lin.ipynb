{
  "nbformat": 4,
  "nbformat_minor": 0,
  "metadata": {
    "colab": {
      "provenance": []
    },
    "kernelspec": {
      "name": "python3",
      "display_name": "Python 3"
    }
  },
  "cells": [
    {
      "cell_type": "code",
      "metadata": {
        "colab": {
          "base_uri": "https://localhost:8080/"
        },
        "id": "yTzIf7vEvBr_",
        "outputId": "9669d790-273b-4f36-df52-4b8035fde9ad"
      },
      "source": [
        "from google.colab import drive\n",
        "drive.mount('/content/drive')"
      ],
      "execution_count": null,
      "outputs": [
        {
          "output_type": "stream",
          "name": "stdout",
          "text": [
            "Mounted at /content/drive\n"
          ]
        }
      ]
    },
    {
      "cell_type": "code",
      "metadata": {
        "id": "TzycIWC857fm"
      },
      "source": [
        "# Import packages\n",
        "from pyspark.sql import SparkSession\n",
        "from pyspark.sql import Row\n",
        "from pyspark.sql.types import StructType,StructField,StringType, DateType,IntegerType\n",
        "from pyspark import SparkFiles\n",
        "\n",
        "# Create a SparkSession\n",
        "spark = SparkSession.builder.appName(\"TempViews\").getOrCreate()"
      ],
      "execution_count": null,
      "outputs": []
    },
    {
      "cell_type": "code",
      "metadata": {
        "id": "aW4fCNcS6yb0"
      },
      "source": [
        "# In this example we are going to read data directly from a github repo.\n",
        "url='https://raw.githubusercontent.com/datasets/five-thirty-eight-datasets/master/datasets/candy-power-ranking/data/candy-data.csv'"
      ],
      "execution_count": null,
      "outputs": []
    },
    {
      "cell_type": "code",
      "metadata": {
        "id": "Rb-6Y_4FKT4h",
        "colab": {
          "base_uri": "https://localhost:8080/"
        },
        "outputId": "87dd3759-4a45-4575-c64b-9734cae43ace"
      },
      "source": [
        "# SparkFiles will allow you to resolves paths to files added through `SparkContext.addFile`\n",
        "\n",
        "spark.sparkContext.addFile(url)\n",
        "candy_data = spark.read.option('header', 'true').csv(SparkFiles.get(\"candy-data.csv\"), inferSchema=True, sep=',', timestampFormat=\"mm/dd/yy\")\n",
        "\n",
        "# Show DataFrame\n",
        "candy_data.show()"
      ],
      "execution_count": null,
      "outputs": [
        {
          "output_type": "stream",
          "name": "stdout",
          "text": [
            "+--------------------+---------+------+-------+--------------+------+----------------+----+---+--------+------------+------------+----------+\n",
            "|      competitorname|chocolate|fruity|caramel|peanutyalmondy|nougat|crispedricewafer|hard|bar|pluribus|sugarpercent|pricepercent|winpercent|\n",
            "+--------------------+---------+------+-------+--------------+------+----------------+----+---+--------+------------+------------+----------+\n",
            "|           100 grand|        1|     0|      1|             0|     0|               1|   0|  1|       0|  0.73199999|  0.86000001| 66.971725|\n",
            "|        3 musketeers|        1|     0|      0|             0|     1|               0|   0|  1|       0|  0.60399997|  0.51099998| 67.602936|\n",
            "|            one dime|        0|     0|      0|             0|     0|               0|   0|  0|       0|       0.011|       0.116| 32.261086|\n",
            "|         one quarter|        0|     0|      0|             0|     0|               0|   0|  0|       0|       0.011|  0.51099998| 46.116505|\n",
            "|           air heads|        0|     1|      0|             0|     0|               0|   0|  0|       0|  0.90600002|  0.51099998| 52.341465|\n",
            "|          almond joy|        1|     0|      0|             1|     0|               0|   0|  1|       0|       0.465|  0.76700002| 50.347546|\n",
            "|           baby ruth|        1|     0|      1|             1|     1|               0|   0|  1|       0|  0.60399997|  0.76700002| 56.914547|\n",
            "|  boston baked beans|        0|     0|      0|             1|     0|               0|   0|  0|       1|  0.31299999|  0.51099998| 23.417824|\n",
            "|          candy corn|        0|     0|      0|             0|     0|               0|   0|  0|       1|  0.90600002|  0.32499999| 38.010963|\n",
            "|  caramel apple pops|        0|     1|      1|             0|     0|               0|   0|  0|       0|  0.60399997|  0.32499999| 34.517681|\n",
            "|     charleston chew|        1|     0|      0|             0|     1|               0|   0|  1|       0|  0.60399997|  0.51099998| 38.975037|\n",
            "|chewey lemonhead ...|        0|     1|      0|             0|     0|               0|   0|  0|       1|  0.73199999|  0.51099998| 36.017628|\n",
            "|            chiclets|        0|     1|      0|             0|     0|               0|   0|  0|       1|       0.046|  0.32499999| 24.524988|\n",
            "|                dots|        0|     1|      0|             0|     0|               0|   0|  0|       1|  0.73199999|  0.51099998| 42.272076|\n",
            "|            dum dums|        0|     1|      0|             0|     0|               0|   1|  0|       0|  0.73199999| 0.034000002| 39.460556|\n",
            "|         fruit chews|        0|     1|      0|             0|     0|               0|   0|  0|       1|       0.127| 0.034000002| 43.088924|\n",
            "|             fun dip|        0|     1|      0|             0|     0|               0|   1|  0|       0|  0.73199999|  0.32499999| 39.185505|\n",
            "|          gobstopper|        0|     1|      0|             0|     0|               0|   1|  0|       1|  0.90600002|  0.45300001| 46.783348|\n",
            "|   haribo gold bears|        0|     1|      0|             0|     0|               0|   0|  0|       1|       0.465|       0.465|  57.11974|\n",
            "|   haribo happy cola|        0|     0|      0|             0|     0|               0|   0|  0|       1|       0.465|       0.465| 34.158958|\n",
            "+--------------------+---------+------+-------+--------------+------+----------------+----+---+--------+------------+------------+----------+\n",
            "only showing top 20 rows\n",
            "\n"
          ]
        }
      ]
    },
    {
      "cell_type": "code",
      "metadata": {
        "id": "Ez3gZbpH8KL5"
      },
      "source": [
        "# Create a temporary view. The temp view is a pre-requisite for Spark to allow you to read with sql.\n",
        "candy_data.createOrReplaceTempView('candy')"
      ],
      "execution_count": null,
      "outputs": []
    },
    {
      "cell_type": "code",
      "metadata": {
        "colab": {
          "base_uri": "https://localhost:8080/"
        },
        "id": "rk8t2SqSDHy2",
        "outputId": "1f3209f0-3f2d-4c51-efa6-ac1c9e6402ca"
      },
      "source": [
        "#using sql in Spark just requires you to call spark.sql(<sql>) and showing the data.\n",
        "#here we are peeking at the data using SparkSQL\n",
        "spark.sql(\"select * from candy limit 10\").show()"
      ],
      "execution_count": null,
      "outputs": [
        {
          "output_type": "stream",
          "name": "stdout",
          "text": [
            "+------------------+---------+------+-------+--------------+------+----------------+----+---+--------+------------+------------+----------+\n",
            "|    competitorname|chocolate|fruity|caramel|peanutyalmondy|nougat|crispedricewafer|hard|bar|pluribus|sugarpercent|pricepercent|winpercent|\n",
            "+------------------+---------+------+-------+--------------+------+----------------+----+---+--------+------------+------------+----------+\n",
            "|         100 grand|        1|     0|      1|             0|     0|               1|   0|  1|       0|  0.73199999|  0.86000001| 66.971725|\n",
            "|      3 musketeers|        1|     0|      0|             0|     1|               0|   0|  1|       0|  0.60399997|  0.51099998| 67.602936|\n",
            "|          one dime|        0|     0|      0|             0|     0|               0|   0|  0|       0|       0.011|       0.116| 32.261086|\n",
            "|       one quarter|        0|     0|      0|             0|     0|               0|   0|  0|       0|       0.011|  0.51099998| 46.116505|\n",
            "|         air heads|        0|     1|      0|             0|     0|               0|   0|  0|       0|  0.90600002|  0.51099998| 52.341465|\n",
            "|        almond joy|        1|     0|      0|             1|     0|               0|   0|  1|       0|       0.465|  0.76700002| 50.347546|\n",
            "|         baby ruth|        1|     0|      1|             1|     1|               0|   0|  1|       0|  0.60399997|  0.76700002| 56.914547|\n",
            "|boston baked beans|        0|     0|      0|             1|     0|               0|   0|  0|       1|  0.31299999|  0.51099998| 23.417824|\n",
            "|        candy corn|        0|     0|      0|             0|     0|               0|   0|  0|       1|  0.90600002|  0.32499999| 38.010963|\n",
            "|caramel apple pops|        0|     1|      1|             0|     0|               0|   0|  0|       0|  0.60399997|  0.32499999| 34.517681|\n",
            "+------------------+---------+------+-------+--------------+------+----------------+----+---+--------+------------+------------+----------+\n",
            "\n"
          ]
        }
      ]
    },
    {
      "cell_type": "code",
      "metadata": {
        "colab": {
          "base_uri": "https://localhost:8080/"
        },
        "id": "yKimg3-iDOWN",
        "outputId": "0a813edb-adbe-4c95-accc-341ae8fe7c04"
      },
      "source": [
        "# Get the the first 10 highest \"winpercent\" in desencending order.\n",
        "spark.sql(\"SELECT * FROM candy ORDER BY winpercent DESC LIMIT 10\").show()"
      ],
      "execution_count": null,
      "outputs": [
        {
          "output_type": "stream",
          "name": "stdout",
          "text": [
            "+--------------------+---------+------+-------+--------------+------+----------------+----+---+--------+------------+------------+----------+\n",
            "|      competitorname|chocolate|fruity|caramel|peanutyalmondy|nougat|crispedricewafer|hard|bar|pluribus|sugarpercent|pricepercent|winpercent|\n",
            "+--------------------+---------+------+-------+--------------+------+----------------+----+---+--------+------------+------------+----------+\n",
            "|reeses peanut but...|        1|     0|      0|             1|     0|               0|   0|  0|       0|  0.72000003|  0.65100002|  84.18029|\n",
            "|   reeses miniatures|        1|     0|      0|             1|     0|               0|   0|  0|       0| 0.034000002|  0.27900001| 81.866257|\n",
            "|                twix|        1|     0|      1|             0|     0|               1|   0|  1|       0|       0.546|  0.90600002| 81.642914|\n",
            "|             kit kat|        1|     0|      0|             0|     0|               1|   0|  1|       0|  0.31299999|  0.51099998|   76.7686|\n",
            "|            snickers|        1|     0|      1|             1|     1|               0|   0|  1|       0|       0.546|  0.65100002| 76.673782|\n",
            "|       reeses pieces|        1|     0|      0|             1|     0|               0|   0|  0|       1|  0.40599999|  0.65100002|  73.43499|\n",
            "|           milky way|        1|     0|      1|             0|     1|               0|   0|  1|       0|  0.60399997|  0.65100002| 73.099556|\n",
            "|reeses stuffed wi...|        1|     0|      0|             1|     0|               0|   0|  0|       0|  0.98799998|  0.65100002| 72.887901|\n",
            "|  peanut butter m&ms|        1|     0|      0|             1|     0|               0|   0|  0|       1|  0.82499999|  0.65100002|  71.46505|\n",
            "| nestle butterfinger|        1|     0|      0|             1|     0|               0|   0|  1|       0|  0.60399997|  0.76700002| 70.735641|\n",
            "+--------------------+---------+------+-------+--------------+------+----------------+----+---+--------+------------+------------+----------+\n",
            "\n"
          ]
        }
      ]
    },
    {
      "cell_type": "code",
      "source": [
        "# Get the candies that have chocolate and caramel and order by the lowest sugar percentage.\n",
        "spark.sql(\"SELECT * FROM candy WHERE chocolate==1 AND caramel==1 ORDER BY sugarpercent ASC\").show()"
      ],
      "metadata": {
        "colab": {
          "base_uri": "https://localhost:8080/"
        },
        "id": "1KlR_oVY-JFJ",
        "outputId": "43f6b157-50fa-415b-ec9c-13652c4a5cd2"
      },
      "execution_count": null,
      "outputs": [
        {
          "output_type": "stream",
          "name": "stdout",
          "text": [
            "+--------------------+---------+------+-------+--------------+------+----------------+----+---+--------+------------+------------+----------+\n",
            "|      competitorname|chocolate|fruity|caramel|peanutyalmondy|nougat|crispedricewafer|hard|bar|pluribus|sugarpercent|pricepercent|winpercent|\n",
            "+--------------------+---------+------+-------+--------------+------+----------------+----+---+--------+------------+------------+----------+\n",
            "|           milk duds|        1|     0|      1|             0|     0|               0|   0|  0|       1|  0.30199999|  0.51099998| 55.064072|\n",
            "|            snickers|        1|     0|      1|             1|     1|               0|   0|  1|       0|       0.546|  0.65100002| 76.673782|\n",
            "|                twix|        1|     0|      1|             0|     0|               1|   0|  1|       0|       0.546|  0.90600002| 81.642914|\n",
            "|           baby ruth|        1|     0|      1|             1|     1|               0|   0|  1|       0|  0.60399997|  0.76700002| 56.914547|\n",
            "|           milky way|        1|     0|      1|             0|     1|               0|   0|  1|       0|  0.60399997|  0.65100002| 73.099556|\n",
            "|    snickers crisper|        1|     0|      1|             1|     0|               1|   0|  1|       0|  0.60399997|  0.65100002| 59.529251|\n",
            "|           100 grand|        1|     0|      1|             0|     0|               1|   0|  1|       0|  0.73199999|  0.86000001| 66.971725|\n",
            "|  milky way midnight|        1|     0|      1|             0|     1|               0|   0|  1|       0|  0.73199999|  0.44100001| 60.800701|\n",
            "|                rolo|        1|     0|      1|             0|     0|               0|   0|  0|       1|  0.86000001|  0.86000001| 65.716286|\n",
            "|milky way simply ...|        1|     0|      1|             0|     0|               0|   0|  1|       0|  0.96499997|  0.86000001|  64.35334|\n",
            "+--------------------+---------+------+-------+--------------+------+----------------+----+---+--------+------------+------------+----------+\n",
            "\n"
          ]
        }
      ]
    },
    {
      "cell_type": "code",
      "source": [
        "# Demonstrate how to write a SQL query on multiple lines.\n",
        "query = \"\"\"\n",
        "(SELECT * FROM candy\n",
        "WHERE chocolate==1 AND caramel==1\n",
        "ORDER BY sugarpercent ASC)\n",
        "\"\"\"\n",
        "spark.sql(query).show()"
      ],
      "metadata": {
        "colab": {
          "base_uri": "https://localhost:8080/"
        },
        "id": "mg_TsDu--I6s",
        "outputId": "cbde85ae-c22c-44eb-c36b-4d161f599102"
      },
      "execution_count": null,
      "outputs": [
        {
          "output_type": "stream",
          "name": "stdout",
          "text": [
            "+--------------------+---------+------+-------+--------------+------+----------------+----+---+--------+------------+------------+----------+\n",
            "|      competitorname|chocolate|fruity|caramel|peanutyalmondy|nougat|crispedricewafer|hard|bar|pluribus|sugarpercent|pricepercent|winpercent|\n",
            "+--------------------+---------+------+-------+--------------+------+----------------+----+---+--------+------------+------------+----------+\n",
            "|           milk duds|        1|     0|      1|             0|     0|               0|   0|  0|       1|  0.30199999|  0.51099998| 55.064072|\n",
            "|            snickers|        1|     0|      1|             1|     1|               0|   0|  1|       0|       0.546|  0.65100002| 76.673782|\n",
            "|                twix|        1|     0|      1|             0|     0|               1|   0|  1|       0|       0.546|  0.90600002| 81.642914|\n",
            "|           baby ruth|        1|     0|      1|             1|     1|               0|   0|  1|       0|  0.60399997|  0.76700002| 56.914547|\n",
            "|           milky way|        1|     0|      1|             0|     1|               0|   0|  1|       0|  0.60399997|  0.65100002| 73.099556|\n",
            "|    snickers crisper|        1|     0|      1|             1|     0|               1|   0|  1|       0|  0.60399997|  0.65100002| 59.529251|\n",
            "|           100 grand|        1|     0|      1|             0|     0|               1|   0|  1|       0|  0.73199999|  0.86000001| 66.971725|\n",
            "|  milky way midnight|        1|     0|      1|             0|     1|               0|   0|  1|       0|  0.73199999|  0.44100001| 60.800701|\n",
            "|                rolo|        1|     0|      1|             0|     0|               0|   0|  0|       1|  0.86000001|  0.86000001| 65.716286|\n",
            "|milky way simply ...|        1|     0|      1|             0|     0|               0|   0|  1|       0|  0.96499997|  0.86000001|  64.35334|\n",
            "+--------------------+---------+------+-------+--------------+------+----------------+----+---+--------+------------+------------+----------+\n",
            "\n"
          ]
        }
      ]
    },
    {
      "cell_type": "code",
      "source": [],
      "metadata": {
        "id": "BXIpKEGWBDPQ"
      },
      "execution_count": null,
      "outputs": []
    }
  ]
}