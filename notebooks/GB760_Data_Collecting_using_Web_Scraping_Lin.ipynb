{
 "cells": [
  {
   "cell_type": "markdown",
   "metadata": {
    "id": "5fCEDCU_qrC0"
   },
   "source": [
    "<p><img alt=\"Colaboratory logo\" height=\"45px\" src=\"/img/colab_favicon.ico\" align=\"left\" hspace=\"10px\" vspace=\"0px\"></p>\n",
    "\n",
    "<h1>What is Colaboratory?</h1>\n",
    "\n",
    "Colaboratory, or \"Colab\" for short, allows you to write and execute Python in your browser, with\n",
    "- Zero configuration required\n",
    "- Free access to GPUs\n",
    "- Easy sharing\n",
    "\n",
    "Whether you're a **student**, a **data scientist** or an **AI researcher**, Colab can make your work easier. Just get started below!"
   ]
  },
  {
   "cell_type": "markdown",
   "metadata": {
    "id": "GJBs_flRovLc"
   },
   "source": [
    "## **Getting started**\n",
    "\n",
    "**Save a copy of this document to your Google Drive: Go to the upper left-hand corner of this page, click \"File\" and choose \"Save a copy in Drive\".** You will see a folder named \"Colab Notebooks\" in your Google Drive.\n",
    "\n",
    "The document you are reading is not a static web page, but an interactive environment called a **Colab notebook** that lets you write and execute code.\n",
    "\n",
    "For example, here is a **code cell** with a short Python script that computes a value, stores it in a variable, and prints the result:"
   ]
  },
  {
   "cell_type": "code",
   "execution_count": null,
   "metadata": {
    "id": "gJr_9dXGpJ05"
   },
   "outputs": [
    {
     "data": {
      "text/plain": [
       "86400"
      ]
     },
     "execution_count": 11,
     "metadata": {},
     "output_type": "execute_result"
    }
   ],
   "source": [
    "seconds_in_a_day = 24 * 60 * 60\n",
    "seconds_in_a_day"
   ]
  },
  {
   "cell_type": "markdown",
   "metadata": {
    "id": "2fhs6GZ4qFMx"
   },
   "source": [
    "To execute the code in the above cell, select it with a click and then either press the play button to the left of the code, or use the keyboard shortcut \"Command/Ctrl+Enter\". To edit the code, just click the cell and start editing.\n",
    "\n",
    "Variables that you define in one cell can later be used in other cells:"
   ]
  },
  {
   "cell_type": "code",
   "execution_count": null,
   "metadata": {
    "id": "-gE-Ez1qtyIA"
   },
   "outputs": [
    {
     "data": {
      "text/plain": [
       "604800"
      ]
     },
     "execution_count": 12,
     "metadata": {},
     "output_type": "execute_result"
    }
   ],
   "source": [
    "seconds_in_a_week = 7 * seconds_in_a_day\n",
    "seconds_in_a_week"
   ]
  },
  {
   "cell_type": "markdown",
   "metadata": {
    "id": "Bb3MR0aU--zM"
   },
   "source": [
    "Evaluate a formula =-2^2"
   ]
  },
  {
   "cell_type": "code",
   "execution_count": null,
   "metadata": {
    "id": "xVyIB7h3_TWw"
   },
   "outputs": [
    {
     "data": {
      "text/plain": [
       "-4"
      ]
     },
     "execution_count": 13,
     "metadata": {},
     "output_type": "execute_result"
    }
   ],
   "source": [
    "-2^2"
   ]
  },
  {
   "cell_type": "markdown",
   "metadata": {
    "id": "p3F4qRjC57Pi"
   },
   "source": [
    "Print out something?"
   ]
  },
  {
   "cell_type": "code",
   "execution_count": null,
   "metadata": {
    "id": "WplY2zmu6k7K"
   },
   "outputs": [
    {
     "name": "stdout",
     "output_type": "stream",
     "text": [
      "Hello World!\n"
     ]
    }
   ],
   "source": [
    "print('Hello World!')"
   ]
  },
  {
   "cell_type": "code",
   "execution_count": null,
   "metadata": {
    "id": "ke0W440D6Fdv"
   },
   "outputs": [
    {
     "name": "stdout",
     "output_type": "stream",
     "text": [
      "604800\n"
     ]
    }
   ],
   "source": [
    "print(seconds_in_a_week)"
   ]
  },
  {
   "cell_type": "markdown",
   "metadata": {
    "id": "lSrWNr3MuFUS"
   },
   "source": [
    "Colab notebooks allow you to combine **executable code** and **rich text** in a single document, along with **images**, **HTML**, **LaTeX** and more. When you create your own Colab notebooks, they are stored in your Google Drive account. You can easily share your Colab notebooks with co-workers or friends, allowing them to comment on your notebooks or even edit them."
   ]
  },
  {
   "cell_type": "markdown",
   "metadata": {
    "id": "zvyz1BeQdVKR"
   },
   "source": [
    "## **Let's create a Price Tracker app**\n",
    "You would like to design a price tracker that can help you monitor the price of a product you are interested in. The product (e.g., a gaming laptop) is available from multiple sellers on an e-commerce site (e.g., Amazon)."
   ]
  },
  {
   "cell_type": "markdown",
   "metadata": {
    "id": "daG-z1NPmjpr"
   },
   "source": [
    "**Step 1: Install/ Import the necessary libraries**"
   ]
  },
  {
   "cell_type": "code",
   "execution_count": 7,
   "metadata": {
    "executionInfo": {
     "elapsed": 133,
     "status": "ok",
     "timestamp": 1731364209168,
     "user": {
      "displayName": "Jinan Lin",
      "userId": "16538702255115455582"
     },
     "user_tz": 360
    },
    "id": "nibbeNAXmezE"
   },
   "outputs": [],
   "source": [
    "import bs4\n",
    "from bs4 import BeautifulSoup as bs\n",
    "import requests\n",
    "import pandas as pd"
   ]
  },
  {
   "cell_type": "markdown",
   "metadata": {
    "id": "RN_WVKqKmvt1"
   },
   "source": [
    "**Step 2: Connect to a website and download the page content**"
   ]
  },
  {
   "cell_type": "code",
   "execution_count": 10,
   "metadata": {
    "executionInfo": {
     "elapsed": 519,
     "status": "ok",
     "timestamp": 1731364386741,
     "user": {
      "displayName": "Jinan Lin",
      "userId": "16538702255115455582"
     },
     "user_tz": 360
    },
    "id": "vKpo3klunCt8"
   },
   "outputs": [],
   "source": [
    "# We will be scraping a list of Gaming laptops for sales on Flipkart.com, an Indian e-commerce platform\n",
    "# Please do not scrape the Amazon website in the class. UW IP address might be blocked if we send too many requests to Amazon.com\n",
    "url='https://www.uwbookstore.com/Wisconsin-Badgers/Tech/MacBook'\n",
    "page = requests.get(url)\n",
    "#page.content\n",
    "soup = bs(page.content, 'html.parser')"
   ]
  },
  {
   "cell_type": "code",
   "execution_count": 11,
   "metadata": {
    "colab": {
     "base_uri": "https://localhost:8080/"
    },
    "collapsed": true,
    "executionInfo": {
     "elapsed": 212,
     "status": "ok",
     "timestamp": 1731364389151,
     "user": {
      "displayName": "Jinan Lin",
      "userId": "16538702255115455582"
     },
     "user_tz": 360
    },
    "id": "bcX3Yd6lWHzg",
    "outputId": "d8d595d8-c6e8-406c-857a-e6084094f46d"
   },
   "outputs": [],
   "source": [
    "#page.content"
   ]
  },
  {
   "cell_type": "code",
   "execution_count": 12,
   "metadata": {
    "colab": {
     "base_uri": "https://localhost:8080/"
    },
    "executionInfo": {
     "elapsed": 299,
     "status": "ok",
     "timestamp": 1731364429226,
     "user": {
      "displayName": "Jinan Lin",
      "userId": "16538702255115455582"
     },
     "user_tz": 360
    },
    "id": "R-ZdkogiXIb1",
    "outputId": "fc3c7892-43d6-439f-d7be-63dca394ff45"
   },
   "outputs": [
    {
     "data": {
      "text/plain": [
       "<!DOCTYPE html>\n",
       "<html lang=\"en-US\"><head><title>Just a moment...</title><meta content=\"text/html; charset=utf-8\" http-equiv=\"Content-Type\"/><meta content=\"IE=Edge\" http-equiv=\"X-UA-Compatible\"/><meta content=\"noindex,nofollow\" name=\"robots\"/><meta content=\"width=device-width,initial-scale=1\" name=\"viewport\"/><style>*{box-sizing:border-box;margin:0;padding:0}html{line-height:1.15;-webkit-text-size-adjust:100%;color:#313131;font-family:system-ui,-apple-system,BlinkMacSystemFont,Segoe UI,Roboto,Helvetica Neue,Arial,Noto Sans,sans-serif,Apple Color Emoji,Segoe UI Emoji,Segoe UI Symbol,Noto Color Emoji}body{display:flex;flex-direction:column;height:100vh;min-height:100vh}.main-content{margin:8rem auto;max-width:60rem;padding-left:1.5rem}@media (width <= 720px){.main-content{margin-top:4rem}}.h2{font-size:1.5rem;font-weight:500;line-height:2.25rem}@media (width <= 720px){.h2{font-size:1.25rem;line-height:1.5rem}}#challenge-error-text{background-image:url(data:image/svg+xml;base64,PHN2ZyB4bWxucz0iaHR0cDovL3d3dy53My5vcmcvMjAwMC9zdmciIHdpZHRoPSIzMiIgaGVpZ2h0PSIzMiIgZmlsbD0ibm9uZSI+PHBhdGggZmlsbD0iI0IyMEYwMyIgZD0iTTE2IDNhMTMgMTMgMCAxIDAgMTMgMTNBMTMuMDE1IDEzLjAxNSAwIDAgMCAxNiAzbTAgMjRhMTEgMTEgMCAxIDEgMTEtMTEgMTEuMDEgMTEuMDEgMCAwIDEtMTEgMTEiLz48cGF0aCBmaWxsPSIjQjIwRjAzIiBkPSJNMTcuMDM4IDE4LjYxNUgxNC44N0wxNC41NjMgOS41aDIuNzgzem0tMS4wODQgMS40MjdxLjY2IDAgMS4wNTcuMzg4LjQwNy4zODkuNDA3Ljk5NCAwIC41OTYtLjQwNy45ODQtLjM5Ny4zOS0xLjA1Ny4zODktLjY1IDAtMS4wNTYtLjM4OS0uMzk4LS4zODktLjM5OC0uOTg0IDAtLjU5Ny4zOTgtLjk4NS40MDYtLjM5NyAxLjA1Ni0uMzk3Ii8+PC9zdmc+);background-repeat:no-repeat;background-size:contain;padding-left:34px}@media (prefers-color-scheme:dark){body{background-color:#222;color:#d9d9d9}}</style><meta content=\"390\" http-equiv=\"refresh\"/></head><body class=\"no-js\"><div class=\"main-wrapper\" role=\"main\"><div class=\"main-content\"><noscript><div class=\"h2\"><span id=\"challenge-error-text\">Enable JavaScript and cookies to continue</span></div></noscript></div></div><script>(function(){window._cf_chl_opt={cvId: '3',cZone: \"www.uwbookstore.com\",cType: 'managed',cRay: '8e195b8cebd0111b',cH: 'iXRjwBq..0neYV1mdwjqmcHdIyUDku9y4R9fWInB3rs-1731444241-1.2.1.1-2t9sND4Kd8Q7aFaZZpMWMLrfdnwA4kuzMGJRx_q1HjeHwlnrokfKflJ4uy9EB7U1',cUPMDTk: \"\\/Wisconsin-Badgers\\/Tech\\/MacBook?__cf_chl_tk=NoNzt_rOAPafhdfQ5dL1qLxZdREWoIPq.iHm0igU.Fg-1731444241-1.0.1.1-3jD7BqrohibMmFvHhFT4ORehejv0trYXpFFKsie58jM\",cFPWv: 'b',cITimeS: '1731444241',cTTimeMs: '1000',cMTimeMs: '390000',cTplC: 0,cTplV: 5,cTplB: 'cf',cK: \"\",fa: \"\\/Wisconsin-Badgers\\/Tech\\/MacBook?__cf_chl_f_tk=NoNzt_rOAPafhdfQ5dL1qLxZdREWoIPq.iHm0igU.Fg-1731444241-1.0.1.1-3jD7BqrohibMmFvHhFT4ORehejv0trYXpFFKsie58jM\",md: \"vLQO.Jt5iqSSeSQujXQ60Tt8c.uByyfLNnWp1fs.Jzs-1731444241-1.2.1.1-Lgs7kQBqySt9m4JfQLev4qFqsgCVEaUfgJlGH9iNtikeMJ1wotBCHw0TZHDuVEBr1XoWFqJPceSlcsi355VDhow5tTMv_AzZf0ZmOq_NneNlwkBp_gikL6GXvflYz8jUo7xAWOWnTx1phC9xjy02WJ_dlDd0XZx6xN52vaUFI_9hFhsXR47PHVUuAMRjkeACHmODrmEuRxJJ1WcYEOkxYhx906H7wHmzx74ErZaqrcUc31SKmmCM1ynrPGlgjNDidVoSmhQ_pJN.GKtI4Wyh6xQH8w6cx3Fs8gN1..XzO5SaBmwds_bfxKIDTzafILJF_4SBrXDPPhwfdmTWEsz6_Vhp9L5ghRjEVAUwtmPQ5qLLdXZG2fV_t6lTqY7YQ0CtJ.pvqJjMct8gEoqqyV5o1EYeYwpg1vRGwcG_xHoba0E4CuH7NPErdAzl8hUtwUOAKgpUOinUnGEZeuUB97BlDUSSa3Ytr2u5Vetk1u8VcKWib3Wf7x1X9mNsPjyGdhM15O9sufBYOypHyPTIpcuelq_1MPqTBg.b7FZMonTQ0SFWT0hA8OlMIl3UV4XZ8OUa6pjPF00NZ1npz2Ydir7M_BtHdRaQkCsrE9RZkLwE7RKdD20B.s7bLGm6LLoKrTIjM_.mM56TBrS2iHGA9KZ8y1eS4BPDdsamrrC1fT2mXeINRWUCm9b1RHsuY2.Gy_95F9DZSmhjNm7lOqlQOlnd4f7YpBsQz3Jam1MS4kIfs07_9Qace4hhNWs1cBQgHScQWIa2anN.pyXbOkOJvHhOg3o17WhhaGhTDxHOsodTfxUG0qJrCbZyBduDXDkUw4QbxHf2NNpkn2E460304jrqJTYwgJPzdSltBTc19uM8boWDEwWTy7H_B2L9u6DUav9sdKaNgez9R6gJbZE_nYkyJsRym5QRHHm5yovZr00jjdYHJhNLOvQQ0QsEo4Z3DTEPqosA2aevkYq8BpAdG7XaZSpvw5CsAbtGtO7DokK.CVXLvsAkT97NXd3rPLdJj3l4AYnM7IJFNPN.46WmPT9Mo_c2nqEWiFojMkoqlur9yMxQVxaocjhFaXtXVwN_NcUqpWR98.QX42jqztDgwvrzidZmR_qB1HTf1Sr10g7rlHui5s9nZC_ESgUedc9Wru1C93bkmwUnxaYW3.YLSayMosI5nl9Pv3WBAMNn8FskgSa61_Ok5iq6rH3jih466i1Nd2urJMPBfkAxvFiA4D8S4qedswC5cmajCyDp213JXT9vFSH0w0UQokqzkpqEIuwNtTesHZ_vID5qlNmdl4XjHdE73SV8s5qOhklNAbq6wh1G4qV__fnG8QrCMrp7F1AZVi0Syvr0U7Fp_rkEKiYSwwdQ1mM.vtoHnyZXQrGDHBfSwnWUOomwf6Q6Jk5IOlgLI2xod6SWf8kkFSx6IZEXBDqXFFWxnEFyHa5c4x1PZsVz71c1MS2_q4AclgOc96PbqqGoQt5QvOTR2kB8QRl.up9VBNganq.O5wsfDbRn5fHzztUGXBbh22CXF6uZzRxfmHhBvgcqzYNaJ30YKnrIErDHoWHj6L3CbM9RJIqQRTnVGu2M3red_fX3DqGn8CLq9VodBZ0ZESxqxL_RR.MN5tPBLyO_JnwN60hQA.6wdsXQa.MVBrLCZxpz_uN3itDTF8GV4nGdoby63Z4ah7HXyD6PepKB4S8zFSJGTd5G6xL1ySTUmwL6eYf.Q6jWngyDjmhxYf4HU89_0S983jPigybpqITZ.Rcg4wrEAYcupyrY3c1t8DhtBsQE3TlyknTcIF9T1S2aH6jXeUILjHnbSGEpkfhm2_fwujQ01wh0lbqFhkAN56jwNcsdBIXjyO0uPMkej37Ty5URwy79lTzaw7g2P2DDKt1yDM4XW0hbj3ox72rZxivpx1PTrZ49UIAZgg.scZtIFhGcYkR2ecRw16Ps_0.i3qH2w.eytYOThWNq6qwZ83H7gSPEdWOqe1Z9vGwnJ.LTuCjpB.amP4nh9M0iTUlQh_CNBhwEflJCyT70mUVvodb1BRZb5G9kHgBvwO5uVU4pHaA0JPnM_l5NxVrlgkPvw9DQVnnz_SqxYDfEB8r82mL.C8oXiIi8VpOFgsvr.XoRmdI.kuHL4OB2oCf_0hnA6XgYCpoa0Ps3Ssoj90TkhTkF7rhZ0FD9AFRHdlOC_0QLkwIgeLm8qEiPyYCv.aozyPSMsydm99IWrGhR_Z6kyvjRZHVt6azesqqRnfs6ucn3Qf_AazFzIgz_Chy7_0jkg7l_u44c9YiggfqMgLtX2OEd9VALaohE801tNoy2TzYTHC2zAYv5rrAO_g\",mdrd: \"MptGDczcNbmZUb3IMlV7xU2i0jEvryOqCn3OV0hWPB0-1731444241-1.2.1.1-QUL8xf2mqin.d87NyLxntvHD3Ph0OcdJL0QvCcgPoIaHR78KZlHIi1WID2aqOc6CBHxMmQ5mVhlxv7xaLrLFvw_ZIDioUuc3f0skSApxzGAMhOrsH8nGjcO_KMt1KPi33dd2W3iCC.lrWUCoEp3JOkuMvdoEd8eDNyJqd91GaleBxXwBnYnpNK3jxbEZvnUt9hQdBI091FULd0E5EKvqi6ECIzZkwoQ7GeLJ4oMoy1poQ8qaNk0aVANvBrtb3s1bLUFK5xMeJxavwQOpKOQa.h6UUSwGVzCSXLalVzl9pXsQfslk1.vQJydUm.7lns0S7boei3Tdz5ABHZJ7PEfl_3Rq6vQflC2JsEIrjBwFxjqRqJbOUd3ZbIr2hzqyo2JdPzTOG570kK2l8hIkDOZJ5FFwfzyHQ66kbccHece6usIp_jzZD5X2wgqLmhlp3UUROvcskRBO8jOIuOF3_X0xf_asxWh1RZaaft8F5meCWXM6OSiVFKMlyOcjLmDCGlHKpYU0SfVf_bTUdeXaj4JXy5n5NCcfdafsF0aD0vrvuY9cbMEbxuazYXWMSVPOIBJP5hulXceRNcL0Y6cLQa_bB07MChle9HQFrC6VMyW0Cr80Pc4AQ1mhYEOCXqoEaMsR18RW9sv3xXBaCfMs7abZStJOhgXXBMv5vlM8E5lqLT.hXVgaxpGzSpwlZiCE4HVxpWHSp1iOAtbeRadFMt4vlZYE6UelQDaiABnX2uykP179G_PzcOnnhrZ6ccMnyUOVuh6qMHofb2zDYbgna2RHJ08miS77xU6hqHCUEEr1rUYi7wzuzkdAhdf.s1CyQWLsOI7LFA_IucE_2Kp6UEX.HVy.ZWiGMv9ruKj35FJeK.BqSi.fkzail7M9dXiUPBYRdkJFZbi8kxLG1D1FIH1SNYtpD2a13Wisa17XoZ34nmrZAOkz2QzuK17pdz4SQSW8u5funjbiShRs.ZU.l_aoLOiZyCYQVr6jcjz8ZUFGY2bDvYe1dsUoyW_XB5D8JrqQXy2ce6XPYamES.LmFN_fM4gR899e_lbBeNF1bKett35RlGJ5LXsv0EYtz9kfyLXHBn12KCax02zPyL54dqQ.sroP6jBdjAJr0qo0MHNHmXZbrkhFpl1eSVmdD9qkYSH6iByideNTVSkDr4fwYr66VGPP8kFHyTJ67RKJuadier.kVnLc3W0qeYj5mvXPeD.WNn6mMuNK9l8PLENu4BuN7dKNLQX8C1VO1r3hVX.HxT_DDm2ODp5rHubmZ.VR.Wai6skgoHH_LqZKCeE26qBBRHmaL2I7f2IfJlRFicOwTylgZJYRIJjyjf6hCQr.MFjw8Bb6Nb.exXQViN4vISP2NR7wN1T.aFZCGYEMk2HyRMeVt7kcnZn0FHZU4aUoouaow9O2FJrSPCM.ff.00dFa8hY.4wNWQ58_lIYXs5nxwMQGP4jI0OE2GvoVysF2tSRYs3lTe5NtXXeV714kzuYwo74yEH_8X6pxvCXZrtcEtVZrDU3zoIXHnuA15F4Av9wQ7BFuzHQXjDjj1f1eE6FbuTv5o9xZHGT.mmBUPqJNyc9Yfwme.n5h04FmHv2eoX3YD34uLMJ8odX22G6.pRVIZXcDAqKDniq_zMKEu5PuZE.ZK9A0bhLouomP9vr_Mytxwh9MLHbK56QJ8b9P2on5OxhaEtOPijIpE7qVr3brXnmTkkDP0tQtYhGfDCbvpqLAKB_J4RAsIUffnuio92CDhXVLMF99Jxm7i92iGE9tgUD_QbCKaSKm1ElLY375GFg1zKu6f6ij9rxo0YEf9mB3vKHBjeFI6h7CCJL4vS7WRNw5t.6JcvDqjW3fKtI3hj9k5EQ5wEZkntaVh59Qi3SFEJUTSohlpP8AVcSegY_wFLO5A1HUH9zngl3SsEQTjhXkYURY031xAXCiNj008hDprhKSIsUwLinE1btzHRYfsXrpbswJaROBDkGUbuocN4cQ7e41NR2dhpkOuoNcIwhynYhFPZQT.d.A7izOW3F021gOTsrppD6LDADF57iAOqEEB2TN8vDNVM6oQswxVh3HdW3noJWU3VSI5u4HKg3M4uuAt3vlSFPxEZmt3JdNSCuB44hsi0glX4SCryZv_pHYO81lADahGAXcrHVN0S.i_fugbiztiGk.zyYSdgr5aOH65es9z63fffjAK4kVziSGeAaTALA7DA4p1pmPFpkLHjoWcZ3PxLsmrO.w3veq4HFRj16QpPNHM8ljNcNOacm_MQ\"};var cpo = document.createElement('script');cpo.src = '/cdn-cgi/challenge-platform/h/b/orchestrate/chl_page/v1?ray=8e195b8cebd0111b';window._cf_chl_opt.cOgUHash = location.hash === '' && location.href.indexOf('#') !== -1 ? '#' : location.hash;window._cf_chl_opt.cOgUQuery = location.search === '' && location.href.slice(0, location.href.length - window._cf_chl_opt.cOgUHash.length).indexOf('?') !== -1 ? '?' : location.search;if (window.history && window.history.replaceState) {var ogU = location.pathname + window._cf_chl_opt.cOgUQuery + window._cf_chl_opt.cOgUHash;history.replaceState(null, null, \"\\/Wisconsin-Badgers\\/Tech\\/MacBook?__cf_chl_rt_tk=NoNzt_rOAPafhdfQ5dL1qLxZdREWoIPq.iHm0igU.Fg-1731444241-1.0.1.1-3jD7BqrohibMmFvHhFT4ORehejv0trYXpFFKsie58jM\" + window._cf_chl_opt.cOgUHash);cpo.onload = function() {history.replaceState(null, null, ogU);}}document.getElementsByTagName('head')[0].appendChild(cpo);}());</script></body></html>"
      ]
     },
     "execution_count": 19,
     "metadata": {},
     "output_type": "execute_result"
    }
   ],
   "source": [
    "soup"
   ]
  },
  {
   "cell_type": "markdown",
   "metadata": {
    "id": "Wq-2uuF0Mjnb"
   },
   "source": [
    "**Step 3: Retrieve data of interests**"
   ]
  },
  {
   "cell_type": "code",
   "execution_count": 21,
   "metadata": {
    "colab": {
     "base_uri": "https://localhost:8080/"
    },
    "executionInfo": {
     "elapsed": 155,
     "status": "ok",
     "timestamp": 1731365274020,
     "user": {
      "displayName": "Jinan Lin",
      "userId": "16538702255115455582"
     },
     "user_tz": 360
    },
    "id": "72CL1eg2Zr9N",
    "outputId": "fb5db766-b44f-4ec7-f0d3-871ea23f3353"
   },
   "outputs": [
    {
     "data": {
      "text/plain": [
       "[]"
      ]
     },
     "execution_count": 20,
     "metadata": {},
     "output_type": "execute_result"
    }
   ],
   "source": [
    "merchsku = soup.findAll('span',class_='merchSKU')\n",
    "merchsku"
   ]
  },
  {
   "cell_type": "code",
   "execution_count": 25,
   "metadata": {
    "colab": {
     "base_uri": "https://localhost:8080/"
    },
    "executionInfo": {
     "elapsed": 130,
     "status": "ok",
     "timestamp": 1731365799708,
     "user": {
      "displayName": "Jinan Lin",
      "userId": "16538702255115455582"
     },
     "user_tz": 360
    },
    "id": "y3uxp3pWaByu",
    "outputId": "afce3163-8610-48b9-ed02-5451fd6167f6"
   },
   "outputs": [
    {
     "name": "stdout",
     "output_type": "stream",
     "text": [
      "19425308276       \n",
      "19594989902       \n",
      "19594989947       \n",
      "19594989992       \n",
      "19594990037       \n",
      "19594912417       \n",
      "19594912511       \n",
      "19594912605       \n",
      "19594912464       \n",
      "19594990103       \n",
      "19594990149       \n",
      "19594990195       \n"
     ]
    }
   ],
   "source": [
    "product_id_list=[]\n",
    "for sku in merchsku:\n",
    "  skunum = sku.text\n",
    "  product_id_list.append(skunum)\n",
    "  print(skunum)"
   ]
  },
  {
   "cell_type": "code",
   "execution_count": 26,
   "metadata": {
    "colab": {
     "base_uri": "https://localhost:8080/"
    },
    "executionInfo": {
     "elapsed": 133,
     "status": "ok",
     "timestamp": 1731365801613,
     "user": {
      "displayName": "Jinan Lin",
      "userId": "16538702255115455582"
     },
     "user_tz": 360
    },
    "id": "xYx5Tr8tapQo",
    "outputId": "96ed3f7e-0205-474f-caf7-2e1d49fedebc"
   },
   "outputs": [
    {
     "name": "stdout",
     "output_type": "stream",
     "text": [
      "MacBook Air 13\" M2; 8GB Memory; 512GB SSD (Starlight)\n",
      "MacBook Air 13\" M2; 16GB; 256GB SSD (Space Gray)\n",
      "MacBook Air 13\" M2; 16GB; 256GB SSD (Silver)\n",
      "MacBook Air 13\" M2; 16GB; 256GB SSD (Starlight)\n",
      "MacBook Air 13\" M2; 16GB; 256GB SSD (Midnight)\n",
      "MacBook Air 13\" M3; 8GB Memory; 256GB SSD (Space Gray)\n",
      "MacBook Air 13\" M3; 8GB Memory; 256GB SSD (Silver)\n",
      "MacBook Air 13\" M3; 8GB Memory; 256GB SSD (Starlight)\n",
      "MacBook Air 13\" M3; 8GB Memory; 512GB SSD (Space Gray)\n",
      "MacBook Air 13\" M3; 16GB; 256GB SSD (Space Gray)\n",
      "MacBook Air 13\" M3; 16GB; 256GB SSD (Silver)\n",
      "MacBook Air 13\" M3; 16GB; 256GB SSD (Starlight)\n"
     ]
    }
   ],
   "source": [
    "product_name_list = []\n",
    "merchtitle = soup.findAll('p',class_='merchTitle')\n",
    "for title in merchtitle:\n",
    "    itemtitle = title.text\n",
    "    product_name_list.append(itemtitle)\n",
    "    print(itemtitle)"
   ]
  },
  {
   "cell_type": "code",
   "execution_count": 27,
   "metadata": {
    "colab": {
     "base_uri": "https://localhost:8080/"
    },
    "executionInfo": {
     "elapsed": 157,
     "status": "ok",
     "timestamp": 1731365803597,
     "user": {
      "displayName": "Jinan Lin",
      "userId": "16538702255115455582"
     },
     "user_tz": 360
    },
    "id": "YKo3Fan4bQnp",
    "outputId": "094dd3c1-5290-4220-aec5-461b9b1c9808"
   },
   "outputs": [
    {
     "name": "stdout",
     "output_type": "stream",
     "text": [
      "$1,099.00\n",
      "$899.00\n",
      "$899.00\n",
      "$899.00\n",
      "$899.00\n",
      "$999.00\n",
      "$999.00\n",
      "$999.00\n",
      "$1,199.00\n",
      "$999.00\n",
      "$999.00\n",
      "$999.00\n"
     ]
    }
   ],
   "source": [
    "price_list=[]\n",
    "merchprice = soup.findAll('span',class_='merchPriceCurrent')\n",
    "for price in merchprice:\n",
    "    currentprice = price.text\n",
    "    price_list.append(currentprice)\n",
    "    print(currentprice)"
   ]
  },
  {
   "cell_type": "code",
   "execution_count": null,
   "metadata": {
    "id": "OYqihIZonKGd"
   },
   "outputs": [],
   "source": [
    "# Create several lists to stores the data we are interested for each product\n",
    "# Data includes product name, price, and product number"
   ]
  },
  {
   "cell_type": "code",
   "execution_count": 37,
   "metadata": {
    "colab": {
     "base_uri": "https://localhost:8080/"
    },
    "executionInfo": {
     "elapsed": 125,
     "status": "ok",
     "timestamp": 1731366649422,
     "user": {
      "displayName": "Jinan Lin",
      "userId": "16538702255115455582"
     },
     "user_tz": 360
    },
    "id": "VyBB7XkFdsiR",
    "outputId": "e1e151d2-8060-4c80-e194-7218f256f332"
   },
   "outputs": [
    {
     "data": {
      "text/plain": [
       "[<img alt='Image For MacBook Air 13\" M2; 8GB Memory; 512GB SSD (Starlight)' class=\"merchImage img-responsive\" src=\"/storeimages/177-1766043-1.png\" width=\"200\"/>,\n",
       " <img alt='Image For MacBook Air 13\" M2; 16GB; 256GB SSD (Space Gray)' class=\"merchImage img-responsive\" src=\"/storeimages/177-1872303-1.png\" width=\"200\"/>,\n",
       " <img alt='Image For MacBook Air 13\" M2; 16GB; 256GB SSD (Silver)' class=\"merchImage img-responsive\" src=\"/storeimages/177-1872306-1.png\" width=\"200\"/>,\n",
       " <img alt='Image For MacBook Air 13\" M2; 16GB; 256GB SSD (Starlight)' class=\"merchImage img-responsive\" src=\"/storeimages/177-1872309-1.png\" width=\"200\"/>,\n",
       " <img alt='Image For MacBook Air 13\" M2; 16GB; 256GB SSD (Midnight)' class=\"merchImage img-responsive\" src=\"/storeimages/177-1872312-1.png\" width=\"200\"/>,\n",
       " <img alt='Image For MacBook Air 13\" M3; 8GB Memory; 256GB SSD (Space Gray)' class=\"merchImage img-responsive\" src=\"/storeimages/177-1852252-4.png\" width=\"200\"/>,\n",
       " <img alt='Image For MacBook Air 13\" M3; 8GB Memory; 256GB SSD (Silver)' class=\"merchImage img-responsive\" src=\"/storeimages/177-1852255-4.png\" width=\"200\"/>,\n",
       " <img alt='Image For MacBook Air 13\" M3; 8GB Memory; 256GB SSD (Starlight)' class=\"merchImage img-responsive\" src=\"/storeimages/177-1852258-4.png\" width=\"200\"/>,\n",
       " <img alt='Image For MacBook Air 13\" M3; 8GB Memory; 512GB SSD (Space Gray)' class=\"merchImage img-responsive\" src=\"/storeimages/177-1852264-4.png\" width=\"200\"/>,\n",
       " <img alt='Image For MacBook Air 13\" M3; 16GB; 256GB SSD (Space Gray)' class=\"merchImage img-responsive\" src=\"/storeimages/177-1872122-1.png\" width=\"200\"/>,\n",
       " <img alt='Image For MacBook Air 13\" M3; 16GB; 256GB SSD (Silver)' class=\"merchImage img-responsive\" src=\"/storeimages/177-1872125-1.png\" width=\"200\"/>,\n",
       " <img alt='Image For MacBook Air 13\" M3; 16GB; 256GB SSD (Starlight)' class=\"merchImage img-responsive\" src=\"/storeimages/177-1872128-1.png\" width=\"200\"/>]"
      ]
     },
     "execution_count": 37,
     "metadata": {},
     "output_type": "execute_result"
    }
   ],
   "source": [
    "image_list=[]\n",
    "image = soup.findAll('img', class_ = 'merchImage')\n",
    "image"
   ]
  },
  {
   "cell_type": "code",
   "execution_count": 38,
   "metadata": {
    "colab": {
     "base_uri": "https://localhost:8080/"
    },
    "executionInfo": {
     "elapsed": 137,
     "status": "ok",
     "timestamp": 1731366731484,
     "user": {
      "displayName": "Jinan Lin",
      "userId": "16538702255115455582"
     },
     "user_tz": 360
    },
    "id": "CsbQ-vuVeF71",
    "outputId": "f048b1fd-fdfa-423b-d5be-69709977c9fc"
   },
   "outputs": [
    {
     "name": "stdout",
     "output_type": "stream",
     "text": [
      "www.uwbookstore.com//storeimages/177-1766043-1.png\n",
      "www.uwbookstore.com//storeimages/177-1872303-1.png\n",
      "www.uwbookstore.com//storeimages/177-1872306-1.png\n",
      "www.uwbookstore.com//storeimages/177-1872309-1.png\n",
      "www.uwbookstore.com//storeimages/177-1872312-1.png\n",
      "www.uwbookstore.com//storeimages/177-1852252-4.png\n",
      "www.uwbookstore.com//storeimages/177-1852255-4.png\n",
      "www.uwbookstore.com//storeimages/177-1852258-4.png\n",
      "www.uwbookstore.com//storeimages/177-1852264-4.png\n",
      "www.uwbookstore.com//storeimages/177-1872122-1.png\n",
      "www.uwbookstore.com//storeimages/177-1872125-1.png\n",
      "www.uwbookstore.com//storeimages/177-1872128-1.png\n"
     ]
    }
   ],
   "source": [
    "for im in image:\n",
    "  link = 'www.uwbookstore.com/' + im.get('src')\n",
    "  image_list.append(link)\n",
    "  print(link)"
   ]
  },
  {
   "cell_type": "markdown",
   "metadata": {
    "id": "c6KalA9rdmpT"
   },
   "source": [
    "**Step 4: Create a data frame to store all product information**"
   ]
  },
  {
   "cell_type": "code",
   "execution_count": 39,
   "metadata": {
    "colab": {
     "base_uri": "https://localhost:8080/",
     "height": 426
    },
    "executionInfo": {
     "elapsed": 126,
     "status": "ok",
     "timestamp": 1731366780078,
     "user": {
      "displayName": "Jinan Lin",
      "userId": "16538702255115455582"
     },
     "user_tz": 360
    },
    "id": "jDCIw0BIrQ7q",
    "outputId": "a40b757c-8db0-4afe-cfd2-0969e1d8fa60"
   },
   "outputs": [
    {
     "data": {
      "application/vnd.google.colaboratory.intrinsic+json": {
       "summary": "{\n  \"name\": \"df\",\n  \"rows\": 12,\n  \"fields\": [\n    {\n      \"column\": \"Product\",\n      \"properties\": {\n        \"dtype\": \"string\",\n        \"num_unique_values\": 12,\n        \"samples\": [\n          \"MacBook Air 13\\\" M3; 16GB; 256GB SSD (Silver)\",\n          \"MacBook Air 13\\\" M3; 16GB; 256GB SSD (Space Gray)\",\n          \"MacBook Air 13\\\" M2; 8GB Memory; 512GB SSD (Starlight)\"\n        ],\n        \"semantic_type\": \"\",\n        \"description\": \"\"\n      }\n    },\n    {\n      \"column\": \"ID\",\n      \"properties\": {\n        \"dtype\": \"string\",\n        \"num_unique_values\": 12,\n        \"samples\": [\n          \"19594990149       \",\n          \"19594990103       \",\n          \"19425308276       \"\n        ],\n        \"semantic_type\": \"\",\n        \"description\": \"\"\n      }\n    },\n    {\n      \"column\": \"Price\",\n      \"properties\": {\n        \"dtype\": \"category\",\n        \"num_unique_values\": 4,\n        \"samples\": [\n          \"$899.00\",\n          \"$1,199.00\",\n          \"$1,099.00\"\n        ],\n        \"semantic_type\": \"\",\n        \"description\": \"\"\n      }\n    },\n    {\n      \"column\": \"ImageURL\",\n      \"properties\": {\n        \"dtype\": \"string\",\n        \"num_unique_values\": 12,\n        \"samples\": [\n          \"www.uwbookstore.com//storeimages/177-1872125-1.png\",\n          \"www.uwbookstore.com//storeimages/177-1872122-1.png\",\n          \"www.uwbookstore.com//storeimages/177-1766043-1.png\"\n        ],\n        \"semantic_type\": \"\",\n        \"description\": \"\"\n      }\n    }\n  ]\n}",
       "type": "dataframe",
       "variable_name": "df"
      },
      "text/html": [
       "\n",
       "  <div id=\"df-e80dd50a-ccf4-404a-848b-d8bb73af164b\" class=\"colab-df-container\">\n",
       "    <div>\n",
       "<style scoped>\n",
       "    .dataframe tbody tr th:only-of-type {\n",
       "        vertical-align: middle;\n",
       "    }\n",
       "\n",
       "    .dataframe tbody tr th {\n",
       "        vertical-align: top;\n",
       "    }\n",
       "\n",
       "    .dataframe thead th {\n",
       "        text-align: right;\n",
       "    }\n",
       "</style>\n",
       "<table border=\"1\" class=\"dataframe\">\n",
       "  <thead>\n",
       "    <tr style=\"text-align: right;\">\n",
       "      <th></th>\n",
       "      <th>Product</th>\n",
       "      <th>ID</th>\n",
       "      <th>Price</th>\n",
       "      <th>ImageURL</th>\n",
       "    </tr>\n",
       "  </thead>\n",
       "  <tbody>\n",
       "    <tr>\n",
       "      <th>0</th>\n",
       "      <td>MacBook Air 13\" M2; 8GB Memory; 512GB SSD (Sta...</td>\n",
       "      <td>19425308276</td>\n",
       "      <td>$1,099.00</td>\n",
       "      <td>www.uwbookstore.com//storeimages/177-1766043-1...</td>\n",
       "    </tr>\n",
       "    <tr>\n",
       "      <th>1</th>\n",
       "      <td>MacBook Air 13\" M2; 16GB; 256GB SSD (Space Gray)</td>\n",
       "      <td>19594989902</td>\n",
       "      <td>$899.00</td>\n",
       "      <td>www.uwbookstore.com//storeimages/177-1872303-1...</td>\n",
       "    </tr>\n",
       "    <tr>\n",
       "      <th>2</th>\n",
       "      <td>MacBook Air 13\" M2; 16GB; 256GB SSD (Silver)</td>\n",
       "      <td>19594989947</td>\n",
       "      <td>$899.00</td>\n",
       "      <td>www.uwbookstore.com//storeimages/177-1872306-1...</td>\n",
       "    </tr>\n",
       "    <tr>\n",
       "      <th>3</th>\n",
       "      <td>MacBook Air 13\" M2; 16GB; 256GB SSD (Starlight)</td>\n",
       "      <td>19594989992</td>\n",
       "      <td>$899.00</td>\n",
       "      <td>www.uwbookstore.com//storeimages/177-1872309-1...</td>\n",
       "    </tr>\n",
       "    <tr>\n",
       "      <th>4</th>\n",
       "      <td>MacBook Air 13\" M2; 16GB; 256GB SSD (Midnight)</td>\n",
       "      <td>19594990037</td>\n",
       "      <td>$899.00</td>\n",
       "      <td>www.uwbookstore.com//storeimages/177-1872312-1...</td>\n",
       "    </tr>\n",
       "    <tr>\n",
       "      <th>5</th>\n",
       "      <td>MacBook Air 13\" M3; 8GB Memory; 256GB SSD (Spa...</td>\n",
       "      <td>19594912417</td>\n",
       "      <td>$999.00</td>\n",
       "      <td>www.uwbookstore.com//storeimages/177-1852252-4...</td>\n",
       "    </tr>\n",
       "    <tr>\n",
       "      <th>6</th>\n",
       "      <td>MacBook Air 13\" M3; 8GB Memory; 256GB SSD (Sil...</td>\n",
       "      <td>19594912511</td>\n",
       "      <td>$999.00</td>\n",
       "      <td>www.uwbookstore.com//storeimages/177-1852255-4...</td>\n",
       "    </tr>\n",
       "    <tr>\n",
       "      <th>7</th>\n",
       "      <td>MacBook Air 13\" M3; 8GB Memory; 256GB SSD (Sta...</td>\n",
       "      <td>19594912605</td>\n",
       "      <td>$999.00</td>\n",
       "      <td>www.uwbookstore.com//storeimages/177-1852258-4...</td>\n",
       "    </tr>\n",
       "    <tr>\n",
       "      <th>8</th>\n",
       "      <td>MacBook Air 13\" M3; 8GB Memory; 512GB SSD (Spa...</td>\n",
       "      <td>19594912464</td>\n",
       "      <td>$1,199.00</td>\n",
       "      <td>www.uwbookstore.com//storeimages/177-1852264-4...</td>\n",
       "    </tr>\n",
       "    <tr>\n",
       "      <th>9</th>\n",
       "      <td>MacBook Air 13\" M3; 16GB; 256GB SSD (Space Gray)</td>\n",
       "      <td>19594990103</td>\n",
       "      <td>$999.00</td>\n",
       "      <td>www.uwbookstore.com//storeimages/177-1872122-1...</td>\n",
       "    </tr>\n",
       "    <tr>\n",
       "      <th>10</th>\n",
       "      <td>MacBook Air 13\" M3; 16GB; 256GB SSD (Silver)</td>\n",
       "      <td>19594990149</td>\n",
       "      <td>$999.00</td>\n",
       "      <td>www.uwbookstore.com//storeimages/177-1872125-1...</td>\n",
       "    </tr>\n",
       "    <tr>\n",
       "      <th>11</th>\n",
       "      <td>MacBook Air 13\" M3; 16GB; 256GB SSD (Starlight)</td>\n",
       "      <td>19594990195</td>\n",
       "      <td>$999.00</td>\n",
       "      <td>www.uwbookstore.com//storeimages/177-1872128-1...</td>\n",
       "    </tr>\n",
       "  </tbody>\n",
       "</table>\n",
       "</div>\n",
       "    <div class=\"colab-df-buttons\">\n",
       "\n",
       "  <div class=\"colab-df-container\">\n",
       "    <button class=\"colab-df-convert\" onclick=\"convertToInteractive('df-e80dd50a-ccf4-404a-848b-d8bb73af164b')\"\n",
       "            title=\"Convert this dataframe to an interactive table.\"\n",
       "            style=\"display:none;\">\n",
       "\n",
       "  <svg xmlns=\"http://www.w3.org/2000/svg\" height=\"24px\" viewBox=\"0 -960 960 960\">\n",
       "    <path d=\"M120-120v-720h720v720H120Zm60-500h600v-160H180v160Zm220 220h160v-160H400v160Zm0 220h160v-160H400v160ZM180-400h160v-160H180v160Zm440 0h160v-160H620v160ZM180-180h160v-160H180v160Zm440 0h160v-160H620v160Z\"/>\n",
       "  </svg>\n",
       "    </button>\n",
       "\n",
       "  <style>\n",
       "    .colab-df-container {\n",
       "      display:flex;\n",
       "      gap: 12px;\n",
       "    }\n",
       "\n",
       "    .colab-df-convert {\n",
       "      background-color: #E8F0FE;\n",
       "      border: none;\n",
       "      border-radius: 50%;\n",
       "      cursor: pointer;\n",
       "      display: none;\n",
       "      fill: #1967D2;\n",
       "      height: 32px;\n",
       "      padding: 0 0 0 0;\n",
       "      width: 32px;\n",
       "    }\n",
       "\n",
       "    .colab-df-convert:hover {\n",
       "      background-color: #E2EBFA;\n",
       "      box-shadow: 0px 1px 2px rgba(60, 64, 67, 0.3), 0px 1px 3px 1px rgba(60, 64, 67, 0.15);\n",
       "      fill: #174EA6;\n",
       "    }\n",
       "\n",
       "    .colab-df-buttons div {\n",
       "      margin-bottom: 4px;\n",
       "    }\n",
       "\n",
       "    [theme=dark] .colab-df-convert {\n",
       "      background-color: #3B4455;\n",
       "      fill: #D2E3FC;\n",
       "    }\n",
       "\n",
       "    [theme=dark] .colab-df-convert:hover {\n",
       "      background-color: #434B5C;\n",
       "      box-shadow: 0px 1px 3px 1px rgba(0, 0, 0, 0.15);\n",
       "      filter: drop-shadow(0px 1px 2px rgba(0, 0, 0, 0.3));\n",
       "      fill: #FFFFFF;\n",
       "    }\n",
       "  </style>\n",
       "\n",
       "    <script>\n",
       "      const buttonEl =\n",
       "        document.querySelector('#df-e80dd50a-ccf4-404a-848b-d8bb73af164b button.colab-df-convert');\n",
       "      buttonEl.style.display =\n",
       "        google.colab.kernel.accessAllowed ? 'block' : 'none';\n",
       "\n",
       "      async function convertToInteractive(key) {\n",
       "        const element = document.querySelector('#df-e80dd50a-ccf4-404a-848b-d8bb73af164b');\n",
       "        const dataTable =\n",
       "          await google.colab.kernel.invokeFunction('convertToInteractive',\n",
       "                                                    [key], {});\n",
       "        if (!dataTable) return;\n",
       "\n",
       "        const docLinkHtml = 'Like what you see? Visit the ' +\n",
       "          '<a target=\"_blank\" href=https://colab.research.google.com/notebooks/data_table.ipynb>data table notebook</a>'\n",
       "          + ' to learn more about interactive tables.';\n",
       "        element.innerHTML = '';\n",
       "        dataTable['output_type'] = 'display_data';\n",
       "        await google.colab.output.renderOutput(dataTable, element);\n",
       "        const docLink = document.createElement('div');\n",
       "        docLink.innerHTML = docLinkHtml;\n",
       "        element.appendChild(docLink);\n",
       "      }\n",
       "    </script>\n",
       "  </div>\n",
       "\n",
       "\n",
       "<div id=\"df-741232a9-4649-4da7-bea5-ec8dcbea6630\">\n",
       "  <button class=\"colab-df-quickchart\" onclick=\"quickchart('df-741232a9-4649-4da7-bea5-ec8dcbea6630')\"\n",
       "            title=\"Suggest charts\"\n",
       "            style=\"display:none;\">\n",
       "\n",
       "<svg xmlns=\"http://www.w3.org/2000/svg\" height=\"24px\"viewBox=\"0 0 24 24\"\n",
       "     width=\"24px\">\n",
       "    <g>\n",
       "        <path d=\"M19 3H5c-1.1 0-2 .9-2 2v14c0 1.1.9 2 2 2h14c1.1 0 2-.9 2-2V5c0-1.1-.9-2-2-2zM9 17H7v-7h2v7zm4 0h-2V7h2v10zm4 0h-2v-4h2v4z\"/>\n",
       "    </g>\n",
       "</svg>\n",
       "  </button>\n",
       "\n",
       "<style>\n",
       "  .colab-df-quickchart {\n",
       "      --bg-color: #E8F0FE;\n",
       "      --fill-color: #1967D2;\n",
       "      --hover-bg-color: #E2EBFA;\n",
       "      --hover-fill-color: #174EA6;\n",
       "      --disabled-fill-color: #AAA;\n",
       "      --disabled-bg-color: #DDD;\n",
       "  }\n",
       "\n",
       "  [theme=dark] .colab-df-quickchart {\n",
       "      --bg-color: #3B4455;\n",
       "      --fill-color: #D2E3FC;\n",
       "      --hover-bg-color: #434B5C;\n",
       "      --hover-fill-color: #FFFFFF;\n",
       "      --disabled-bg-color: #3B4455;\n",
       "      --disabled-fill-color: #666;\n",
       "  }\n",
       "\n",
       "  .colab-df-quickchart {\n",
       "    background-color: var(--bg-color);\n",
       "    border: none;\n",
       "    border-radius: 50%;\n",
       "    cursor: pointer;\n",
       "    display: none;\n",
       "    fill: var(--fill-color);\n",
       "    height: 32px;\n",
       "    padding: 0;\n",
       "    width: 32px;\n",
       "  }\n",
       "\n",
       "  .colab-df-quickchart:hover {\n",
       "    background-color: var(--hover-bg-color);\n",
       "    box-shadow: 0 1px 2px rgba(60, 64, 67, 0.3), 0 1px 3px 1px rgba(60, 64, 67, 0.15);\n",
       "    fill: var(--button-hover-fill-color);\n",
       "  }\n",
       "\n",
       "  .colab-df-quickchart-complete:disabled,\n",
       "  .colab-df-quickchart-complete:disabled:hover {\n",
       "    background-color: var(--disabled-bg-color);\n",
       "    fill: var(--disabled-fill-color);\n",
       "    box-shadow: none;\n",
       "  }\n",
       "\n",
       "  .colab-df-spinner {\n",
       "    border: 2px solid var(--fill-color);\n",
       "    border-color: transparent;\n",
       "    border-bottom-color: var(--fill-color);\n",
       "    animation:\n",
       "      spin 1s steps(1) infinite;\n",
       "  }\n",
       "\n",
       "  @keyframes spin {\n",
       "    0% {\n",
       "      border-color: transparent;\n",
       "      border-bottom-color: var(--fill-color);\n",
       "      border-left-color: var(--fill-color);\n",
       "    }\n",
       "    20% {\n",
       "      border-color: transparent;\n",
       "      border-left-color: var(--fill-color);\n",
       "      border-top-color: var(--fill-color);\n",
       "    }\n",
       "    30% {\n",
       "      border-color: transparent;\n",
       "      border-left-color: var(--fill-color);\n",
       "      border-top-color: var(--fill-color);\n",
       "      border-right-color: var(--fill-color);\n",
       "    }\n",
       "    40% {\n",
       "      border-color: transparent;\n",
       "      border-right-color: var(--fill-color);\n",
       "      border-top-color: var(--fill-color);\n",
       "    }\n",
       "    60% {\n",
       "      border-color: transparent;\n",
       "      border-right-color: var(--fill-color);\n",
       "    }\n",
       "    80% {\n",
       "      border-color: transparent;\n",
       "      border-right-color: var(--fill-color);\n",
       "      border-bottom-color: var(--fill-color);\n",
       "    }\n",
       "    90% {\n",
       "      border-color: transparent;\n",
       "      border-bottom-color: var(--fill-color);\n",
       "    }\n",
       "  }\n",
       "</style>\n",
       "\n",
       "  <script>\n",
       "    async function quickchart(key) {\n",
       "      const quickchartButtonEl =\n",
       "        document.querySelector('#' + key + ' button');\n",
       "      quickchartButtonEl.disabled = true;  // To prevent multiple clicks.\n",
       "      quickchartButtonEl.classList.add('colab-df-spinner');\n",
       "      try {\n",
       "        const charts = await google.colab.kernel.invokeFunction(\n",
       "            'suggestCharts', [key], {});\n",
       "      } catch (error) {\n",
       "        console.error('Error during call to suggestCharts:', error);\n",
       "      }\n",
       "      quickchartButtonEl.classList.remove('colab-df-spinner');\n",
       "      quickchartButtonEl.classList.add('colab-df-quickchart-complete');\n",
       "    }\n",
       "    (() => {\n",
       "      let quickchartButtonEl =\n",
       "        document.querySelector('#df-741232a9-4649-4da7-bea5-ec8dcbea6630 button');\n",
       "      quickchartButtonEl.style.display =\n",
       "        google.colab.kernel.accessAllowed ? 'block' : 'none';\n",
       "    })();\n",
       "  </script>\n",
       "</div>\n",
       "\n",
       "  <div id=\"id_68f0a5f5-0b04-488b-8879-b5c02c6e74d2\">\n",
       "    <style>\n",
       "      .colab-df-generate {\n",
       "        background-color: #E8F0FE;\n",
       "        border: none;\n",
       "        border-radius: 50%;\n",
       "        cursor: pointer;\n",
       "        display: none;\n",
       "        fill: #1967D2;\n",
       "        height: 32px;\n",
       "        padding: 0 0 0 0;\n",
       "        width: 32px;\n",
       "      }\n",
       "\n",
       "      .colab-df-generate:hover {\n",
       "        background-color: #E2EBFA;\n",
       "        box-shadow: 0px 1px 2px rgba(60, 64, 67, 0.3), 0px 1px 3px 1px rgba(60, 64, 67, 0.15);\n",
       "        fill: #174EA6;\n",
       "      }\n",
       "\n",
       "      [theme=dark] .colab-df-generate {\n",
       "        background-color: #3B4455;\n",
       "        fill: #D2E3FC;\n",
       "      }\n",
       "\n",
       "      [theme=dark] .colab-df-generate:hover {\n",
       "        background-color: #434B5C;\n",
       "        box-shadow: 0px 1px 3px 1px rgba(0, 0, 0, 0.15);\n",
       "        filter: drop-shadow(0px 1px 2px rgba(0, 0, 0, 0.3));\n",
       "        fill: #FFFFFF;\n",
       "      }\n",
       "    </style>\n",
       "    <button class=\"colab-df-generate\" onclick=\"generateWithVariable('df')\"\n",
       "            title=\"Generate code using this dataframe.\"\n",
       "            style=\"display:none;\">\n",
       "\n",
       "  <svg xmlns=\"http://www.w3.org/2000/svg\" height=\"24px\"viewBox=\"0 0 24 24\"\n",
       "       width=\"24px\">\n",
       "    <path d=\"M7,19H8.4L18.45,9,17,7.55,7,17.6ZM5,21V16.75L18.45,3.32a2,2,0,0,1,2.83,0l1.4,1.43a1.91,1.91,0,0,1,.58,1.4,1.91,1.91,0,0,1-.58,1.4L9.25,21ZM18.45,9,17,7.55Zm-12,3A5.31,5.31,0,0,0,4.9,8.1,5.31,5.31,0,0,0,1,6.5,5.31,5.31,0,0,0,4.9,4.9,5.31,5.31,0,0,0,6.5,1,5.31,5.31,0,0,0,8.1,4.9,5.31,5.31,0,0,0,12,6.5,5.46,5.46,0,0,0,6.5,12Z\"/>\n",
       "  </svg>\n",
       "    </button>\n",
       "    <script>\n",
       "      (() => {\n",
       "      const buttonEl =\n",
       "        document.querySelector('#id_68f0a5f5-0b04-488b-8879-b5c02c6e74d2 button.colab-df-generate');\n",
       "      buttonEl.style.display =\n",
       "        google.colab.kernel.accessAllowed ? 'block' : 'none';\n",
       "\n",
       "      buttonEl.onclick = () => {\n",
       "        google.colab.notebook.generateWithVariable('df');\n",
       "      }\n",
       "      })();\n",
       "    </script>\n",
       "  </div>\n",
       "\n",
       "    </div>\n",
       "  </div>\n"
      ],
      "text/plain": [
       "                                              Product                  ID  \\\n",
       "0   MacBook Air 13\" M2; 8GB Memory; 512GB SSD (Sta...  19425308276          \n",
       "1    MacBook Air 13\" M2; 16GB; 256GB SSD (Space Gray)  19594989902          \n",
       "2        MacBook Air 13\" M2; 16GB; 256GB SSD (Silver)  19594989947          \n",
       "3     MacBook Air 13\" M2; 16GB; 256GB SSD (Starlight)  19594989992          \n",
       "4      MacBook Air 13\" M2; 16GB; 256GB SSD (Midnight)  19594990037          \n",
       "5   MacBook Air 13\" M3; 8GB Memory; 256GB SSD (Spa...  19594912417          \n",
       "6   MacBook Air 13\" M3; 8GB Memory; 256GB SSD (Sil...  19594912511          \n",
       "7   MacBook Air 13\" M3; 8GB Memory; 256GB SSD (Sta...  19594912605          \n",
       "8   MacBook Air 13\" M3; 8GB Memory; 512GB SSD (Spa...  19594912464          \n",
       "9    MacBook Air 13\" M3; 16GB; 256GB SSD (Space Gray)  19594990103          \n",
       "10       MacBook Air 13\" M3; 16GB; 256GB SSD (Silver)  19594990149          \n",
       "11    MacBook Air 13\" M3; 16GB; 256GB SSD (Starlight)  19594990195          \n",
       "\n",
       "        Price                                           ImageURL  \n",
       "0   $1,099.00  www.uwbookstore.com//storeimages/177-1766043-1...  \n",
       "1     $899.00  www.uwbookstore.com//storeimages/177-1872303-1...  \n",
       "2     $899.00  www.uwbookstore.com//storeimages/177-1872306-1...  \n",
       "3     $899.00  www.uwbookstore.com//storeimages/177-1872309-1...  \n",
       "4     $899.00  www.uwbookstore.com//storeimages/177-1872312-1...  \n",
       "5     $999.00  www.uwbookstore.com//storeimages/177-1852252-4...  \n",
       "6     $999.00  www.uwbookstore.com//storeimages/177-1852255-4...  \n",
       "7     $999.00  www.uwbookstore.com//storeimages/177-1852258-4...  \n",
       "8   $1,199.00  www.uwbookstore.com//storeimages/177-1852264-4...  \n",
       "9     $999.00  www.uwbookstore.com//storeimages/177-1872122-1...  \n",
       "10    $999.00  www.uwbookstore.com//storeimages/177-1872125-1...  \n",
       "11    $999.00  www.uwbookstore.com//storeimages/177-1872128-1...  "
      ]
     },
     "execution_count": 39,
     "metadata": {},
     "output_type": "execute_result"
    }
   ],
   "source": [
    "df = pd.DataFrame({'Product':product_name_list,'ID':product_id_list, 'Price':price_list, 'ImageURL': image_list})\n",
    "df  # Display the first 10 rows of the data"
   ]
  },
  {
   "cell_type": "markdown",
   "metadata": {
    "id": "8t6q04toOgDg"
   },
   "source": [
    "**Step 5: Save the data to an Excel file**"
   ]
  },
  {
   "cell_type": "code",
   "execution_count": 29,
   "metadata": {
    "executionInfo": {
     "elapsed": 791,
     "status": "ok",
     "timestamp": 1731365843910,
     "user": {
      "displayName": "Jinan Lin",
      "userId": "16538702255115455582"
     },
     "user_tz": 360
    },
    "id": "qr-HZaNxhPIM"
   },
   "outputs": [],
   "source": [
    "df.to_excel('University_MacBook.xlsx', index=False)\n",
    "#if index=True, Python will add one extra column of row index 1,2,3..."
   ]
  },
  {
   "cell_type": "markdown",
   "metadata": {
    "id": "AknFrDjlOsV-"
   },
   "source": [
    "**Step 6: Download the Excel file to your local machine**"
   ]
  },
  {
   "cell_type": "code",
   "execution_count": 30,
   "metadata": {
    "colab": {
     "base_uri": "https://localhost:8080/",
     "height": 17
    },
    "executionInfo": {
     "elapsed": 132,
     "status": "ok",
     "timestamp": 1731365845530,
     "user": {
      "displayName": "Jinan Lin",
      "userId": "16538702255115455582"
     },
     "user_tz": 360
    },
    "id": "p4Wikbs0OxXd",
    "outputId": "94b84b22-247e-42e0-ddcb-fac4860031f8"
   },
   "outputs": [
    {
     "data": {
      "application/javascript": "\n    async function download(id, filename, size) {\n      if (!google.colab.kernel.accessAllowed) {\n        return;\n      }\n      const div = document.createElement('div');\n      const label = document.createElement('label');\n      label.textContent = `Downloading \"${filename}\": `;\n      div.appendChild(label);\n      const progress = document.createElement('progress');\n      progress.max = size;\n      div.appendChild(progress);\n      document.body.appendChild(div);\n\n      const buffers = [];\n      let downloaded = 0;\n\n      const channel = await google.colab.kernel.comms.open(id);\n      // Send a message to notify the kernel that we're ready.\n      channel.send({})\n\n      for await (const message of channel.messages) {\n        // Send a message to notify the kernel that we're ready.\n        channel.send({})\n        if (message.buffers) {\n          for (const buffer of message.buffers) {\n            buffers.push(buffer);\n            downloaded += buffer.byteLength;\n            progress.value = downloaded;\n          }\n        }\n      }\n      const blob = new Blob(buffers, {type: 'application/binary'});\n      const a = document.createElement('a');\n      a.href = window.URL.createObjectURL(blob);\n      a.download = filename;\n      div.appendChild(a);\n      a.click();\n      div.remove();\n    }\n  ",
      "text/plain": [
       "<IPython.core.display.Javascript object>"
      ]
     },
     "metadata": {},
     "output_type": "display_data"
    },
    {
     "data": {
      "application/javascript": "download(\"download_e8afad04-a18e-403c-b446-fb12f22a0191\", \"University_MacBook.xlsx\", 5322)",
      "text/plain": [
       "<IPython.core.display.Javascript object>"
      ]
     },
     "metadata": {},
     "output_type": "display_data"
    }
   ],
   "source": [
    "from google.colab import files\n",
    "files.download(\"University_MacBook.xlsx\")"
   ]
  },
  {
   "cell_type": "markdown",
   "metadata": {
    "id": "1AcJhLI7o9-q"
   },
   "source": [
    "\n",
    "\n",
    "```\n",
    "# This is formatted as code\n",
    "```\n",
    "\n",
    "## **Exercise**\n",
    "\n",
    "**Can you extend the Python program to also extract the link to the product page for each product?**\n",
    "\n",
    "A link on a webpage is enclosed by a pair of tags (`<a> </a>`). Inspecting the webpage, we know the tages of your interest have the class value of `merchLink`. Therefore, we include the link of code below to find the tag for a product:"
   ]
  },
  {
   "cell_type": "code",
   "execution_count": 41,
   "metadata": {
    "colab": {
     "base_uri": "https://localhost:8080/"
    },
    "collapsed": true,
    "executionInfo": {
     "elapsed": 139,
     "status": "ok",
     "timestamp": 1731367164330,
     "user": {
      "displayName": "Jinan Lin",
      "userId": "16538702255115455582"
     },
     "user_tz": 360
    },
    "id": "CQD4FYpFuhdc",
    "outputId": "93834beb-5e92-4efe-f75f-10e2a15b4091"
   },
   "outputs": [
    {
     "data": {
      "text/plain": [
       "[<a class=\"merchLink displayb bottom10\" href=\"//www.uwbookstore.com/Wisconsin-Badgers/Tech/MacBook/MacBook-Air-13-M2-8GB-Memory-512GB-SSD-Starlight\" tabindex=\"0\">\n",
       " <div class=\"imageWrapper\">\n",
       " <div class=\"bottom10 merchImageWrapper\">\n",
       " <!--Merch Image-->\n",
       " <img alt='Image For MacBook Air 13\" M2; 8GB Memory; 512GB SSD (Starlight)' class=\"merchImage img-responsive\" src=\"/storeimages/177-1766043-1.png\" width=\"200\"/>\n",
       " </div>\n",
       " </div>\n",
       " <p class=\"merchTitle top0 textc lead\" data-id=\"1766043\">MacBook Air 13\" M2; 8GB Memory; 512GB SSD (Starlight)</p>\n",
       " </a>,\n",
       " <a class=\"merchLink displayb bottom10\" href=\"//www.uwbookstore.com/MerchDetail?MerchID=1872303&amp;CategoryName=MacBook&amp;CatID=28368&amp;Name=MacBook\" tabindex=\"0\">\n",
       " <div class=\"imageWrapper\">\n",
       " <div class=\"bottom10 merchImageWrapper\">\n",
       " <!--Merch Image-->\n",
       " <img alt='Image For MacBook Air 13\" M2; 16GB; 256GB SSD (Space Gray)' class=\"merchImage img-responsive\" src=\"/storeimages/177-1872303-1.png\" width=\"200\"/>\n",
       " </div>\n",
       " </div>\n",
       " <p class=\"merchTitle top0 textc lead\" data-id=\"1872303\">MacBook Air 13\" M2; 16GB; 256GB SSD (Space Gray)</p>\n",
       " </a>,\n",
       " <a class=\"merchLink displayb bottom10\" href=\"//www.uwbookstore.com/MerchDetail?MerchID=1872306&amp;CategoryName=MacBook&amp;CatID=28368&amp;Name=MacBook\" tabindex=\"0\">\n",
       " <div class=\"imageWrapper\">\n",
       " <div class=\"bottom10 merchImageWrapper\">\n",
       " <!--Merch Image-->\n",
       " <img alt='Image For MacBook Air 13\" M2; 16GB; 256GB SSD (Silver)' class=\"merchImage img-responsive\" src=\"/storeimages/177-1872306-1.png\" width=\"200\"/>\n",
       " </div>\n",
       " </div>\n",
       " <p class=\"merchTitle top0 textc lead\" data-id=\"1872306\">MacBook Air 13\" M2; 16GB; 256GB SSD (Silver)</p>\n",
       " </a>,\n",
       " <a class=\"merchLink displayb bottom10\" href=\"//www.uwbookstore.com/MerchDetail?MerchID=1872309&amp;CategoryName=MacBook&amp;CatID=28368&amp;Name=MacBook\" tabindex=\"0\">\n",
       " <div class=\"imageWrapper\">\n",
       " <div class=\"bottom10 merchImageWrapper\">\n",
       " <!--Merch Image-->\n",
       " <img alt='Image For MacBook Air 13\" M2; 16GB; 256GB SSD (Starlight)' class=\"merchImage img-responsive\" src=\"/storeimages/177-1872309-1.png\" width=\"200\"/>\n",
       " </div>\n",
       " </div>\n",
       " <p class=\"merchTitle top0 textc lead\" data-id=\"1872309\">MacBook Air 13\" M2; 16GB; 256GB SSD (Starlight)</p>\n",
       " </a>,\n",
       " <a class=\"merchLink displayb bottom10\" href=\"//www.uwbookstore.com/MerchDetail?MerchID=1872312&amp;CategoryName=MacBook&amp;CatID=28368&amp;Name=MacBook\" tabindex=\"0\">\n",
       " <div class=\"imageWrapper\">\n",
       " <div class=\"bottom10 merchImageWrapper\">\n",
       " <!--Merch Image-->\n",
       " <img alt='Image For MacBook Air 13\" M2; 16GB; 256GB SSD (Midnight)' class=\"merchImage img-responsive\" src=\"/storeimages/177-1872312-1.png\" width=\"200\"/>\n",
       " </div>\n",
       " </div>\n",
       " <p class=\"merchTitle top0 textc lead\" data-id=\"1872312\">MacBook Air 13\" M2; 16GB; 256GB SSD (Midnight)</p>\n",
       " </a>,\n",
       " <a class=\"merchLink displayb bottom10\" href=\"//www.uwbookstore.com/Wisconsin-Badgers/Tech/MacBook/MacBook-Air-13-M3-8GB-Memory-256GB-SSD-Space-Gray\" tabindex=\"0\">\n",
       " <div class=\"imageWrapper\">\n",
       " <div class=\"bottom10 merchImageWrapper\">\n",
       " <!--Merch Image-->\n",
       " <img alt='Image For MacBook Air 13\" M3; 8GB Memory; 256GB SSD (Space Gray)' class=\"merchImage img-responsive\" src=\"/storeimages/177-1852252-4.png\" width=\"200\"/>\n",
       " </div>\n",
       " </div>\n",
       " <p class=\"merchTitle top0 textc lead\" data-id=\"1852252\">MacBook Air 13\" M3; 8GB Memory; 256GB SSD (Space Gray)</p>\n",
       " </a>,\n",
       " <a class=\"merchLink displayb bottom10\" href=\"//www.uwbookstore.com/Wisconsin-Badgers/Tech/MacBook/MacBook-Air-13-M3-8GB-Memory-256GB-SSD-Silver\" tabindex=\"0\">\n",
       " <div class=\"imageWrapper\">\n",
       " <div class=\"bottom10 merchImageWrapper\">\n",
       " <!--Merch Image-->\n",
       " <img alt='Image For MacBook Air 13\" M3; 8GB Memory; 256GB SSD (Silver)' class=\"merchImage img-responsive\" src=\"/storeimages/177-1852255-4.png\" width=\"200\"/>\n",
       " </div>\n",
       " </div>\n",
       " <p class=\"merchTitle top0 textc lead\" data-id=\"1852255\">MacBook Air 13\" M3; 8GB Memory; 256GB SSD (Silver)</p>\n",
       " </a>,\n",
       " <a class=\"merchLink displayb bottom10\" href=\"//www.uwbookstore.com/Wisconsin-Badgers/Tech/MacBook/MacBook-Air-13-M3-8GB-Memory-256GB-SSD-Starlight\" tabindex=\"0\">\n",
       " <div class=\"imageWrapper\">\n",
       " <div class=\"bottom10 merchImageWrapper\">\n",
       " <!--Merch Image-->\n",
       " <img alt='Image For MacBook Air 13\" M3; 8GB Memory; 256GB SSD (Starlight)' class=\"merchImage img-responsive\" src=\"/storeimages/177-1852258-4.png\" width=\"200\"/>\n",
       " </div>\n",
       " </div>\n",
       " <p class=\"merchTitle top0 textc lead\" data-id=\"1852258\">MacBook Air 13\" M3; 8GB Memory; 256GB SSD (Starlight)</p>\n",
       " </a>,\n",
       " <a class=\"merchLink displayb bottom10\" href=\"//www.uwbookstore.com/Wisconsin-Badgers/Tech/MacBook/MacBook-Air-13-M3-8GB-Memory-512GB-SSD-Space-Gray\" tabindex=\"0\">\n",
       " <div class=\"imageWrapper\">\n",
       " <div class=\"bottom10 merchImageWrapper\">\n",
       " <!--Merch Image-->\n",
       " <img alt='Image For MacBook Air 13\" M3; 8GB Memory; 512GB SSD (Space Gray)' class=\"merchImage img-responsive\" src=\"/storeimages/177-1852264-4.png\" width=\"200\"/>\n",
       " </div>\n",
       " </div>\n",
       " <p class=\"merchTitle top0 textc lead\" data-id=\"1852264\">MacBook Air 13\" M3; 8GB Memory; 512GB SSD (Space Gray)</p>\n",
       " </a>,\n",
       " <a class=\"merchLink displayb bottom10\" href=\"//www.uwbookstore.com/MerchDetail?MerchID=1872122&amp;CategoryName=MacBook&amp;CatID=28368&amp;Name=MacBook\" tabindex=\"0\">\n",
       " <div class=\"imageWrapper\">\n",
       " <div class=\"bottom10 merchImageWrapper\">\n",
       " <!--Merch Image-->\n",
       " <img alt='Image For MacBook Air 13\" M3; 16GB; 256GB SSD (Space Gray)' class=\"merchImage img-responsive\" src=\"/storeimages/177-1872122-1.png\" width=\"200\"/>\n",
       " </div>\n",
       " </div>\n",
       " <p class=\"merchTitle top0 textc lead\" data-id=\"1872122\">MacBook Air 13\" M3; 16GB; 256GB SSD (Space Gray)</p>\n",
       " </a>,\n",
       " <a class=\"merchLink displayb bottom10\" href=\"//www.uwbookstore.com/MerchDetail?MerchID=1872125&amp;CategoryName=MacBook&amp;CatID=28368&amp;Name=MacBook\" tabindex=\"0\">\n",
       " <div class=\"imageWrapper\">\n",
       " <div class=\"bottom10 merchImageWrapper\">\n",
       " <!--Merch Image-->\n",
       " <img alt='Image For MacBook Air 13\" M3; 16GB; 256GB SSD (Silver)' class=\"merchImage img-responsive\" src=\"/storeimages/177-1872125-1.png\" width=\"200\"/>\n",
       " </div>\n",
       " </div>\n",
       " <p class=\"merchTitle top0 textc lead\" data-id=\"1872125\">MacBook Air 13\" M3; 16GB; 256GB SSD (Silver)</p>\n",
       " </a>,\n",
       " <a class=\"merchLink displayb bottom10\" href=\"//www.uwbookstore.com/MerchDetail?MerchID=1872128&amp;CategoryName=MacBook&amp;CatID=28368&amp;Name=MacBook\" tabindex=\"0\">\n",
       " <div class=\"imageWrapper\">\n",
       " <div class=\"bottom10 merchImageWrapper\">\n",
       " <!--Merch Image-->\n",
       " <img alt='Image For MacBook Air 13\" M3; 16GB; 256GB SSD (Starlight)' class=\"merchImage img-responsive\" src=\"/storeimages/177-1872128-1.png\" width=\"200\"/>\n",
       " </div>\n",
       " </div>\n",
       " <p class=\"merchTitle top0 textc lead\" data-id=\"1872128\">MacBook Air 13\" M3; 16GB; 256GB SSD (Starlight)</p>\n",
       " </a>]"
      ]
     },
     "execution_count": 41,
     "metadata": {},
     "output_type": "execute_result"
    }
   ],
   "source": [
    "link_tag = soup.findAll('a', attrs={'class':'merchLink'})\n",
    "link_tag"
   ]
  },
  {
   "cell_type": "markdown",
   "metadata": {
    "id": "LSJ8OQZ0umzI"
   },
   "source": [
    "The link (or partial link that does not include the head of a full url is the value of the \"href\" attribute inside the` <a> `tag:"
   ]
  },
  {
   "cell_type": "code",
   "execution_count": 43,
   "metadata": {
    "colab": {
     "base_uri": "https://localhost:8080/"
    },
    "executionInfo": {
     "elapsed": 171,
     "status": "ok",
     "timestamp": 1731367405681,
     "user": {
      "displayName": "Jinan Lin",
      "userId": "16538702255115455582"
     },
     "user_tz": 360
    },
    "id": "k4KbFGJVunF3",
    "outputId": "a4256df9-bdca-4d3a-8c9e-14d60001d3c8"
   },
   "outputs": [
    {
     "name": "stdout",
     "output_type": "stream",
     "text": [
      "//www.uwbookstore.com/Wisconsin-Badgers/Tech/MacBook/MacBook-Air-13-M2-8GB-Memory-512GB-SSD-Starlight\n",
      "//www.uwbookstore.com/MerchDetail?MerchID=1872303&CategoryName=MacBook&CatID=28368&Name=MacBook\n",
      "//www.uwbookstore.com/MerchDetail?MerchID=1872306&CategoryName=MacBook&CatID=28368&Name=MacBook\n",
      "//www.uwbookstore.com/MerchDetail?MerchID=1872309&CategoryName=MacBook&CatID=28368&Name=MacBook\n",
      "//www.uwbookstore.com/MerchDetail?MerchID=1872312&CategoryName=MacBook&CatID=28368&Name=MacBook\n",
      "//www.uwbookstore.com/Wisconsin-Badgers/Tech/MacBook/MacBook-Air-13-M3-8GB-Memory-256GB-SSD-Space-Gray\n",
      "//www.uwbookstore.com/Wisconsin-Badgers/Tech/MacBook/MacBook-Air-13-M3-8GB-Memory-256GB-SSD-Silver\n",
      "//www.uwbookstore.com/Wisconsin-Badgers/Tech/MacBook/MacBook-Air-13-M3-8GB-Memory-256GB-SSD-Starlight\n",
      "//www.uwbookstore.com/Wisconsin-Badgers/Tech/MacBook/MacBook-Air-13-M3-8GB-Memory-512GB-SSD-Space-Gray\n",
      "//www.uwbookstore.com/MerchDetail?MerchID=1872122&CategoryName=MacBook&CatID=28368&Name=MacBook\n",
      "//www.uwbookstore.com/MerchDetail?MerchID=1872125&CategoryName=MacBook&CatID=28368&Name=MacBook\n",
      "//www.uwbookstore.com/MerchDetail?MerchID=1872128&CategoryName=MacBook&CatID=28368&Name=MacBook\n"
     ]
    }
   ],
   "source": [
    "for tag in link_tag:\n",
    "  link = tag.get('href')\n",
    "  print(link)"
   ]
  },
  {
   "cell_type": "code",
   "execution_count": 44,
   "metadata": {
    "colab": {
     "base_uri": "https://localhost:8080/",
     "height": 35
    },
    "executionInfo": {
     "elapsed": 144,
     "status": "ok",
     "timestamp": 1731367515200,
     "user": {
      "displayName": "Jinan Lin",
      "userId": "16538702255115455582"
     },
     "user_tz": 360
    },
    "id": "ySaV-kZ5iIbm",
    "outputId": "ec03092e-c83b-4248-86c8-95aa0292c929"
   },
   "outputs": [
    {
     "data": {
      "application/vnd.google.colaboratory.intrinsic+json": {
       "type": "string"
      },
      "text/plain": [
       "'//www.uwbookstore.com/MerchDetail?MerchID=1872128&CategoryName=MacBook&CatID=28368&Name=MacBook'"
      ]
     },
     "execution_count": 44,
     "metadata": {},
     "output_type": "execute_result"
    }
   ],
   "source": [
    "link"
   ]
  },
  {
   "cell_type": "markdown",
   "metadata": {
    "id": "0nD6BWHnjR4x"
   },
   "source": [
    "Now, can you write a loop to visit each of the MacBook product page, and scrape all detailed description for me!"
   ]
  },
  {
   "cell_type": "code",
   "execution_count": 63,
   "metadata": {
    "colab": {
     "base_uri": "https://localhost:8080/"
    },
    "executionInfo": {
     "elapsed": 4393,
     "status": "ok",
     "timestamp": 1731368995986,
     "user": {
      "displayName": "Jinan Lin",
      "userId": "16538702255115455582"
     },
     "user_tz": 360
    },
    "id": "aOOdnTDhjeNf",
    "outputId": "87d893fe-f5f9-49bb-9707-79e038f4272c"
   },
   "outputs": [
    {
     "name": "stdout",
     "output_type": "stream",
     "text": [
      "The price displayed is our special educational price available to UW Students, Alumni, Faculty, Staff, & UW Health Employees.\n",
      "The regular price was $1199- you’re saving $250!\n",
      "Super portable. Supercharged for school.\n",
      "Supercharged by the next-generation M2 chip, the redesigned MacBook Air combines incredible performance and up to 18 hours of battery life into its strikingly thin aluminum enclosure.\n",
      "1\n",
      "Choose from four gorgeous colors and fly through any course load with style.\n",
      "More Info\n",
      "M2 chip with next-generation CPU, GPU, and machine learning performance\n",
      "Faster 8-core CPU and 8-core GPU to power through complex school projects\n",
      "2\n",
      "16-core Neural Engine for advanced machine learning tasks\n",
      "Go all day with up to 18 hours of battery life\n",
      "1\n",
      "Fanless design for silent operation\n",
      "13.6-inch Liquid Retina display with 500 nits of brightness and P3 wide color for incredible images\n",
      "3\n",
      "1080p FaceTime HD camera with 2x resolution and low-light performance\n",
      "3-microphone array\n",
      "4-speaker sound system with Spatial Audio\n",
      "Share content seamlessly between iPhone and Mac\n",
      "Quick‑releasing MagSafe port for fast charging\n",
      "2 Thunderbolt ports and headphone jack\n",
      "Backlit Magic Keyboard and Touch ID\n",
      "Wi-Fi 6\n",
      "Superfast SSD storage\n",
      "Height: 0.44in; Width: 11.97in; Depth: 8.46in; Weight: 2.7 pounds\n",
      "4\n",
      "Comes with USB-C to MagSafe 3 Cable and 30W USB-C Power Adapter; Fast-charge capable with 67W USB-C Power Adapter (not included)\n",
      "Configurable options are available. Contact us for details.\n",
      "1\n",
      "Battery life varies by use and configuration. See\n",
      "apple.com/batteries\n",
      "for more information.\n",
      "2\n",
      "Compared with previous generation.\n",
      "3\n",
      "The display has rounded corners at the top. When measured as a standard rectangular shape, the screen is 13.6 inches diagonally (actual viewable area is less).\n",
      "4\n",
      "Weight varies by configuration and manufacturing process.\n",
      "Go to\n",
      "apple.com/macbook-air-13-and-15-m2/specs/\n",
      "for complete technical specifications.\n",
      "This item has a handling & insurance charge of $20, which will be removed AFTER this order is placed IF you choose In-Store Pickup instead of shipping.\n",
      "The price displayed is our special educational price available to UW Students, Alumni, Faculty, Staff, & UW Health Employees.\n",
      "The regular price was $999- you’re saving $100!\n",
      "Super portable. Supercharged for school.\n",
      "Supercharged by the next-generation M2 chip, the redesigned MacBook Air combines incredible performance and up to 18 hours of battery life into its strikingly thin aluminum enclosure.\n",
      "1\n",
      "Choose from four gorgeous colors and fly through any course load with style.\n",
      "More Info\n",
      "M2 chip with next-generation CPU, GPU, and machine learning performance\n",
      "Faster 8-core CPU and 8-core GPU to power through complex school projects\n",
      "2\n",
      "16-core Neural Engine for advanced machine learning tasks\n",
      "Go all day with up to 18 hours of battery life\n",
      "1\n",
      "Fanless design for silent operation\n",
      "13.6-inch Liquid Retina display with 500 nits of brightness and P3 wide color for incredible images\n",
      "3\n",
      "1080p FaceTime HD camera with 2x resolution and low-light performance\n",
      "3-microphone array\n",
      "4-speaker sound system with Spatial Audio\n",
      "Share content seamlessly between iPhone and Mac\n",
      "Quick‑releasing MagSafe port for fast charging\n",
      "2 Thunderbolt ports and headphone jack\n",
      "Backlit Magic Keyboard and Touch ID\n",
      "Wi-Fi 6\n",
      "Superfast SSD storage\n",
      "Height: 0.44in; Width: 11.97in; Depth: 8.46in; Weight: 2.7 pounds\n",
      "4\n",
      "Comes with USB-C to MagSafe 3 Cable and 30W USB-C Power Adapter; Fast-charge capable with 67W USB-C Power Adapter (not included)\n",
      "Configurable options are available. Contact us for details.\n",
      "1\n",
      "Battery life varies by use and configuration. See\n",
      "apple.com/batteries\n",
      "for more information.\n",
      "2\n",
      "Compared with previous generation.\n",
      "3\n",
      "The display has rounded corners at the top. When measured as a standard rectangular shape, the screen is 13.6 inches diagonally (actual viewable area is less).\n",
      "4\n",
      "Weight varies by configuration and manufacturing process.\n",
      "Go to\n",
      "apple.com/macbook-air-13-and-15-m2/specs/\n",
      "for complete technical specifications.\n",
      "This item has a handling & insurance charge of $15, which will be removed AFTER this order is placed IF you choose In-Store Pickup instead of shipping.\n",
      "The price displayed is our special educational price available to UW Students, Alumni, Faculty, Staff, & UW Health Employees.\n",
      "The regular price was $999- you’re saving $100!\n",
      "Super portable. Supercharged for school.\n",
      "Supercharged by the next-generation M2 chip, the redesigned MacBook Air combines incredible performance and up to 18 hours of battery life into its strikingly thin aluminum enclosure.\n",
      "1\n",
      "Choose from four gorgeous colors and fly through any course load with style.\n",
      "More Info\n",
      "M2 chip with next-generation CPU, GPU, and machine learning performance\n",
      "Faster 8-core CPU and 8-core GPU to power through complex school projects\n",
      "2\n",
      "16-core Neural Engine for advanced machine learning tasks\n",
      "Go all day with up to 18 hours of battery life\n",
      "1\n",
      "Fanless design for silent operation\n",
      "13.6-inch Liquid Retina display with 500 nits of brightness and P3 wide color for incredible images\n",
      "3\n",
      "1080p FaceTime HD camera with 2x resolution and low-light performance\n",
      "3-microphone array\n",
      "4-speaker sound system with Spatial Audio\n",
      "Share content seamlessly between iPhone and Mac\n",
      "Quick‑releasing MagSafe port for fast charging\n",
      "2 Thunderbolt ports and headphone jack\n",
      "Backlit Magic Keyboard and Touch ID\n",
      "Wi-Fi 6\n",
      "Superfast SSD storage\n",
      "Height: 0.44in; Width: 11.97in; Depth: 8.46in; Weight: 2.7 pounds\n",
      "4\n",
      "Comes with USB-C to MagSafe 3 Cable and 30W USB-C Power Adapter; Fast-charge capable with 67W USB-C Power Adapter (not included)\n",
      "Configurable options are available. Contact us for details.\n",
      "1\n",
      "Battery life varies by use and configuration. See\n",
      "apple.com/batteries\n",
      "for more information.\n",
      "2\n",
      "Compared with previous generation.\n",
      "3\n",
      "The display has rounded corners at the top. When measured as a standard rectangular shape, the screen is 13.6 inches diagonally (actual viewable area is less).\n",
      "4\n",
      "Weight varies by configuration and manufacturing process.\n",
      "Go to\n",
      "apple.com/macbook-air-13-and-15-m2/specs/\n",
      "for complete technical specifications.\n",
      "This item has a handling & insurance charge of $15, which will be removed AFTER this order is placed IF you choose In-Store Pickup instead of shipping.\n",
      "The price displayed is our special educational price available to UW Students, Alumni, Faculty, Staff, & UW Health Employees.\n",
      "The regular price was $999- you’re saving $100!\n",
      "Super portable. Supercharged for school.\n",
      "Supercharged by the next-generation M2 chip, the redesigned MacBook Air combines incredible performance and up to 18 hours of battery life into its strikingly thin aluminum enclosure.\n",
      "1\n",
      "Choose from four gorgeous colors and fly through any course load with style.\n",
      "More Info\n",
      "M2 chip with next-generation CPU, GPU, and machine learning performance\n",
      "Faster 8-core CPU and 8-core GPU to power through complex school projects\n",
      "2\n",
      "16-core Neural Engine for advanced machine learning tasks\n",
      "Go all day with up to 18 hours of battery life\n",
      "1\n",
      "Fanless design for silent operation\n",
      "13.6-inch Liquid Retina display with 500 nits of brightness and P3 wide color for incredible images\n",
      "3\n",
      "1080p FaceTime HD camera with 2x resolution and low-light performance\n",
      "3-microphone array\n",
      "4-speaker sound system with Spatial Audio\n",
      "Share content seamlessly between iPhone and Mac\n",
      "Quick‑releasing MagSafe port for fast charging\n",
      "2 Thunderbolt ports and headphone jack\n",
      "Backlit Magic Keyboard and Touch ID\n",
      "Wi-Fi 6\n",
      "Superfast SSD storage\n",
      "Height: 0.44in; Width: 11.97in; Depth: 8.46in; Weight: 2.7 pounds\n",
      "4\n",
      "Comes with USB-C to MagSafe 3 Cable and 30W USB-C Power Adapter; Fast-charge capable with 67W USB-C Power Adapter (not included)\n",
      "Configurable options are available. Contact us for details.\n",
      "1\n",
      "Battery life varies by use and configuration. See\n",
      "apple.com/batteries\n",
      "for more information.\n",
      "2\n",
      "Compared with previous generation.\n",
      "3\n",
      "The display has rounded corners at the top. When measured as a standard rectangular shape, the screen is 13.6 inches diagonally (actual viewable area is less).\n",
      "4\n",
      "Weight varies by configuration and manufacturing process.\n",
      "Go to\n",
      "apple.com/macbook-air-13-and-15-m2/specs/\n",
      "for complete technical specifications.\n",
      "This item has a handling & insurance charge of $15, which will be removed AFTER this order is placed IF you choose In-Store Pickup instead of shipping.\n",
      "The price displayed is our special educational price available to UW Students, Alumni, Faculty, Staff, & UW Health Employees.\n",
      "The regular price was $999- you’re saving $100!\n",
      "Super portable. Supercharged for school.\n",
      "Supercharged by the next-generation M2 chip, the redesigned MacBook Air combines incredible performance and up to 18 hours of battery life into its strikingly thin aluminum enclosure.\n",
      "1\n",
      "Choose from four gorgeous colors and fly through any course load with style.\n",
      "More Info\n",
      "M2 chip with next-generation CPU, GPU, and machine learning performance\n",
      "Faster 8-core CPU and 8-core GPU to power through complex school projects\n",
      "2\n",
      "16-core Neural Engine for advanced machine learning tasks\n",
      "Go all day with up to 18 hours of battery life\n",
      "1\n",
      "Fanless design for silent operation\n",
      "13.6-inch Liquid Retina display with 500 nits of brightness and P3 wide color for incredible images\n",
      "3\n",
      "1080p FaceTime HD camera with 2x resolution and low-light performance\n",
      "3-microphone array\n",
      "4-speaker sound system with Spatial Audio\n",
      "Share content seamlessly between iPhone and Mac\n",
      "Quick‑releasing MagSafe port for fast charging\n",
      "2 Thunderbolt ports and headphone jack\n",
      "Backlit Magic Keyboard and Touch ID\n",
      "Wi-Fi 6\n",
      "Superfast SSD storage\n",
      "Height: 0.44in; Width: 11.97in; Depth: 8.46in; Weight: 2.7 pounds\n",
      "4\n",
      "Comes with USB-C to MagSafe 3 Cable and 30W USB-C Power Adapter; Fast-charge capable with 67W USB-C Power Adapter (not included)\n",
      "Configurable options are available. Contact us for details.\n",
      "1\n",
      "Battery life varies by use and configuration. See\n",
      "apple.com/batteries\n",
      "for more information.\n",
      "2\n",
      "Compared with previous generation.\n",
      "3\n",
      "The display has rounded corners at the top. When measured as a standard rectangular shape, the screen is 13.6 inches diagonally (actual viewable area is less).\n",
      "4\n",
      "Weight varies by configuration and manufacturing process.\n",
      "Go to\n",
      "apple.com/macbook-air-13-and-15-m2/specs/\n",
      "for complete technical specifications.\n",
      "This item has a handling & insurance charge of $15, which will be removed AFTER this order is placed IF you choose In-Store Pickup instead of shipping.\n",
      "The price displayed is our special educational price available to UW Students, Alumni, Faculty, Staff, & UW Health Employees.\n",
      "The regular price was $1099- you’re saving $250!\n",
      "MacBook Air 13”. Lean. Mean. Study machine.\n",
      "The superportable, blazing-fast MacBook Air with the M3 chip delivers up to 18 hours of battery life for marathon study sessions.\n",
      "1\n",
      "It can handle all your complex school projects, so you can make the most of your study time.\n",
      "More Info\n",
      "PORTABLE DESIGN—Lightweight and under half an inch thin, so you can take MacBook Air anywhere you go.\n",
      "GET MORE DONE FASTER—The powerful 8-core CPU and up to 10-core GPU of the Apple M3 chip reliably keep things running smoothly.\n",
      "UP TO 18 HOURS OF BATTERY LIFE\n",
      "1\n",
      "—Amazing, all-day battery life so you can leave the power adapter at home.\n",
      "A BRILLIANT DISPLAY—The 13.6-inch Liquid Retina display\n",
      "2\n",
      "supports one billion colors.\n",
      "LOOK SHARP, SOUND GREAT—Everything looks and sounds amazing with a 1080p FaceTime HD camera, three mics, and four speakers with Spatial Audio.\n",
      "APPS FLY WITH APPLE SILICON—All your favorites, from Microsoft 365 to Adobe Creative Cloud, run lightning fast in macOS.\n",
      "3\n",
      "GET CONNECTED—MacBook Air features two Thunderbolt ports, a headphone jack, Wi-Fi 6E,\n",
      "4\n",
      "Bluetooth 5.3, and a MagSafe charging port. And connect up to two external displays with the laptop lid closed.\n",
      "IF YOU LOVE IPHONE, YOU’LL LOVE MAC—MacBook Air works like magic with your other Apple devices.\n",
      "5\n",
      "Start an email on your iPhone and finish it on your Mac. Send text messages from your Mac. And much more.\n",
      "Configurable options are available. Call for details.\n",
      "1\n",
      "Battery life varies by use & configuration. See\n",
      "apple.com/batteries\n",
      "for more information.\n",
      "2\n",
      "The display on the 13-inch MacBook Air has rounded corners at the top. When measured as a standard rectangular shape, the screen is 13.6 inches diagonally (actual viewable area is less).\n",
      "3\n",
      "Apps are available on the App Store.\n",
      "4\n",
      "Wi-Fi 6E available in countries and regions where supported.\n",
      "5\n",
      "Requires iCloud and internet connection.\n",
      "Go to\n",
      "apple.com/macbook-air/specs/\n",
      "for complete technical specifications.\n",
      "This item has a handling & insurance charge of $20, which will be removed AFTER this order is placed IF you choose In-Store Pickup instead of shipping.\n",
      "The price displayed is our special educational price available to UW Students, Alumni, Faculty, Staff, & UW Health Employees.\n",
      "The regular price was $1099- you’re saving $250!\n",
      "MacBook Air 13”. Lean. Mean. Study machine.\n",
      "The superportable, blazing-fast MacBook Air with the M3 chip delivers up to 18 hours of battery life for marathon study sessions.\n",
      "1\n",
      "It can handle all your complex school projects, so you can make the most of your study time.\n",
      "More Info\n",
      "PORTABLE DESIGN—Lightweight and under half an inch thin, so you can take MacBook Air anywhere you go.\n",
      "GET MORE DONE FASTER—The powerful 8-core CPU and up to 10-core GPU of the Apple M3 chip reliably keep things running smoothly.\n",
      "UP TO 18 HOURS OF BATTERY LIFE\n",
      "1\n",
      "—Amazing, all-day battery life so you can leave the power adapter at home.\n",
      "A BRILLIANT DISPLAY—The 13.6-inch Liquid Retina display\n",
      "2\n",
      "supports one billion colors.\n",
      "LOOK SHARP, SOUND GREAT—Everything looks and sounds amazing with a 1080p FaceTime HD camera, three mics, and four speakers with Spatial Audio.\n",
      "APPS FLY WITH APPLE SILICON—All your favorites, from Microsoft 365 to Adobe Creative Cloud, run lightning fast in macOS.\n",
      "3\n",
      "GET CONNECTED—MacBook Air features two Thunderbolt ports, a headphone jack, Wi-Fi 6E,\n",
      "4\n",
      "Bluetooth 5.3, and a MagSafe charging port. And connect up to two external displays with the laptop lid closed.\n",
      "IF YOU LOVE IPHONE, YOU’LL LOVE MAC—MacBook Air works like magic with your other Apple devices.\n",
      "5\n",
      "Start an email on your iPhone and finish it on your Mac. Send text messages from your Mac. And much more.\n",
      "Configurable options are available. Call for details.\n",
      "1\n",
      "Battery life varies by use & configuration. See\n",
      "apple.com/batteries\n",
      "for more information.\n",
      "2\n",
      "The display on the 13-inch MacBook Air has rounded corners at the top. When measured as a standard rectangular shape, the screen is 13.6 inches diagonally (actual viewable area is less).\n",
      "3\n",
      "Apps are available on the App Store.\n",
      "4\n",
      "Wi-Fi 6E available in countries and regions where supported.\n",
      "5\n",
      "Requires iCloud and internet connection.\n",
      "Go to\n",
      "apple.com/macbook-air/specs/\n",
      "for complete technical specifications.\n",
      "This item has a handling & insurance charge of $20, which will be removed AFTER this order is placed IF you choose In-Store Pickup instead of shipping.\n",
      "The price displayed is our special educational price available to UW Students, Alumni, Faculty, Staff, & UW Health Employees.\n",
      "The regular price was $1099- you’re saving $250!\n",
      "MacBook Air 13”. Lean. Mean. Study machine.\n",
      "The superportable, blazing-fast MacBook Air with the M3 chip delivers up to 18 hours of battery life for marathon study sessions.\n",
      "1\n",
      "It can handle all your complex school projects, so you can make the most of your study time.\n",
      "More Info\n",
      "PORTABLE DESIGN—Lightweight and under half an inch thin, so you can take MacBook Air anywhere you go.\n",
      "GET MORE DONE FASTER—The powerful 8-core CPU and up to 10-core GPU of the Apple M3 chip reliably keep things running smoothly.\n",
      "UP TO 18 HOURS OF BATTERY LIFE\n",
      "1\n",
      "—Amazing, all-day battery life so you can leave the power adapter at home.\n",
      "A BRILLIANT DISPLAY—The 13.6-inch Liquid Retina display\n",
      "2\n",
      "supports one billion colors.\n",
      "LOOK SHARP, SOUND GREAT—Everything looks and sounds amazing with a 1080p FaceTime HD camera, three mics, and four speakers with Spatial Audio.\n",
      "APPS FLY WITH APPLE SILICON—All your favorites, from Microsoft 365 to Adobe Creative Cloud, run lightning fast in macOS.\n",
      "3\n",
      "GET CONNECTED—MacBook Air features two Thunderbolt ports, a headphone jack, Wi-Fi 6E,\n",
      "4\n",
      "Bluetooth 5.3, and a MagSafe charging port. And connect up to two external displays with the laptop lid closed.\n",
      "IF YOU LOVE IPHONE, YOU’LL LOVE MAC—MacBook Air works like magic with your other Apple devices.\n",
      "5\n",
      "Start an email on your iPhone and finish it on your Mac. Send text messages from your Mac. And much more.\n",
      "Configurable options are available. Call for details.\n",
      "1\n",
      "Battery life varies by use & configuration. See\n",
      "apple.com/batteries\n",
      "for more information.\n",
      "2\n",
      "The display on the 13-inch MacBook Air has rounded corners at the top. When measured as a standard rectangular shape, the screen is 13.6 inches diagonally (actual viewable area is less).\n",
      "3\n",
      "Apps are available on the App Store.\n",
      "4\n",
      "Wi-Fi 6E available in countries and regions where supported.\n",
      "5\n",
      "Requires iCloud and internet connection.\n",
      "Go to\n",
      "apple.com/macbook-air/specs/\n",
      "for complete technical specifications.\n",
      "This item has a handling & insurance charge of $15, which will be removed AFTER this order is placed IF you choose In-Store Pickup instead of shipping.\n",
      "The price displayed is our special educational price available to UW Students, Alumni, Faculty, Staff, & UW Health Employees.\n",
      "The regular price was $1299- you’re saving $300!\n",
      "MacBook Air 13”. Lean. Mean. Study machine.\n",
      "The superportable, blazing-fast MacBook Air with the M3 chip delivers up to 18 hours of battery life for marathon study sessions.\n",
      "1\n",
      "It can handle all your complex school projects, so you can make the most of your study time.\n",
      "More Info\n",
      "PORTABLE DESIGN—Lightweight and under half an inch thin, so you can take MacBook Air anywhere you go.\n",
      "GET MORE DONE FASTER—The powerful 8-core CPU and up to 10-core GPU of the Apple M3 chip reliably keep things running smoothly.\n",
      "UP TO 18 HOURS OF BATTERY LIFE\n",
      "1\n",
      "—Amazing, all-day battery life so you can leave the power adapter at home.\n",
      "A BRILLIANT DISPLAY—The 13.6-inch Liquid Retina display\n",
      "2\n",
      "supports one billion colors.\n",
      "LOOK SHARP, SOUND GREAT—Everything looks and sounds amazing with a 1080p FaceTime HD camera, three mics, and four speakers with Spatial Audio.\n",
      "APPS FLY WITH APPLE SILICON—All your favorites, from Microsoft 365 to Adobe Creative Cloud, run lightning fast in macOS.\n",
      "3\n",
      "GET CONNECTED—MacBook Air features two Thunderbolt ports, a headphone jack, Wi-Fi 6E,\n",
      "4\n",
      "Bluetooth 5.3, and a MagSafe charging port. And connect up to two external displays with the laptop lid closed.\n",
      "IF YOU LOVE IPHONE, YOU’LL LOVE MAC—MacBook Air works like magic with your other Apple devices.\n",
      "5\n",
      "Start an email on your iPhone and finish it on your Mac. Send text messages from your Mac. And much more.\n",
      "Configurable options are available. Call for details.\n",
      "1\n",
      "Battery life varies by use & configuration. See\n",
      "apple.com/batteries\n",
      "for more information.\n",
      "2\n",
      "The display on the 13-inch MacBook Air has rounded corners at the top. When measured as a standard rectangular shape, the screen is 13.6 inches diagonally (actual viewable area is less).\n",
      "3\n",
      "Apps are available on the App Store.\n",
      "4\n",
      "Wi-Fi 6E available in countries and regions where supported.\n",
      "5\n",
      "Requires iCloud and internet connection.\n",
      "Go to\n",
      "apple.com/macbook-air/specs/\n",
      "for complete technical specifications.\n",
      "This item has a handling & insurance charge of $20, which will be removed AFTER this order is placed IF you choose In-Store Pickup instead of shipping.\n",
      "The price displayed is our special educational price available to UW Students, Alumni, Faculty, Staff, & UW Health Employees.\n",
      "The regular price was $1099- you’re saving $100!\n",
      "MacBook Air 13”. Lean. Mean. Study machine.\n",
      "The superportable, blazing-fast MacBook Air with the M3 chip delivers up to 18 hours of battery life for marathon study sessions.\n",
      "1\n",
      "It can handle all your complex school projects, so you can make the most of your study time.\n",
      "More Info\n",
      "APPLE INTELLIGENCE AVAILABLE NOW.\n",
      "2\n",
      "—Apple's personal intelligence system helps you write, express yourself, and get things done effortlessly. With groundbreaking privacy protections, it gives you peace of mind that no one else can access your data—not even Apple\n",
      "PORTABLE DESIGN—Lightweight and under half an inch thin, so you can take MacBook Air anywhere you go\n",
      "UP TO 18 HOURS OF BATTERY LIFE\n",
      "1\n",
      "—Amazing, all-day battery life so you can leave the power adapter at home\n",
      "MORE ROOM FOR WHAT YOU LOVE\n",
      "3\n",
      "—The 13.6-inch Liquid Retina display\n",
      "3\n",
      "supports one billion colors\n",
      "LOOK SHARP, SOUND GREAT—Everything looks and sounds amazing with a 1080p FaceTime HD camera, three mics, and four speakers with Spatial Audio\n",
      "GET CONNECTED—MacBook Air features two Thunderbolt ports, a headphone jack, and a MagSafe charging port. And connect up to 2 external displays with the laptop lid closed.\n",
      "PRIVACY & SECURITY BUILT RIGHT IN—Every Mac comes with robust defenses against viruses & malware. If your Mac is lost or stolen, Find My can help get it back. FileVault encrypts your files so others cannot access them. Free security updates help keep your Mac protected\n",
      "See\n",
      "apple.com/macbook-air/specs\n",
      "for complete tech specs\n",
      "Configurable options are available\n",
      "1\n",
      "Battery life varies by use and configuration. See\n",
      "apple.com/batteries\n",
      "for more information.\n",
      "2\n",
      "Apple Intelligence is available with Siri and device language set to U.S. English. Some features and additional languages will be coming over the course of the next year.\n",
      "3\n",
      "The display on the 13-inch MacBook Air has rounded corners at the top. When measured as a standard rectangular shape, the screen is 13.6 inches diagonally (actual viewable area is less).\n",
      "This item has a handling & insurance charge of $20, which will be removed AFTER this order is placed IF you choose In-Store Pickup instead of shipping.\n",
      "The price displayed is our special educational price available to UW Students, Alumni, Faculty, Staff, & UW Health Employees.\n",
      "The regular price was $1099- you’re saving $100!\n",
      "MacBook Air 13”. Lean. Mean. Study machine.\n",
      "The superportable, blazing-fast MacBook Air with the M3 chip delivers up to 18 hours of battery life for marathon study sessions.\n",
      "1\n",
      "It can handle all your complex school projects, so you can make the most of your study time.\n",
      "More Info\n",
      "APPLE INTELLIGENCE AVAILABLE NOW.\n",
      "2\n",
      "—Apple's personal intelligence system helps you write, express yourself, and get things done effortlessly. With groundbreaking privacy protections, it gives you peace of mind that no one else can access your data—not even Apple\n",
      "PORTABLE DESIGN—Lightweight and under half an inch thin, so you can take MacBook Air anywhere you go\n",
      "UP TO 18 HOURS OF BATTERY LIFE\n",
      "1\n",
      "—Amazing, all-day battery life so you can leave the power adapter at home\n",
      "MORE ROOM FOR WHAT YOU LOVE\n",
      "3\n",
      "—The 13.6-inch Liquid Retina display\n",
      "3\n",
      "supports one billion colors\n",
      "LOOK SHARP, SOUND GREAT—Everything looks and sounds amazing with a 1080p FaceTime HD camera, three mics, and four speakers with Spatial Audio\n",
      "GET CONNECTED—MacBook Air features two Thunderbolt ports, a headphone jack, and a MagSafe charging port. And connect up to 2 external displays with the laptop lid closed.\n",
      "PRIVACY & SECURITY BUILT RIGHT IN—Every Mac comes with robust defenses against viruses & malware. If your Mac is lost or stolen, Find My can help get it back. FileVault encrypts your files so others cannot access them. Free security updates help keep your Mac protected\n",
      "See\n",
      "apple.com/macbook-air/specs\n",
      "for complete tech specs\n",
      "Configurable options are available\n",
      "1\n",
      "Battery life varies by use and configuration. See\n",
      "apple.com/batteries\n",
      "for more information.\n",
      "2\n",
      "Apple Intelligence is available with Siri and device language set to U.S. English. Some features and additional languages will be coming over the course of the next year.\n",
      "3\n",
      "The display on the 13-inch MacBook Air has rounded corners at the top. When measured as a standard rectangular shape, the screen is 13.6 inches diagonally (actual viewable area is less).\n",
      "This item has a handling & insurance charge of $20, which will be removed AFTER this order is placed IF you choose In-Store Pickup instead of shipping.\n",
      "The price displayed is our special educational price available to UW Students, Alumni, Faculty, Staff, & UW Health Employees.\n",
      "The regular price was $1099- you’re saving $100!\n",
      "MacBook Air 13”. Lean. Mean. Study machine.\n",
      "The superportable, blazing-fast MacBook Air with the M3 chip delivers up to 18 hours of battery life for marathon study sessions.\n",
      "1\n",
      "It can handle all your complex school projects, so you can make the most of your study time.\n",
      "More Info\n",
      "APPLE INTELLIGENCE AVAILABLE NOW.\n",
      "2\n",
      "—Apple's personal intelligence system helps you write, express yourself, and get things done effortlessly. With groundbreaking privacy protections, it gives you peace of mind that no one else can access your data—not even Apple\n",
      "PORTABLE DESIGN—Lightweight and under half an inch thin, so you can take MacBook Air anywhere you go\n",
      "UP TO 18 HOURS OF BATTERY LIFE\n",
      "1\n",
      "—Amazing, all-day battery life so you can leave the power adapter at home\n",
      "MORE ROOM FOR WHAT YOU LOVE\n",
      "3\n",
      "—The 13.6-inch Liquid Retina display\n",
      "3\n",
      "supports one billion colors\n",
      "LOOK SHARP, SOUND GREAT—Everything looks and sounds amazing with a 1080p FaceTime HD camera, three mics, and four speakers with Spatial Audio\n",
      "GET CONNECTED—MacBook Air features two Thunderbolt ports, a headphone jack, and a MagSafe charging port. And connect up to 2 external displays with the laptop lid closed.\n",
      "PRIVACY & SECURITY BUILT RIGHT IN—Every Mac comes with robust defenses against viruses & malware. If your Mac is lost or stolen, Find My can help get it back. FileVault encrypts your files so others cannot access them. Free security updates help keep your Mac protected\n",
      "See\n",
      "apple.com/macbook-air/specs\n",
      "for complete tech specs\n",
      "Configurable options are available\n",
      "1\n",
      "Battery life varies by use and configuration. See\n",
      "apple.com/batteries\n",
      "for more information.\n",
      "2\n",
      "Apple Intelligence is available with Siri and device language set to U.S. English. Some features and additional languages will be coming over the course of the next year.\n",
      "3\n",
      "The display on the 13-inch MacBook Air has rounded corners at the top. When measured as a standard rectangular shape, the screen is 13.6 inches diagonally (actual viewable area is less).\n",
      "This item has a handling & insurance charge of $20, which will be removed AFTER this order is placed IF you choose In-Store Pickup instead of shipping.\n"
     ]
    }
   ],
   "source": [
    "for tag in link_tag:\n",
    "  link = tag.get('href')\n",
    "  product_url = 'https:' + link\n",
    "  product_page = requests.get(product_url)\n",
    "  macbook_page = bs(product_page.content, 'html.parser')\n",
    "  details = macbook_page.find('div', class_ =\"merchDesc\")\n",
    "  text_body = details.get_text(separator='\\n', strip=True)\n",
    "  print(text_body)"
   ]
  },
  {
   "cell_type": "code",
   "execution_count": null,
   "metadata": {
    "id": "uh7FaKkAmKPE"
   },
   "outputs": [],
   "source": []
  }
 ],
 "metadata": {
  "colab": {
   "provenance": []
  },
  "kernelspec": {
   "display_name": "base",
   "language": "python",
   "name": "python3"
  },
  "language_info": {
   "name": "python",
   "version": "3.8.8"
  }
 },
 "nbformat": 4,
 "nbformat_minor": 0
}
