{
 "cells": [
  {
   "cell_type": "code",
   "execution_count": 1,
   "metadata": {
    "id": "j_fmgd4UAOJX"
   },
   "outputs": [],
   "source": [
    "# Dependencies\n",
    "import requests\n",
    "import json"
   ]
  },
  {
   "cell_type": "markdown",
   "metadata": {
    "id": "YQE22oXlBcnI"
   },
   "source": [
    "See documents:\n",
    "\n",
    "Content-Type: application/json\n",
    "{\n",
    "    \"films\": \"https://swapi.dev/api/films/\",\n",
    "    \"people\": \"https://swapi.dev/api/people/\",\n",
    "    \"planets\": \"https://swapi.dev/api/planets/\",\n",
    "    \"species\": \"https://swapi.dev/api/species/\",\n",
    "    \"starships\": \"https://swapi.dev/api/starships/\",\n",
    "    \"vehicles\": \"https://swapi.dev/api/vehicles/\"\n",
    "}\n",
    "\n",
    "For people:\n",
    "\n",
    "https://swapi.dev/api/people/1/"
   ]
  },
  {
   "cell_type": "code",
   "execution_count": 32,
   "metadata": {
    "id": "KmZMO7TxAOJY"
   },
   "outputs": [],
   "source": [
    "# URL for GET requests to retrieve Star Wars character data\n",
    "base_url = \"https://swapi.dev/api/people/\""
   ]
  },
  {
   "cell_type": "code",
   "execution_count": 33,
   "metadata": {
    "colab": {
     "base_uri": "https://localhost:8080/"
    },
    "id": "lPfhvdAOAOJY",
    "outputId": "d4dd5924-5e7b-4123-f43a-30c07e22dfd6"
   },
   "outputs": [
    {
     "name": "stdout",
     "output_type": "stream",
     "text": [
      "https://swapi.dev/api/people/4\n"
     ]
    }
   ],
   "source": [
    "# Create a url with a specific character id\n",
    "character_id = '4'\n",
    "url = base_url + character_id\n",
    "print(url)"
   ]
  },
  {
   "cell_type": "code",
   "execution_count": 34,
   "metadata": {
    "colab": {
     "base_uri": "https://localhost:8080/"
    },
    "id": "V84cQf0PAOJY",
    "outputId": "3fb6871b-d552-4a77-faa7-51a650651b50"
   },
   "outputs": [
    {
     "name": "stdout",
     "output_type": "stream",
     "text": [
      "https://swapi.dev/api/people/4\n"
     ]
    }
   ],
   "source": [
    "# Perform a get request for this character\n",
    "response = requests.get(url)\n",
    "print(response.url)"
   ]
  },
  {
   "cell_type": "code",
   "execution_count": 35,
   "metadata": {
    "id": "GKP4U6cIAOJY"
   },
   "outputs": [
    {
     "name": "stdout",
     "output_type": "stream",
     "text": [
      "{\n",
      "    \"birth_year\": \"41.9BBY\",\n",
      "    \"created\": \"2014-12-10T15:18:20.704000Z\",\n",
      "    \"edited\": \"2014-12-20T21:17:50.313000Z\",\n",
      "    \"eye_color\": \"yellow\",\n",
      "    \"films\": [\n",
      "        \"https://swapi.dev/api/films/1/\",\n",
      "        \"https://swapi.dev/api/films/2/\",\n",
      "        \"https://swapi.dev/api/films/3/\",\n",
      "        \"https://swapi.dev/api/films/6/\"\n",
      "    ],\n",
      "    \"gender\": \"male\",\n",
      "    \"hair_color\": \"none\",\n",
      "    \"height\": \"202\",\n",
      "    \"homeworld\": \"https://swapi.dev/api/planets/1/\",\n",
      "    \"mass\": \"136\",\n",
      "    \"name\": \"Darth Vader\",\n",
      "    \"skin_color\": \"white\",\n",
      "    \"species\": [],\n",
      "    \"starships\": [\n",
      "        \"https://swapi.dev/api/starships/13/\"\n",
      "    ],\n",
      "    \"url\": \"https://swapi.dev/api/people/4/\",\n",
      "    \"vehicles\": []\n",
      "}\n"
     ]
    }
   ],
   "source": [
    "# Storing the JSON response within a variable\n",
    "data = response.json()\n",
    "# Use json.dumps to print the json\n",
    "print(json.dumps(data, indent=4, sort_keys=True))"
   ]
  },
  {
   "cell_type": "code",
   "execution_count": 36,
   "metadata": {
    "id": "u9paE7pUAOJY",
    "outputId": "9f4b47bb-c062-4195-b6f4-a79655baf4e8"
   },
   "outputs": [
    {
     "name": "stdout",
     "output_type": "stream",
     "text": [
      "Darth Vader\n"
     ]
    }
   ],
   "source": [
    "# Print the name of the character retrieved\n",
    "name = data[\"name\"]\n",
    "print(name)"
   ]
  },
  {
   "cell_type": "code",
   "execution_count": 37,
   "metadata": {
    "id": "vjq_4RfSAOJY",
    "outputId": "92da2b9c-ebd3-42c5-a7bc-ff80bcf41a17"
   },
   "outputs": [
    {
     "data": {
      "text/plain": [
       "4"
      ]
     },
     "execution_count": 37,
     "metadata": {},
     "output_type": "execute_result"
    }
   ],
   "source": [
    "# Print the number of films that they were in (hint: use len())\n",
    "len(data[\"films\"])"
   ]
  },
  {
   "cell_type": "code",
   "execution_count": 42,
   "metadata": {
    "id": "KJCOxWRXAOJY",
    "outputId": "88c8a5ae-1caf-4655-bbe2-d9823e8ab090"
   },
   "outputs": [
    {
     "name": "stdout",
     "output_type": "stream",
     "text": [
      "https://swapi.dev/api/starships/13/\n",
      "{\n",
      "    \"MGLT\": \"105\",\n",
      "    \"cargo_capacity\": \"150\",\n",
      "    \"consumables\": \"5 days\",\n",
      "    \"cost_in_credits\": \"unknown\",\n",
      "    \"created\": \"2014-12-12T11:21:32.991000Z\",\n",
      "    \"crew\": \"1\",\n",
      "    \"edited\": \"2014-12-20T21:23:49.889000Z\",\n",
      "    \"films\": [\n",
      "        \"https://swapi.dev/api/films/1/\"\n",
      "    ],\n",
      "    \"hyperdrive_rating\": \"1.0\",\n",
      "    \"length\": \"9.2\",\n",
      "    \"manufacturer\": \"Sienar Fleet Systems\",\n",
      "    \"max_atmosphering_speed\": \"1200\",\n",
      "    \"model\": \"Twin Ion Engine Advanced x1\",\n",
      "    \"name\": \"TIE Advanced x1\",\n",
      "    \"passengers\": \"0\",\n",
      "    \"pilots\": [\n",
      "        \"https://swapi.dev/api/people/4/\"\n",
      "    ],\n",
      "    \"starship_class\": \"Starfighter\",\n",
      "    \"url\": \"https://swapi.dev/api/starships/13/\"\n",
      "}\n"
     ]
    }
   ],
   "source": [
    "# Request the starships URI found in the starships property of the\n",
    "# previously retreived json, then use the response to figure out what this\n",
    "# character's first starship was\n",
    "response = requests.get(data[\"starships\"][0])\n",
    "print(response.url)\n",
    "\n",
    "data2 = response.json()\n",
    "print(json.dumps(data2, indent=4, sort_keys=True))"
   ]
  },
  {
   "cell_type": "code",
   "execution_count": 39,
   "metadata": {
    "id": "Y8KZeMdXAOJY",
    "outputId": "6e4c3476-f0bb-4193-d865-80818ea0f386"
   },
   "outputs": [
    {
     "data": {
      "text/plain": [
       "'TIE Advanced x1'"
      ]
     },
     "execution_count": 39,
     "metadata": {},
     "output_type": "execute_result"
    }
   ],
   "source": [
    "# Print the name of the character's first starship\n",
    "data2[\"name\"]"
   ]
  },
  {
   "cell_type": "code",
   "execution_count": 44,
   "metadata": {
    "id": "ufcUi_HyAOJZ",
    "outputId": "afbbc138-d221-46d5-b9fd-447397fa66d3"
   },
   "outputs": [
    {
     "name": "stdout",
     "output_type": "stream",
     "text": [
      "Darth Vader was in:\n",
      "['A New Hope', 'The Empire Strikes Back', 'Return of the Jedi', 'Revenge of the Sith']\n"
     ]
    }
   ],
   "source": [
    "# BONUS\n",
    "films = []\n",
    "\n",
    "for film in data['films']:\n",
    "    cur_film = requests.get(film).json()\n",
    "    film_title = cur_film[\"title\"]\n",
    "    films.append(film_title)\n",
    "    \n",
    "print(f\"{name} was in:\")\n",
    "print(films)"
   ]
  },
  {
   "cell_type": "code",
   "execution_count": null,
   "metadata": {
    "collapsed": true,
    "id": "-2ARqipsAOJZ"
   },
   "outputs": [],
   "source": []
  }
 ],
 "metadata": {
  "colab": {
   "provenance": []
  },
  "kernelspec": {
   "display_name": "base",
   "language": "python",
   "name": "python3"
  },
  "language_info": {
   "codemirror_mode": {
    "name": "ipython",
    "version": 3
   },
   "file_extension": ".py",
   "mimetype": "text/x-python",
   "name": "python",
   "nbconvert_exporter": "python",
   "pygments_lexer": "ipython3",
   "version": "3.8.8"
  },
  "varInspector": {
   "cols": {
    "lenName": 16,
    "lenType": 16,
    "lenVar": 40
   },
   "kernels_config": {
    "python": {
     "delete_cmd_postfix": "",
     "delete_cmd_prefix": "del ",
     "library": "var_list.py",
     "varRefreshCmd": "print(var_dic_list())"
    },
    "r": {
     "delete_cmd_postfix": ") ",
     "delete_cmd_prefix": "rm(",
     "library": "var_list.r",
     "varRefreshCmd": "cat(var_dic_list()) "
    }
   },
   "types_to_exclude": [
    "module",
    "function",
    "builtin_function_or_method",
    "instance",
    "_Feature"
   ],
   "window_display": false
  }
 },
 "nbformat": 4,
 "nbformat_minor": 0
}
