{
 "cells": [
  {
   "cell_type": "markdown",
   "metadata": {
    "id": "x1uPeiVwcr0k"
   },
   "source": [
    "## **Data Collection using API**"
   ]
  },
  {
   "cell_type": "markdown",
   "metadata": {
    "id": "gv_5o6u-yutb"
   },
   "source": [
    "**Business Scenario**\n",
    "You are the co-founder of a start-up Tuber, a free video streaming service that targets college students. Before launching Tuber, you need to build a movie database that covers information about major movie releases worldwide. After doing some research, you find that the OMDb website has the data you need. OMDb provides a set of APIs (i.e., Application Programing Interfaces) that you may use to collect the data."
   ]
  },
  {
   "cell_type": "markdown",
   "metadata": {
    "id": "lARS9bBK-AJ9"
   },
   "source": [
    "**Please Use the Google Chrome browser. You might run into some issues if you are using other browsers such as Safari.**\n",
    "\n",
    "**Save a copy of this document to your Google Drive: Go to the upper left-hand corner of this page, click \"File\" and choose \"Save a copy in Drive\".** You will see a folder named \"Colab Notebooks\" in your Google Drive."
   ]
  },
  {
   "cell_type": "markdown",
   "metadata": {
    "id": "zNSY_bNT4QFn"
   },
   "source": [
    "First, let us import all the necessary libraries:"
   ]
  },
  {
   "cell_type": "code",
   "execution_count": 1,
   "metadata": {
    "id": "ek66SvHQDpWh"
   },
   "outputs": [],
   "source": [
    "import requests       # The package we will use to connect to API and return data of interests. Response often in JSON format\n",
    "import json           # The package we will use to process JSON data"
   ]
  },
  {
   "cell_type": "markdown",
   "metadata": {
    "id": "-ZTigpjYQblw"
   },
   "source": [
    "Run the program!"
   ]
  },
  {
   "cell_type": "code",
   "execution_count": 3,
   "metadata": {
    "colab": {
     "base_uri": "https://localhost:8080/"
    },
    "id": "LxuyIjmWHBnK",
    "outputId": "e488d1f7-24ec-4581-ce8a-ac4b6de1a2ee"
   },
   "outputs": [
    {
     "name": "stdout",
     "output_type": "stream",
     "text": [
      "https://www.omdbapi.com/?t=Frozen&apikey=6ae98900\n",
      "<Response [200]>\n",
      "{\"Title\":\"Frozen\",\"Year\":\"2013\",\"Rated\":\"PG\",\"Released\":\"27 Nov 2013\",\"Runtime\":\"102 min\",\"Genre\":\"Animation, Adventure, Comedy\",\"Director\":\"Chris Buck, Jennifer Lee\",\"Writer\":\"Jennifer Lee, Hans Christian Andersen, Chris Buck\",\"Actors\":\"Kristen Bell, Idina Menzel, Jonathan Groff\",\"Plot\":\"Fearless optimist Anna teams up with rugged mountain man Kristoff and his loyal reindeer Sven in an epic journey to find Anna's sister Elsa, whose icy powers have trapped the kingdom of Arendelle in eternal winter.\",\"Language\":\"English\",\"Country\":\"United States\",\"Awards\":\"Won 2 Oscars. 83 wins & 60 nominations total\",\"Poster\":\"https://m.media-amazon.com/images/M/MV5BMTQ1MjQwMTE5OF5BMl5BanBnXkFtZTgwNjk3MTcyMDE@._V1_SX300.jpg\",\"Ratings\":[{\"Source\":\"Internet Movie Database\",\"Value\":\"7.4/10\"},{\"Source\":\"Rotten Tomatoes\",\"Value\":\"89%\"},{\"Source\":\"Metacritic\",\"Value\":\"75/100\"}],\"Metascore\":\"75\",\"imdbRating\":\"7.4\",\"imdbVotes\":\"674,029\",\"imdbID\":\"tt2294629\",\"Type\":\"movie\",\"DVD\":\"N/A\",\"BoxOffice\":\"$400,953,009\",\"Production\":\"N/A\",\"Website\":\"N/A\",\"Response\":\"True\"}\n"
     ]
    }
   ],
   "source": [
    "url_head = 'https://www.omdbapi.com/?t='\n",
    "apikey = '&apikey=6ae98900'\n",
    "title = 'Frozen'\n",
    "\n",
    "url = url_head + title + apikey # The url is: https://www.omdbapi.com/?t=Frozen&apikey=YOURAKIKEY\n",
    "\n",
    "print(url)\n",
    "\n",
    "response = requests.get(url)    # Connect to the API to download the data\n",
    "\n",
    "print(response) #status code 200 indicates that the HTTP request was successful, meaning the server processed the request and returned the desired response\n",
    "\n",
    "print(response.text)"
   ]
  },
  {
   "cell_type": "markdown",
   "metadata": {
    "id": "5OVTYGiDHKm8"
   },
   "source": [
    "Extract relevant data from the JSON response"
   ]
  },
  {
   "cell_type": "code",
   "execution_count": 4,
   "metadata": {
    "colab": {
     "base_uri": "https://localhost:8080/"
    },
    "id": "TpVGapLXiB7C",
    "outputId": "1b7fa00c-416b-41b3-ee52-cfe6ffc1e099"
   },
   "outputs": [
    {
     "data": {
      "text/plain": [
       "{'Title': 'Frozen',\n",
       " 'Year': '2013',\n",
       " 'Rated': 'PG',\n",
       " 'Released': '27 Nov 2013',\n",
       " 'Runtime': '102 min',\n",
       " 'Genre': 'Animation, Adventure, Comedy',\n",
       " 'Director': 'Chris Buck, Jennifer Lee',\n",
       " 'Writer': 'Jennifer Lee, Hans Christian Andersen, Chris Buck',\n",
       " 'Actors': 'Kristen Bell, Idina Menzel, Jonathan Groff',\n",
       " 'Plot': \"Fearless optimist Anna teams up with rugged mountain man Kristoff and his loyal reindeer Sven in an epic journey to find Anna's sister Elsa, whose icy powers have trapped the kingdom of Arendelle in eternal winter.\",\n",
       " 'Language': 'English',\n",
       " 'Country': 'United States',\n",
       " 'Awards': 'Won 2 Oscars. 83 wins & 60 nominations total',\n",
       " 'Poster': 'https://m.media-amazon.com/images/M/MV5BMTQ1MjQwMTE5OF5BMl5BanBnXkFtZTgwNjk3MTcyMDE@._V1_SX300.jpg',\n",
       " 'Ratings': [{'Source': 'Internet Movie Database', 'Value': '7.4/10'},\n",
       "  {'Source': 'Rotten Tomatoes', 'Value': '89%'},\n",
       "  {'Source': 'Metacritic', 'Value': '75/100'}],\n",
       " 'Metascore': '75',\n",
       " 'imdbRating': '7.4',\n",
       " 'imdbVotes': '674,029',\n",
       " 'imdbID': 'tt2294629',\n",
       " 'Type': 'movie',\n",
       " 'DVD': 'N/A',\n",
       " 'BoxOffice': '$400,953,009',\n",
       " 'Production': 'N/A',\n",
       " 'Website': 'N/A',\n",
       " 'Response': 'True'}"
      ]
     },
     "execution_count": 4,
     "metadata": {},
     "output_type": "execute_result"
    }
   ],
   "source": [
    "jc = response.json() # Convert the data into a JSON object that can be manipulated by Python\n",
    "jc"
   ]
  },
  {
   "cell_type": "code",
   "execution_count": 5,
   "metadata": {
    "colab": {
     "base_uri": "https://localhost:8080/"
    },
    "id": "vVqf7Q4Ch_z6",
    "outputId": "a59458f7-17df-4aca-ba70-ceee6a579889"
   },
   "outputs": [
    {
     "name": "stdout",
     "output_type": "stream",
     "text": [
      "['imdbID', 'MovieTitle', 'ReleaseYear', 'Runtime', 'Genre']\n",
      "['tt2294629', 'Frozen', '2013', '102 min', 'Animation, Adventure, Comedy']\n"
     ]
    }
   ],
   "source": [
    "\n",
    "imdbID = jc['imdbID']          # The unique id of the movie\n",
    "MovieTitle = jc['Title']      # The name of the movie\n",
    "ReleaseYear = jc['Year']            #  The release year\n",
    "Runtime = jc['Runtime']        # The duration of the movie\n",
    "Genre = jc['Genre']  # The genre\n",
    "\n",
    "data = [imdbID, MovieTitle, ReleaseYear, Runtime, Genre]\n",
    "\n",
    "columns=['imdbID', 'MovieTitle', 'ReleaseYear', 'Runtime', 'Genre']\n",
    "print(columns)\n",
    "print(data) # Print out the content is often useful to make sure your program work. Comment out this line when your program is ready."
   ]
  },
  {
   "cell_type": "markdown",
   "metadata": {
    "id": "N-X_ONERoVN1"
   },
   "source": [
    "**Questions:**\n",
    "\n",
    "1. The Python code above collects data for one movie. Can you modify the code so that it can collects data for a list of movies below?\n",
    "\n",
    "['Frozen', 'American Hustle', 'The Wolf of Wall Street', 'This is the End', 'Monsters University']\n",
    "\n",
    "2. Can you save the data for the list of movies as an Excel/CSV file?"
   ]
  },
  {
   "cell_type": "code",
   "execution_count": 6,
   "metadata": {
    "id": "AxxyM-uLldvf"
   },
   "outputs": [],
   "source": [
    "movies = ['Frozen', 'American Hustle', 'The Wolf of Wall Street', 'This is the End', 'Monsters University']\n",
    "\n",
    "imdbID = []\n",
    "MovieTitle = []\n",
    "ReleaseYear = []\n",
    "Runtime = []\n",
    "Genre = []\n",
    "\n",
    "for movie in movies:\n",
    "    jc = requests.get(url_head + movie + apikey).json()\n",
    "    imdbID.append(jc['imdbID'])          # The unique id of the movie\n",
    "    MovieTitle.append(jc['Title'])      # The name of the movie\n",
    "    ReleaseYear.append(jc['Year'])            #  The release year\n",
    "    Runtime.append(jc['Runtime'])        # The duration of the movie\n",
    "    Genre.append(jc['Genre'])\n"
   ]
  },
  {
   "cell_type": "code",
   "execution_count": 8,
   "metadata": {
    "id": "2xiY3dpym-JC"
   },
   "outputs": [
    {
     "data": {
      "text/html": [
       "<div>\n",
       "<style scoped>\n",
       "    .dataframe tbody tr th:only-of-type {\n",
       "        vertical-align: middle;\n",
       "    }\n",
       "\n",
       "    .dataframe tbody tr th {\n",
       "        vertical-align: top;\n",
       "    }\n",
       "\n",
       "    .dataframe thead th {\n",
       "        text-align: right;\n",
       "    }\n",
       "</style>\n",
       "<table border=\"1\" class=\"dataframe\">\n",
       "  <thead>\n",
       "    <tr style=\"text-align: right;\">\n",
       "      <th></th>\n",
       "      <th>imdbID</th>\n",
       "      <th>MovieTitle</th>\n",
       "      <th>ReleaseYear</th>\n",
       "      <th>Runtime</th>\n",
       "      <th>Genre</th>\n",
       "    </tr>\n",
       "  </thead>\n",
       "  <tbody>\n",
       "    <tr>\n",
       "      <th>0</th>\n",
       "      <td>tt2294629</td>\n",
       "      <td>Frozen</td>\n",
       "      <td>2013</td>\n",
       "      <td>102 min</td>\n",
       "      <td>Animation, Adventure, Comedy</td>\n",
       "    </tr>\n",
       "    <tr>\n",
       "      <th>1</th>\n",
       "      <td>tt1800241</td>\n",
       "      <td>American Hustle</td>\n",
       "      <td>2013</td>\n",
       "      <td>138 min</td>\n",
       "      <td>Crime, Drama</td>\n",
       "    </tr>\n",
       "    <tr>\n",
       "      <th>2</th>\n",
       "      <td>tt0993846</td>\n",
       "      <td>The Wolf of Wall Street</td>\n",
       "      <td>2013</td>\n",
       "      <td>180 min</td>\n",
       "      <td>Biography, Comedy, Crime</td>\n",
       "    </tr>\n",
       "    <tr>\n",
       "      <th>3</th>\n",
       "      <td>tt1245492</td>\n",
       "      <td>This Is the End</td>\n",
       "      <td>2013</td>\n",
       "      <td>107 min</td>\n",
       "      <td>Comedy, Fantasy</td>\n",
       "    </tr>\n",
       "    <tr>\n",
       "      <th>4</th>\n",
       "      <td>tt1453405</td>\n",
       "      <td>Monsters University</td>\n",
       "      <td>2013</td>\n",
       "      <td>104 min</td>\n",
       "      <td>Animation, Adventure, Comedy</td>\n",
       "    </tr>\n",
       "  </tbody>\n",
       "</table>\n",
       "</div>"
      ],
      "text/plain": [
       "      imdbID               MovieTitle ReleaseYear  Runtime  \\\n",
       "0  tt2294629                   Frozen        2013  102 min   \n",
       "1  tt1800241          American Hustle        2013  138 min   \n",
       "2  tt0993846  The Wolf of Wall Street        2013  180 min   \n",
       "3  tt1245492          This Is the End        2013  107 min   \n",
       "4  tt1453405      Monsters University        2013  104 min   \n",
       "\n",
       "                          Genre  \n",
       "0  Animation, Adventure, Comedy  \n",
       "1                  Crime, Drama  \n",
       "2      Biography, Comedy, Crime  \n",
       "3               Comedy, Fantasy  \n",
       "4  Animation, Adventure, Comedy  "
      ]
     },
     "execution_count": 8,
     "metadata": {},
     "output_type": "execute_result"
    }
   ],
   "source": [
    "import pandas as pd\n",
    "df = pd.DataFrame(list(zip(imdbID, MovieTitle, ReleaseYear, Runtime, Genre)), columns = ['imdbID', 'MovieTitle', 'ReleaseYear', 'Runtime', 'Genre'])\n",
    "df\n",
    "#df.to_csv('movie_list.csv', index=False)"
   ]
  },
  {
   "cell_type": "code",
   "execution_count": null,
   "metadata": {
    "colab": {
     "base_uri": "https://localhost:8080/",
     "height": 17
    },
    "id": "AyZE5q-mns5H",
    "outputId": "381be885-6ad1-4830-ef4e-30d4b210c982"
   },
   "outputs": [
    {
     "data": {
      "application/javascript": "\n    async function download(id, filename, size) {\n      if (!google.colab.kernel.accessAllowed) {\n        return;\n      }\n      const div = document.createElement('div');\n      const label = document.createElement('label');\n      label.textContent = `Downloading \"${filename}\": `;\n      div.appendChild(label);\n      const progress = document.createElement('progress');\n      progress.max = size;\n      div.appendChild(progress);\n      document.body.appendChild(div);\n\n      const buffers = [];\n      let downloaded = 0;\n\n      const channel = await google.colab.kernel.comms.open(id);\n      // Send a message to notify the kernel that we're ready.\n      channel.send({})\n\n      for await (const message of channel.messages) {\n        // Send a message to notify the kernel that we're ready.\n        channel.send({})\n        if (message.buffers) {\n          for (const buffer of message.buffers) {\n            buffers.push(buffer);\n            downloaded += buffer.byteLength;\n            progress.value = downloaded;\n          }\n        }\n      }\n      const blob = new Blob(buffers, {type: 'application/binary'});\n      const a = document.createElement('a');\n      a.href = window.URL.createObjectURL(blob);\n      a.download = filename;\n      div.appendChild(a);\n      a.click();\n      div.remove();\n    }\n  ",
      "text/plain": [
       "<IPython.core.display.Javascript object>"
      ]
     },
     "metadata": {},
     "output_type": "display_data"
    },
    {
     "data": {
      "application/javascript": "download(\"download_b7e6a8b6-9e77-411e-bee9-c0d378aad65f\", \"movie_list.csv\", 364)",
      "text/plain": [
       "<IPython.core.display.Javascript object>"
      ]
     },
     "metadata": {},
     "output_type": "display_data"
    }
   ],
   "source": [
    "from google.colab import files\n",
    "\n",
    "files.download('movie_list.csv')"
   ]
  },
  {
   "cell_type": "markdown",
   "metadata": {
    "id": "xoqimUhsA36i"
   },
   "source": [
    "**Tips:**\n",
    "\n",
    "JSON file can be a messy if there are lots of data in it. There are ways to format it to be more human friendly. Some browsers (e.g., Firefox and Edge) will automatically format the JSON data for you. You can also format the JSON content using the following website:\n",
    "\n",
    "https://jsonformatter.org/json-viewer"
   ]
  }
 ],
 "metadata": {
  "colab": {
   "provenance": []
  },
  "kernelspec": {
   "display_name": "base",
   "language": "python",
   "name": "python3"
  },
  "language_info": {
   "codemirror_mode": {
    "name": "ipython",
    "version": 3
   },
   "file_extension": ".py",
   "mimetype": "text/x-python",
   "name": "python",
   "nbconvert_exporter": "python",
   "pygments_lexer": "ipython3",
   "version": "3.8.8"
  }
 },
 "nbformat": 4,
 "nbformat_minor": 0
}
