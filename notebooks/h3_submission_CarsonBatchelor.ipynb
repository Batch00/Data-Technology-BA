{
 "cells": [
  {
   "cell_type": "code",
   "execution_count": null,
   "metadata": {},
   "outputs": [],
   "source": [
    "# Dependencies\n",
    "import requests\n",
    "import json\n",
    "#from config import api_key\n",
    "api_key = 'd7f7ca58'\n",
    "\n",
    "url = f\"http://www.omdbapi.com/?apikey={api_key}&t=\""
   ]
  },
  {
   "cell_type": "code",
   "execution_count": 16,
   "metadata": {},
   "outputs": [
    {
     "name": "stdout",
     "output_type": "stream",
     "text": [
      "The director of Aliens was James Cameron\n"
     ]
    }
   ],
   "source": [
    "# Who was the director of the movie Aliens?\n",
    "url_head = 'https://www.omdbapi.com/?t='\n",
    "apikey = '&apikey=d7f7ca58'\n",
    "title = 'Aliens'\n",
    "\n",
    "url = url_head + title + apikey \n",
    "response = requests.get(url)    # Connect to the API to download the data\n",
    "\n",
    "print(\"The director of Aliens was\", response.json()[\"Director\"])"
   ]
  },
  {
   "cell_type": "code",
   "execution_count": 19,
   "metadata": {
    "scrolled": true
   },
   "outputs": [
    {
     "name": "stdout",
     "output_type": "stream",
     "text": [
      "The rating of Gladiator was R\n"
     ]
    }
   ],
   "source": [
    "# What was the movie Gladiator rated?\n",
    "title = 'Gladiator'\n",
    "\n",
    "url = url_head + title + apikey \n",
    "response = requests.get(url)    # Connect to the API to download the data\n",
    "\n",
    "print(\"The rating of Gladiator was\", response.json()[\"Rated\"])"
   ]
  },
  {
   "cell_type": "code",
   "execution_count": 27,
   "metadata": {},
   "outputs": [
    {
     "name": "stdout",
     "output_type": "stream",
     "text": [
      "The movie 50 First Dates was released in 2004\n"
     ]
    }
   ],
   "source": [
    "# What year was 50 First Dates released?\n",
    "title = '50 First Dates'\n",
    "\n",
    "url = url_head + title + apikey \n",
    "response = requests.get(url)    # Connect to the API to download the data\n",
    "\n",
    "print(\"The movie 50 First Dates was released in\", response.json()[\"Released\"][-4:])"
   ]
  },
  {
   "cell_type": "code",
   "execution_count": 29,
   "metadata": {
    "scrolled": true
   },
   "outputs": [
    {
     "name": "stdout",
     "output_type": "stream",
     "text": [
      "Moana was written by Jared Bush, Ron Clements, John Musker\n"
     ]
    }
   ],
   "source": [
    "# Who wrote Moana?\n",
    "title = 'Moana'\n",
    "\n",
    "url = url_head + title + apikey \n",
    "response = requests.get(url)    # Connect to the API to download the data\n",
    "\n",
    "print(\"Moana was written by\", response.json()[\"Writer\"])"
   ]
  },
  {
   "cell_type": "code",
   "execution_count": 31,
   "metadata": {
    "scrolled": true
   },
   "outputs": [
    {
     "name": "stdout",
     "output_type": "stream",
     "text": [
      "The plot of Sing was: In a city of humanoid animals, a hustling theater impresario's attempt to save his theater with a singing competition becomes grander than he anticipates even as its finalists find that their lives will never be the same.\n"
     ]
    }
   ],
   "source": [
    "# What was the plot of the movie Sing?\n",
    "title = 'Sing'\n",
    "\n",
    "url = url_head + title + apikey \n",
    "response = requests.get(url)    # Connect to the API to download the data\n",
    "\n",
    "print(\"The plot of Sing was:\", response.json()[\"Plot\"])"
   ]
  }
 ],
 "metadata": {
  "kernelspec": {
   "display_name": "base",
   "language": "python",
   "name": "python3"
  },
  "language_info": {
   "codemirror_mode": {
    "name": "ipython",
    "version": 3
   },
   "file_extension": ".py",
   "mimetype": "text/x-python",
   "name": "python",
   "nbconvert_exporter": "python",
   "pygments_lexer": "ipython3",
   "version": "3.8.8"
  },
  "varInspector": {
   "cols": {
    "lenName": 16,
    "lenType": 16,
    "lenVar": 40
   },
   "kernels_config": {
    "python": {
     "delete_cmd_postfix": "",
     "delete_cmd_prefix": "del ",
     "library": "var_list.py",
     "varRefreshCmd": "print(var_dic_list())"
    },
    "r": {
     "delete_cmd_postfix": ") ",
     "delete_cmd_prefix": "rm(",
     "library": "var_list.r",
     "varRefreshCmd": "cat(var_dic_list()) "
    }
   },
   "types_to_exclude": [
    "module",
    "function",
    "builtin_function_or_method",
    "instance",
    "_Feature"
   ],
   "window_display": false
  }
 },
 "nbformat": 4,
 "nbformat_minor": 2
}
