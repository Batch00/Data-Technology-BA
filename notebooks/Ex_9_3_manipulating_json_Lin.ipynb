{
 "cells": [
  {
   "cell_type": "code",
   "execution_count": 1,
   "metadata": {
    "executionInfo": {
     "elapsed": 389,
     "status": "ok",
     "timestamp": 1730775068038,
     "user": {
      "displayName": "Jinan Lin",
      "userId": "16538702255115455582"
     },
     "user_tz": 360
    },
    "id": "yONhZ2By-SrS"
   },
   "outputs": [],
   "source": [
    "# Dependencies\n",
    "import requests\n",
    "import json"
   ]
  },
  {
   "cell_type": "code",
   "execution_count": 10,
   "metadata": {
    "colab": {
     "base_uri": "https://localhost:8080/"
    },
    "executionInfo": {
     "elapsed": 199,
     "status": "ok",
     "timestamp": 1730775069127,
     "user": {
      "displayName": "Jinan Lin",
      "userId": "16538702255115455582"
     },
     "user_tz": 360
    },
    "id": "uGIIpiyM-SrT",
    "outputId": "288503fe-a3f2-4cb6-daa9-36d3d41b0668"
   },
   "outputs": [
    {
     "name": "stdout",
     "output_type": "stream",
     "text": [
      "{\n",
      "    \"active\": true,\n",
      "    \"boosters\": 0,\n",
      "    \"company\": \"SpaceX\",\n",
      "    \"cost_per_launch\": 50000000,\n",
      "    \"country\": \"United States\",\n",
      "    \"description\": \"Falcon 9 is a two-stage rocket designed and manufactured by SpaceX for the reliable and safe transport of satellites and the Dragon spacecraft into orbit.\",\n",
      "    \"diameter\": {\n",
      "        \"feet\": 12,\n",
      "        \"meters\": 3.7\n",
      "    },\n",
      "    \"engines\": {\n",
      "        \"engine_loss_max\": 2,\n",
      "        \"isp\": {\n",
      "            \"sea_level\": 288,\n",
      "            \"vacuum\": 312\n",
      "        },\n",
      "        \"layout\": \"octaweb\",\n",
      "        \"number\": 9,\n",
      "        \"propellant_1\": \"liquid oxygen\",\n",
      "        \"propellant_2\": \"RP-1 kerosene\",\n",
      "        \"thrust_sea_level\": {\n",
      "            \"kN\": 845,\n",
      "            \"lbf\": 190000\n",
      "        },\n",
      "        \"thrust_to_weight\": 180.1,\n",
      "        \"thrust_vacuum\": {\n",
      "            \"kN\": 914,\n",
      "            \"lbf\": 205500\n",
      "        },\n",
      "        \"type\": \"merlin\",\n",
      "        \"version\": \"1D+\"\n",
      "    },\n",
      "    \"first_flight\": \"2010-06-04\",\n",
      "    \"first_stage\": {\n",
      "        \"burn_time_sec\": 162,\n",
      "        \"engines\": 9,\n",
      "        \"fuel_amount_tons\": 385,\n",
      "        \"reusable\": true,\n",
      "        \"thrust_sea_level\": {\n",
      "            \"kN\": 7607,\n",
      "            \"lbf\": 1710000\n",
      "        },\n",
      "        \"thrust_vacuum\": {\n",
      "            \"kN\": 8227,\n",
      "            \"lbf\": 1849500\n",
      "        }\n",
      "    },\n",
      "    \"flickr_images\": [\n",
      "        \"https://farm1.staticflickr.com/929/28787338307_3453a11a77_b.jpg\",\n",
      "        \"https://farm4.staticflickr.com/3955/32915197674_eee74d81bb_b.jpg\",\n",
      "        \"https://farm1.staticflickr.com/293/32312415025_6841e30bf1_b.jpg\",\n",
      "        \"https://farm1.staticflickr.com/623/23660653516_5b6cb301d1_b.jpg\",\n",
      "        \"https://farm6.staticflickr.com/5518/31579784413_d853331601_b.jpg\",\n",
      "        \"https://farm1.staticflickr.com/745/32394687645_a9c54a34ef_b.jpg\"\n",
      "    ],\n",
      "    \"height\": {\n",
      "        \"feet\": 229.6,\n",
      "        \"meters\": 70\n",
      "    },\n",
      "    \"id\": \"falcon9\",\n",
      "    \"landing_legs\": {\n",
      "        \"material\": \"carbon fiber\",\n",
      "        \"number\": 4\n",
      "    },\n",
      "    \"mass\": {\n",
      "        \"kg\": 549054,\n",
      "        \"lb\": 1207920\n",
      "    },\n",
      "    \"name\": \"Falcon 9\",\n",
      "    \"payload_weights\": [\n",
      "        {\n",
      "            \"id\": \"leo\",\n",
      "            \"kg\": 22800,\n",
      "            \"lb\": 50265,\n",
      "            \"name\": \"Low Earth Orbit\"\n",
      "        },\n",
      "        {\n",
      "            \"id\": \"gto\",\n",
      "            \"kg\": 8300,\n",
      "            \"lb\": 18300,\n",
      "            \"name\": \"Geosynchronous Transfer Orbit\"\n",
      "        },\n",
      "        {\n",
      "            \"id\": \"mars\",\n",
      "            \"kg\": 4020,\n",
      "            \"lb\": 8860,\n",
      "            \"name\": \"Mars Orbit\"\n",
      "        }\n",
      "    ],\n",
      "    \"rocketid\": 2,\n",
      "    \"second_stage\": {\n",
      "        \"burn_time_sec\": 397,\n",
      "        \"engines\": 1,\n",
      "        \"fuel_amount_tons\": 90,\n",
      "        \"payloads\": {\n",
      "            \"composite_fairing\": {\n",
      "                \"diameter\": {\n",
      "                    \"feet\": 17.1,\n",
      "                    \"meters\": 5.2\n",
      "                },\n",
      "                \"height\": {\n",
      "                    \"feet\": 43,\n",
      "                    \"meters\": 13.1\n",
      "                }\n",
      "            },\n",
      "            \"option_1\": \"dragon\",\n",
      "            \"option_2\": \"composite fairing\"\n",
      "        },\n",
      "        \"reusable\": false,\n",
      "        \"thrust\": {\n",
      "            \"kN\": 934,\n",
      "            \"lbf\": 210000\n",
      "        }\n",
      "    },\n",
      "    \"stages\": 2,\n",
      "    \"success_rate_pct\": 97,\n",
      "    \"type\": \"rocket\",\n",
      "    \"wikipedia\": \"https://en.wikipedia.org/wiki/Falcon_9\"\n",
      "}\n"
     ]
    }
   ],
   "source": [
    "# Performing a GET Request and saving the\n",
    "# API's response within a variable\n",
    "url = \"https://api.spacexdata.com/v2/rockets/falcon9\"\n",
    "response = requests.get(url)\n",
    "response_json = response.json()\n",
    "print(json.dumps(response_json, indent=4, sort_keys=True))"
   ]
  },
  {
   "cell_type": "markdown",
   "metadata": {
    "id": "sUQZJUbZ_4A6"
   },
   "source": []
  },
  {
   "cell_type": "code",
   "execution_count": 11,
   "metadata": {
    "colab": {
     "base_uri": "https://localhost:8080/"
    },
    "executionInfo": {
     "elapsed": 102,
     "status": "ok",
     "timestamp": 1730775084339,
     "user": {
      "displayName": "Jinan Lin",
      "userId": "16538702255115455582"
     },
     "user_tz": 360
    },
    "id": "rUx94NB4-SrT",
    "outputId": "0fd45f6f-8101-4726-8421-4905ff9dc7e2"
   },
   "outputs": [
    {
     "name": "stdout",
     "output_type": "stream",
     "text": [
      "50000000\n"
     ]
    }
   ],
   "source": [
    "# It is possible to grab a specific value\n",
    "# from within the JSON object\n",
    "print(response_json[\"cost_per_launch\"])"
   ]
  },
  {
   "cell_type": "code",
   "execution_count": 12,
   "metadata": {
    "colab": {
     "base_uri": "https://localhost:8080/"
    },
    "executionInfo": {
     "elapsed": 101,
     "status": "ok",
     "timestamp": 1730775091211,
     "user": {
      "displayName": "Jinan Lin",
      "userId": "16538702255115455582"
     },
     "user_tz": 360
    },
    "id": "LoF-9-bu-SrT",
    "outputId": "80dadef4-f5ad-4be5-b401-6286bbf33889"
   },
   "outputs": [
    {
     "name": "stdout",
     "output_type": "stream",
     "text": [
      "There are 3 payloads.\n"
     ]
    }
   ],
   "source": [
    "# It is also possible to perform some\n",
    "# analyses on values stored within the JSON object\n",
    "number_payloads = len(response_json[\"payload_weights\"])\n",
    "print(f\"There are {number_payloads} payloads.\")"
   ]
  },
  {
   "cell_type": "code",
   "execution_count": 16,
   "metadata": {
    "colab": {
     "base_uri": "https://localhost:8080/"
    },
    "collapsed": true,
    "executionInfo": {
     "elapsed": 64,
     "status": "ok",
     "timestamp": 1730775229958,
     "user": {
      "displayName": "Jinan Lin",
      "userId": "16538702255115455582"
     },
     "user_tz": 360
    },
    "id": "bTUnMGhk-SrT",
    "outputId": "8c5f573d-8da5-40d4-e636-05cb4aae1020"
   },
   "outputs": [
    {
     "name": "stdout",
     "output_type": "stream",
     "text": [
      "The first payload weighed 22800 Kilograms\n"
     ]
    }
   ],
   "source": [
    "# Finally, it is possible to reference the\n",
    "# values stored within sub-dictionaries and sub-lists\n",
    "\n",
    "response_json[\"payload_weights\"]\n",
    "\n",
    "response_json[\"payload_weights\"][0]\n",
    "\n",
    "payload_weight = response_json[\"payload_weights\"][0][\"kg\"]\n",
    "print(f\"The first payload weighed {payload_weight} Kilograms\")"
   ]
  },
  {
   "cell_type": "code",
   "execution_count": null,
   "metadata": {
    "collapsed": true,
    "id": "hug9xgsv-SrU"
   },
   "outputs": [],
   "source": []
  },
  {
   "cell_type": "markdown",
   "metadata": {
    "id": "3G7S-588_YXi"
   },
   "source": [
    "Exercise 1: Write code to display the value for propellant_1 and propellant_2"
   ]
  },
  {
   "cell_type": "code",
   "execution_count": 17,
   "metadata": {
    "colab": {
     "base_uri": "https://localhost:8080/"
    },
    "executionInfo": {
     "elapsed": 91,
     "status": "ok",
     "timestamp": 1730775416120,
     "user": {
      "displayName": "Jinan Lin",
      "userId": "16538702255115455582"
     },
     "user_tz": 360
    },
    "id": "y3uaZ62AP_2u",
    "outputId": "f4f776ff-24f2-42c8-dd97-1408b14fe2cf"
   },
   "outputs": [
    {
     "data": {
      "text/plain": [
       "{'number': 9,\n",
       " 'type': 'merlin',\n",
       " 'version': '1D+',\n",
       " 'layout': 'octaweb',\n",
       " 'isp': {'sea_level': 288, 'vacuum': 312},\n",
       " 'engine_loss_max': 2,\n",
       " 'propellant_1': 'liquid oxygen',\n",
       " 'propellant_2': 'RP-1 kerosene',\n",
       " 'thrust_sea_level': {'kN': 845, 'lbf': 190000},\n",
       " 'thrust_vacuum': {'kN': 914, 'lbf': 205500},\n",
       " 'thrust_to_weight': 180.1}"
      ]
     },
     "execution_count": 17,
     "metadata": {},
     "output_type": "execute_result"
    }
   ],
   "source": [
    "response_json[\"engines\"]"
   ]
  },
  {
   "cell_type": "code",
   "execution_count": 18,
   "metadata": {
    "colab": {
     "base_uri": "https://localhost:8080/",
     "height": 35
    },
    "executionInfo": {
     "elapsed": 94,
     "status": "ok",
     "timestamp": 1730775451936,
     "user": {
      "displayName": "Jinan Lin",
      "userId": "16538702255115455582"
     },
     "user_tz": 360
    },
    "id": "aJF09NnzQQ5J",
    "outputId": "9883ef76-ec69-40a5-a796-51fc21869d8d"
   },
   "outputs": [
    {
     "data": {
      "text/plain": [
       "'liquid oxygen'"
      ]
     },
     "execution_count": 18,
     "metadata": {},
     "output_type": "execute_result"
    }
   ],
   "source": [
    "response_json[\"engines\"]['propellant_1']"
   ]
  },
  {
   "cell_type": "code",
   "execution_count": 19,
   "metadata": {
    "colab": {
     "base_uri": "https://localhost:8080/",
     "height": 35
    },
    "executionInfo": {
     "elapsed": 95,
     "status": "ok",
     "timestamp": 1730775529409,
     "user": {
      "displayName": "Jinan Lin",
      "userId": "16538702255115455582"
     },
     "user_tz": 360
    },
    "id": "Uwj9Oo3GQbcs",
    "outputId": "9474161a-39e5-4ede-a287-60a7de61188d"
   },
   "outputs": [
    {
     "data": {
      "text/plain": [
       "'RP-1 kerosene'"
      ]
     },
     "execution_count": 19,
     "metadata": {},
     "output_type": "execute_result"
    }
   ],
   "source": [
    "response_json[\"engines\"]['propellant_2']"
   ]
  },
  {
   "cell_type": "markdown",
   "metadata": {
    "id": "CGDNQ312_5dn"
   },
   "source": [
    "Exercise 2: Write code to print flickr images links and wikipedia link."
   ]
  },
  {
   "cell_type": "code",
   "execution_count": 8,
   "metadata": {
    "colab": {
     "base_uri": "https://localhost:8080/"
    },
    "executionInfo": {
     "elapsed": 70,
     "status": "ok",
     "timestamp": 1730775641229,
     "user": {
      "displayName": "Jinan Lin",
      "userId": "16538702255115455582"
     },
     "user_tz": 360
    },
    "id": "j7UmJEEj_jHR",
    "outputId": "47822259-4793-4a6b-9a3c-bee2b85b0dc1"
   },
   "outputs": [
    {
     "data": {
      "text/plain": [
       "['https://farm1.staticflickr.com/929/28787338307_3453a11a77_b.jpg',\n",
       " 'https://farm4.staticflickr.com/3955/32915197674_eee74d81bb_b.jpg',\n",
       " 'https://farm1.staticflickr.com/293/32312415025_6841e30bf1_b.jpg',\n",
       " 'https://farm1.staticflickr.com/623/23660653516_5b6cb301d1_b.jpg',\n",
       " 'https://farm6.staticflickr.com/5518/31579784413_d853331601_b.jpg',\n",
       " 'https://farm1.staticflickr.com/745/32394687645_a9c54a34ef_b.jpg']"
      ]
     },
     "execution_count": 8,
     "metadata": {},
     "output_type": "execute_result"
    }
   ],
   "source": [
    "response_json[\"flickr_images\"]"
   ]
  },
  {
   "cell_type": "code",
   "execution_count": 9,
   "metadata": {
    "colab": {
     "base_uri": "https://localhost:8080/",
     "height": 35
    },
    "executionInfo": {
     "elapsed": 87,
     "status": "ok",
     "timestamp": 1730775671118,
     "user": {
      "displayName": "Jinan Lin",
      "userId": "16538702255115455582"
     },
     "user_tz": 360
    },
    "id": "sS32Qx-YRIPD",
    "outputId": "74e206a5-1b27-4026-ff57-d2b820c0e2bd"
   },
   "outputs": [
    {
     "data": {
      "text/plain": [
       "'https://en.wikipedia.org/wiki/Falcon_9'"
      ]
     },
     "execution_count": 9,
     "metadata": {},
     "output_type": "execute_result"
    }
   ],
   "source": [
    "response_json[\"wikipedia\"]"
   ]
  },
  {
   "cell_type": "code",
   "execution_count": null,
   "metadata": {},
   "outputs": [],
   "source": []
  }
 ],
 "metadata": {
  "colab": {
   "provenance": []
  },
  "kernelspec": {
   "display_name": "base",
   "language": "python",
   "name": "python3"
  },
  "language_info": {
   "codemirror_mode": {
    "name": "ipython",
    "version": 3
   },
   "file_extension": ".py",
   "mimetype": "text/x-python",
   "name": "python",
   "nbconvert_exporter": "python",
   "pygments_lexer": "ipython3",
   "version": "3.8.8"
  },
  "varInspector": {
   "cols": {
    "lenName": 16,
    "lenType": 16,
    "lenVar": 40
   },
   "kernels_config": {
    "python": {
     "delete_cmd_postfix": "",
     "delete_cmd_prefix": "del ",
     "library": "var_list.py",
     "varRefreshCmd": "print(var_dic_list())"
    },
    "r": {
     "delete_cmd_postfix": ") ",
     "delete_cmd_prefix": "rm(",
     "library": "var_list.r",
     "varRefreshCmd": "cat(var_dic_list()) "
    }
   },
   "types_to_exclude": [
    "module",
    "function",
    "builtin_function_or_method",
    "instance",
    "_Feature"
   ],
   "window_display": false
  }
 },
 "nbformat": 4,
 "nbformat_minor": 0
}
