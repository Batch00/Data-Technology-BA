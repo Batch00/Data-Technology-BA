{
  "cells": [
    {
      "cell_type": "code",
      "execution_count": null,
      "metadata": {
        "colab": {
          "base_uri": "https://localhost:8080/"
        },
        "id": "sw2Jr5lXFWIH",
        "outputId": "e0da1b5e-8229-42fe-c710-fae58c7c1724",
        "vscode": {
          "languageId": "python"
        }
      },
      "outputs": [
        {
          "output_type": "stream",
          "name": "stdout",
          "text": [
            "\r0% [Working]\r            \rHit:1 https://cloud.r-project.org/bin/linux/ubuntu jammy-cran40/ InRelease\n",
            "\r0% [Waiting for headers] [Connecting to security.ubuntu.com (185.125.190.36)] [Connecting to ppa.lau\r                                                                                                    \rHit:2 https://developer.download.nvidia.com/compute/cuda/repos/ubuntu2204/x86_64  InRelease\n",
            "\r0% [Waiting for headers] [Waiting for headers] [Connected to ppa.launchpadcontent.net (185.125.190.8\r                                                                                                    \rHit:3 http://archive.ubuntu.com/ubuntu jammy InRelease\n",
            "Hit:4 http://archive.ubuntu.com/ubuntu jammy-updates InRelease\n",
            "Hit:5 http://security.ubuntu.com/ubuntu jammy-security InRelease\n",
            "Hit:6 http://archive.ubuntu.com/ubuntu jammy-backports InRelease\n",
            "Hit:7 https://ppa.launchpadcontent.net/c2d4u.team/c2d4u4.0+/ubuntu jammy InRelease\n",
            "Hit:8 https://ppa.launchpadcontent.net/deadsnakes/ppa/ubuntu jammy InRelease\n",
            "Hit:9 https://ppa.launchpadcontent.net/graphics-drivers/ppa/ubuntu jammy InRelease\n",
            "Hit:10 https://ppa.launchpadcontent.net/ubuntugis/ppa/ubuntu jammy InRelease\n",
            "Reading package lists... Done\n"
          ]
        }
      ],
      "source": []
    },
    {
      "cell_type": "code",
      "execution_count": null,
      "metadata": {
        "id": "YPVEwydNFZss",
        "vscode": {
          "languageId": "python"
        }
      },
      "outputs": [],
      "source": [
        "# Import packages\n",
        "from pyspark.sql import SparkSession\n",
        "from pyspark.sql import Row\n",
        "from pyspark.sql.types import StructType,StructField,StringType, DateType,IntegerType\n",
        "\n",
        "# Create a SparkSession\n",
        "spark = SparkSession.builder.appName(\"SparkSQL\").getOrCreate()"
      ]
    },
    {
      "cell_type": "code",
      "execution_count": null,
      "metadata": {
        "colab": {
          "base_uri": "https://localhost:8080/"
        },
        "id": "QNnoYbEqFh6W",
        "outputId": "f4e4ebff-d47f-4d4b-8815-2dc6e828dba8",
        "vscode": {
          "languageId": "python"
        }
      },
      "outputs": [
        {
          "output_type": "stream",
          "name": "stdout",
          "text": [
            "+---+--------------------+---+---+------+------+--------------+---+-----------+----+------+-----------+--------------------+--------------------+-----+\n",
            "| ID|                Name|Sex|Age|Height|Weight|          Team|NOC|      Games|Year|Season|       City|               Sport|               Event|Medal|\n",
            "+---+--------------------+---+---+------+------+--------------+---+-----------+----+------+-----------+--------------------+--------------------+-----+\n",
            "|  1|           A Dijiang|  M| 24|   180|    80|         China|CHN|1992 Summer|1992|Summer|  Barcelona|          Basketball|Basketball Men's ...|   NA|\n",
            "|  2|            A Lamusi|  M| 23|   170|    60|         China|CHN|2012 Summer|2012|Summer|     London|                Judo|Judo Men's Extra-...|   NA|\n",
            "|  3| Gunnar Nielsen Aaby|  M| 24|    NA|    NA|       Denmark|DEN|1920 Summer|1920|Summer|  Antwerpen|            Football|Football Men's Fo...|   NA|\n",
            "|  4|Edgar Lindenau Aabye|  M| 34|    NA|    NA|Denmark/Sweden|DEN|1900 Summer|1900|Summer|      Paris|          Tug-Of-War|Tug-Of-War Men's ...| Gold|\n",
            "|  5|Christine Jacoba ...|  F| 21|   185|    82|   Netherlands|NED|1988 Winter|1988|Winter|    Calgary|       Speed Skating|Speed Skating Wom...|   NA|\n",
            "|  5|Christine Jacoba ...|  F| 21|   185|    82|   Netherlands|NED|1988 Winter|1988|Winter|    Calgary|       Speed Skating|Speed Skating Wom...|   NA|\n",
            "|  5|Christine Jacoba ...|  F| 25|   185|    82|   Netherlands|NED|1992 Winter|1992|Winter|Albertville|       Speed Skating|Speed Skating Wom...|   NA|\n",
            "|  5|Christine Jacoba ...|  F| 25|   185|    82|   Netherlands|NED|1992 Winter|1992|Winter|Albertville|       Speed Skating|Speed Skating Wom...|   NA|\n",
            "|  5|Christine Jacoba ...|  F| 27|   185|    82|   Netherlands|NED|1994 Winter|1994|Winter|Lillehammer|       Speed Skating|Speed Skating Wom...|   NA|\n",
            "|  5|Christine Jacoba ...|  F| 27|   185|    82|   Netherlands|NED|1994 Winter|1994|Winter|Lillehammer|       Speed Skating|Speed Skating Wom...|   NA|\n",
            "|  6|     Per Knut Aaland|  M| 31|   188|    75| United States|USA|1992 Winter|1992|Winter|Albertville|Cross Country Skiing|Cross Country Ski...|   NA|\n",
            "|  6|     Per Knut Aaland|  M| 31|   188|    75| United States|USA|1992 Winter|1992|Winter|Albertville|Cross Country Skiing|Cross Country Ski...|   NA|\n",
            "|  6|     Per Knut Aaland|  M| 31|   188|    75| United States|USA|1992 Winter|1992|Winter|Albertville|Cross Country Skiing|Cross Country Ski...|   NA|\n",
            "|  6|     Per Knut Aaland|  M| 31|   188|    75| United States|USA|1992 Winter|1992|Winter|Albertville|Cross Country Skiing|Cross Country Ski...|   NA|\n",
            "|  6|     Per Knut Aaland|  M| 33|   188|    75| United States|USA|1994 Winter|1994|Winter|Lillehammer|Cross Country Skiing|Cross Country Ski...|   NA|\n",
            "|  6|     Per Knut Aaland|  M| 33|   188|    75| United States|USA|1994 Winter|1994|Winter|Lillehammer|Cross Country Skiing|Cross Country Ski...|   NA|\n",
            "|  6|     Per Knut Aaland|  M| 33|   188|    75| United States|USA|1994 Winter|1994|Winter|Lillehammer|Cross Country Skiing|Cross Country Ski...|   NA|\n",
            "|  6|     Per Knut Aaland|  M| 33|   188|    75| United States|USA|1994 Winter|1994|Winter|Lillehammer|Cross Country Skiing|Cross Country Ski...|   NA|\n",
            "|  7|        John Aalberg|  M| 31|   183|    72| United States|USA|1992 Winter|1992|Winter|Albertville|Cross Country Skiing|Cross Country Ski...|   NA|\n",
            "|  7|        John Aalberg|  M| 31|   183|    72| United States|USA|1992 Winter|1992|Winter|Albertville|Cross Country Skiing|Cross Country Ski...|   NA|\n",
            "+---+--------------------+---+---+------+------+--------------+---+-----------+----+------+-----------+--------------------+--------------------+-----+\n",
            "only showing top 20 rows\n",
            "\n"
          ]
        }
      ],
      "source": [
        "# Read in data from S3 Buckets\n",
        "from pyspark import SparkFiles\n",
        "url = \"https://gb760databucket.s3.us-east-2.amazonaws.com/athlete_events.csv\"\n",
        "spark.sparkContext.addFile(url)\n",
        "df = spark.read.csv(SparkFiles.get(\"athlete_events.csv\"), header=True, inferSchema=True, quote=\"\\\"\", escape=\"\\\"\")\n",
        "\n",
        "# Show DataFrame\n",
        "df.show()"
      ]
    },
    {
      "cell_type": "code",
      "execution_count": null,
      "metadata": {
        "id": "3_hMkh2sT8jm",
        "vscode": {
          "languageId": "python"
        }
      },
      "outputs": [],
      "source": [
        "#Create a temporary view.\n"
      ]
    },
    {
      "cell_type": "code",
      "execution_count": null,
      "metadata": {
        "colab": {
          "base_uri": "https://localhost:8080/"
        },
        "id": "XUJVk6fQYTyy",
        "outputId": "b970c5e9-0751-4947-bc58-1d6ce4984005",
        "vscode": {
          "languageId": "python"
        }
      },
      "outputs": [
        {
          "name": "stdout",
          "output_type": "stream",
          "text": [
            "+---------------------+\n",
            "|count(DISTINCT sport)|\n",
            "+---------------------+\n",
            "|                   34|\n",
            "+---------------------+\n",
            "\n"
          ]
        }
      ],
      "source": [
        "# Get the numover of distinct sports played in 2016\n"
      ]
    },
    {
      "cell_type": "code",
      "execution_count": null,
      "metadata": {
        "colab": {
          "base_uri": "https://localhost:8080/"
        },
        "id": "tXyNWna1ci1v",
        "outputId": "8e3ad3e3-c10d-46da-a135-9a6e52ec447d",
        "vscode": {
          "languageId": "python"
        }
      },
      "outputs": [
        {
          "name": "stdout",
          "output_type": "stream",
          "text": [
            "+---------------------+\n",
            "|count(DISTINCT sport)|\n",
            "+---------------------+\n",
            "|                   32|\n",
            "+---------------------+\n",
            "\n"
          ]
        }
      ],
      "source": [
        "# Get the number of distinct sports played in 2012\n"
      ]
    },
    {
      "cell_type": "code",
      "execution_count": null,
      "metadata": {
        "colab": {
          "base_uri": "https://localhost:8080/"
        },
        "id": "gmuokNVHe_SH",
        "outputId": "28bb5480-04ad-467d-e09f-2d457e846b74",
        "vscode": {
          "languageId": "python"
        }
      },
      "outputs": [
        {
          "name": "stdout",
          "output_type": "stream",
          "text": [
            "+------------+\n",
            "|       sport|\n",
            "+------------+\n",
            "|        Golf|\n",
            "|Rugby Sevens|\n",
            "+------------+\n",
            "\n"
          ]
        }
      ],
      "source": [
        "# Write a subquery to get the distinct sports played in 2016 but not in 2012.\n"
      ]
    },
    {
      "cell_type": "code",
      "execution_count": null,
      "metadata": {
        "colab": {
          "base_uri": "https://localhost:8080/"
        },
        "id": "Nclw6gcIdcAG",
        "outputId": "104ff042-9ff1-4931-d30e-102f415982f0",
        "vscode": {
          "languageId": "python"
        }
      },
      "outputs": [
        {
          "name": "stdout",
          "output_type": "stream",
          "text": [
            "+------------+\n",
            "|       sport|\n",
            "+------------+\n",
            "|        Golf|\n",
            "|Rugby Sevens|\n",
            "+------------+\n",
            "\n"
          ]
        }
      ],
      "source": [
        "# Another option could be using an EXCEPT\n"
      ]
    },
    {
      "cell_type": "code",
      "execution_count": null,
      "metadata": {
        "colab": {
          "base_uri": "https://localhost:8080/"
        },
        "id": "Y1edN4Jlfack",
        "outputId": "48b3d9fc-08a1-4367-9b2a-b7803f260cd2",
        "vscode": {
          "languageId": "python"
        }
      },
      "outputs": [
        {
          "name": "stdout",
          "output_type": "stream",
          "text": [
            "+---------+\n",
            "|min(year)|\n",
            "+---------+\n",
            "|     1896|\n",
            "+---------+\n",
            "\n"
          ]
        }
      ],
      "source": [
        "# Get the year of the earliest Olympics in our data\n"
      ]
    },
    {
      "cell_type": "code",
      "execution_count": null,
      "metadata": {
        "colab": {
          "base_uri": "https://localhost:8080/"
        },
        "id": "av4Lem9VhKh8",
        "outputId": "af0c728a-03a2-4e03-89a9-c34470006f07",
        "vscode": {
          "languageId": "python"
        }
      },
      "outputs": [
        {
          "name": "stdout",
          "output_type": "stream",
          "text": [
            "+-------------+\n",
            "|        sport|\n",
            "+-------------+\n",
            "|   Gymnastics|\n",
            "|       Tennis|\n",
            "|     Swimming|\n",
            "|    Athletics|\n",
            "|     Shooting|\n",
            "|    Wrestling|\n",
            "|Weightlifting|\n",
            "|      Cycling|\n",
            "|      Fencing|\n",
            "+-------------+\n",
            "\n"
          ]
        }
      ],
      "source": [
        "# Get the sports that were played in the earliest Olympic games in our data\n"
      ]
    },
    {
      "cell_type": "code",
      "execution_count": null,
      "metadata": {
        "colab": {
          "base_uri": "https://localhost:8080/"
        },
        "id": "nUqJkqWzhZ67",
        "outputId": "761fb2c9-dd16-410b-8cda-c03b6786beed",
        "vscode": {
          "languageId": "python"
        }
      },
      "outputs": [
        {
          "name": "stdout",
          "output_type": "stream",
          "text": [
            "+-------------+\n",
            "|        sport|\n",
            "+-------------+\n",
            "|   Gymnastics|\n",
            "|       Tennis|\n",
            "|     Swimming|\n",
            "|    Athletics|\n",
            "|     Shooting|\n",
            "|    Wrestling|\n",
            "|Weightlifting|\n",
            "|      Cycling|\n",
            "|      Fencing|\n",
            "+-------------+\n",
            "\n"
          ]
        }
      ],
      "source": [
        "# Determine which sports were in both the 1896 Olympics and the 2016 Olympics\n"
      ]
    },
    {
      "cell_type": "code",
      "execution_count": null,
      "metadata": {
        "colab": {
          "base_uri": "https://localhost:8080/"
        },
        "id": "fUDuMDVjjQcy",
        "outputId": "2ceb48e2-33ec-454b-a533-140ed156e325",
        "vscode": {
          "languageId": "python"
        }
      },
      "outputs": [
        {
          "name": "stdout",
          "output_type": "stream",
          "text": [
            "+----------------------------------+-----+----------+\n",
            "|Name                              |medal|medalCount|\n",
            "+----------------------------------+-----+----------+\n",
            "|Michael Fred Phelps, II           |Gold |23        |\n",
            "|Raymond Clarence \"Ray\" Ewry       |Gold |10        |\n",
            "|Frederick Carlton \"Carl\" Lewis    |Gold |9         |\n",
            "|Larysa Semenivna Latynina (Diriy-)|Gold |9         |\n",
            "|Mark Andrew Spitz                 |Gold |9         |\n",
            "+----------------------------------+-----+----------+\n",
            "\n"
          ]
        }
      ],
      "source": [
        "# Who are the top 5 Gold medal winners in the Olympics\n",
        "\n"
      ]
    },
    {
      "cell_type": "code",
      "execution_count": null,
      "metadata": {
        "colab": {
          "base_uri": "https://localhost:8080/"
        },
        "id": "dCoDsurkP7Q3",
        "outputId": "de6adda8-fcc9-41bd-d55d-c1abc3c229f2",
        "vscode": {
          "languageId": "python"
        }
      },
      "outputs": [
        {
          "name": "stdout",
          "output_type": "stream",
          "text": [
            "+-------------------------------+------+----------+\n",
            "|Name                           |medal |medalCount|\n",
            "+-------------------------------+------+----------+\n",
            "|Shirley Frances Babashoff      |Silver|6         |\n",
            "|Aleksandr Nikolayevich Dityatin|Silver|6         |\n",
            "|Aleksandr Vladimirovich Popov  |Silver|6         |\n",
            "|Mikhail Yakovlevich Voronin    |Silver|6         |\n",
            "|Yang Yang                      |Silver|6         |\n",
            "+-------------------------------+------+----------+\n",
            "\n"
          ]
        }
      ],
      "source": [
        "# Who are the top 5 Silver medal winners\n",
        "\n"
      ]
    },
    {
      "cell_type": "code",
      "execution_count": null,
      "metadata": {
        "colab": {
          "base_uri": "https://localhost:8080/"
        },
        "id": "GNdWgmuwRw8A",
        "outputId": "481f26f3-9dfa-4365-e680-127b8ace57dd",
        "vscode": {
          "languageId": "python"
        }
      },
      "outputs": [
        {
          "name": "stdout",
          "output_type": "stream",
          "text": [
            "+------------------------+------+----------+\n",
            "|Name                    |medal |medalCount|\n",
            "+------------------------+------+----------+\n",
            "|Harri Tapani Kirvesniemi|Bronze|6         |\n",
            "|Heikki Ilmari Savolainen|Bronze|6         |\n",
            "|Merlene Joyce Ottey-Page|Bronze|6         |\n",
            "|Franziska van Almsick   |Bronze|6         |\n",
            "|Aleksey Yuryevich Nemov |Bronze|6         |\n",
            "+------------------------+------+----------+\n",
            "\n"
          ]
        }
      ],
      "source": [
        "# Who are the top 5 Bronze medal winners\n"
      ]
    },
    {
      "cell_type": "code",
      "execution_count": null,
      "metadata": {
        "id": "JfaKSZ-PTTMR",
        "vscode": {
          "languageId": "python"
        }
      },
      "outputs": [],
      "source": []
    }
  ],
  "metadata": {
    "colab": {
      "provenance": []
    },
    "kernelspec": {
      "display_name": "Python 3 (ipykernel)",
      "language": "python",
      "name": "python3"
    },
    "language_info": {
      "codemirror_mode": {
        "name": "ipython",
        "version": 3
      },
      "file_extension": ".py",
      "mimetype": "text/x-python",
      "name": "python",
      "nbconvert_exporter": "python",
      "pygments_lexer": "ipython3",
      "version": "3.10.4"
    }
  },
  "nbformat": 4,
  "nbformat_minor": 0
}