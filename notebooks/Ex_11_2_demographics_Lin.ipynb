{
  "cells": [
    {
      "cell_type": "code",
      "execution_count": 2,
      "metadata": {
        "colab": {
          "base_uri": "https://localhost:8080/"
        },
        "id": "XTc61chZZy5F",
        "outputId": "4a5166bf-e0a7-4957-948a-3a942d97df76"
      },
      "outputs": [
        {
          "output_type": "stream",
          "name": "stdout",
          "text": [
            "Mounted at /content/drive\n"
          ]
        }
      ],
      "source": [
        "#!pip install pyspark py4j\n",
        "\n",
        "from google.colab import drive\n",
        "drive.mount('/content/drive')\n",
        "\n",
        "# Start Spark session\n",
        "from pyspark.sql import SparkSession\n",
        "spark = SparkSession.builder.appName(\"Demographics\").getOrCreate()"
      ]
    },
    {
      "cell_type": "code",
      "execution_count": 3,
      "metadata": {
        "id": "fz9FFdrHB6TO"
      },
      "outputs": [],
      "source": [
        "# Start Spark session\n",
        "from pyspark.sql import SparkSession\n",
        "spark = SparkSession.builder.appName(\"Demographics\").getOrCreate()"
      ]
    },
    {
      "cell_type": "code",
      "source": [
        "#Some userful commands for pyspark dataframe operations\n",
        "# show rows: df.show(5)\n",
        "# df.printSchema()\n",
        "# get column names: df.columns\n",
        "# descriptive statistics: df.describe().show()\n",
        "# select columns: df.select(\"column1\", \"column2\").show()\n",
        "# filter data: df.filter(df[\"column_name\"] > 50).show()\n",
        "# group by aggregation: df.groupBy(\"column_name\").agg({\"other_column\": \"avg\"}).show()\n",
        "# join dataframes: df1.join(df2, df1[\"id\"] == df2[\"id\"], \"inner\").show()\n",
        "# write dataframe to csv: df.write.csv(\"output_path.csv\", header=True\n",
        "# create new column based on old column: df = df.withColumn(\"new\", df[\"old\"] * 1000)\n",
        "# drop columns: df = df.drop(\"column1\", \"column2\")\n",
        "# using sql query:\n",
        " #df.createOrReplaceTempView(\"query_table\")\n",
        " #spark.sql(\"SELECT column1, column2 FROM my_table WHERE column3 > 50\").show()\n"
      ],
      "metadata": {
        "id": "Jw12jPb2Shuo"
      },
      "execution_count": 4,
      "outputs": []
    },
    {
      "cell_type": "code",
      "execution_count": 6,
      "metadata": {
        "colab": {
          "base_uri": "https://localhost:8080/"
        },
        "id": "fJ8AzEZdZvuX",
        "outputId": "2ea2f879-7c67-4ff5-f799-89bdb4d7c789"
      },
      "outputs": [
        {
          "output_type": "stream",
          "name": "stdout",
          "text": [
            "+---+-----------------+---+--------+---------+--------+--------------------+---------------+------+--------------------+\n",
            "| id|             name|age|height_m|weight_kg|children|          occupation|academic_degree|salary|            location|\n",
            "+---+-----------------+---+--------+---------+--------+--------------------+---------------+------+--------------------+\n",
            "|  1|    Glad Gavrieli| 38|    1.52|       74|       0|Computer Systems ...|       Bachelor|    78|           Louisiana|\n",
            "|  2|  Henrieta Fittes| 34|    1.72|       39|       4|             Teacher|         Master|    44|            Illinois|\n",
            "|  3|   Peyton Dulanty| 24|    1.80|       47|       5|Senior Quality En...|            PhD|    44|      North Carolina|\n",
            "|  4|     Denna Morgen| 48|    1.81|       71|       5|   Account Executive|         Master|    81|          California|\n",
            "|  5|    Camella Izaks| 34|    1.65|       60|       1|   Director of Sales|            PhD|    76|                Ohio|\n",
            "|  6|     Shara Esposi| 49|    1.50|       52|       2|     Sales Associate|         Master|    68|            Virginia|\n",
            "|  7|Saunderson Gudgen| 64|    1.93|       47|       0|Sales Representative|         Master|    85|            New York|\n",
            "|  8|Aldrich Rosendorf| 42|    1.77|       66|       0|        Developer II|            PhD|    84|District of Columbia|\n",
            "|  9| Edlin Washington| 50|    1.74|       52|       4|     Design Engineer|         Master|    88|              Oregon|\n",
            "| 10| Anders Penwright| 55|    1.98|       90|       2|     Project Manager|       Bachelor|   116|             Georgia|\n",
            "| 11|   Ruthie Cubbini| 67|    1.52|       55|       4|     Data Coordiator|            PhD|    51|District of Columbia|\n",
            "| 12|  Juliet Harbidge| 66|    1.61|       49|       2|             Actuary|            PhD|    66|         Mississippi|\n",
            "| 13|  Jeannine Kelner| 30|    1.80|       81|       1|       Programmer II|       Bachelor|    90|              Hawaii|\n",
            "| 14|  Roi Gristhwaite| 66|    1.86|       90|       1|    Product Engineer|       Bachelor|    40|           Tennessee|\n",
            "| 15|      Brant Stark| 58|    1.94|       53|       4|Sales Representative|       Bachelor|    96|      North Carolina|\n",
            "| 16|   Donny Rankling| 26|    1.51|       39|       1|Physical Therapy ...|       Bachelor|   116|            Virginia|\n",
            "| 17|     Dov Gavaghan| 27|    1.58|       68|       5|Computer Systems ...|       Bachelor|    74|                Utah|\n",
            "| 18|    Rosanne Wreak| 37|    1.76|       81|       2|Payment Adjustmen...|         Master|   103|             Florida|\n",
            "| 19|    Belva Spraggs| 50|    1.65|       80|       2|             Teacher|       Bachelor|    46|             Georgia|\n",
            "| 20|      Welch Lease| 21|    1.57|       79|       4|Mechanical System...|         Master|   114|       Massachusetts|\n",
            "+---+-----------------+---+--------+---------+--------+--------------------+---------------+------+--------------------+\n",
            "only showing top 20 rows\n",
            "\n"
          ]
        }
      ],
      "source": [
        "df = spark.read.csv(\"/content/drive/MyDrive/GB760/Week11/demographics.csv\", header=True)\n",
        "\n",
        "# Show DataFrame\n",
        "df.show()"
      ]
    },
    {
      "cell_type": "code",
      "source": [
        "df.createOrReplaceTempView(\"query_table\")\n",
        "spark.sql(\"SELECT name, occupation FROM query_table WHERE age <= 40 AND children > 2\").show(15)"
      ],
      "metadata": {
        "colab": {
          "base_uri": "https://localhost:8080/"
        },
        "id": "7QKcXA5RU3L5",
        "outputId": "35d48312-f1d0-434a-954d-04e9c5b1f13c"
      },
      "execution_count": 9,
      "outputs": [
        {
          "output_type": "stream",
          "name": "stdout",
          "text": [
            "+----------------+--------------------+\n",
            "|            name|          occupation|\n",
            "+----------------+--------------------+\n",
            "| Henrieta Fittes|             Teacher|\n",
            "|  Peyton Dulanty|Senior Quality En...|\n",
            "|    Dov Gavaghan|Computer Systems ...|\n",
            "|     Welch Lease|Mechanical System...|\n",
            "|  Kaye Van Halle|     Media Manager I|\n",
            "|   Sacha Jarritt|           Professor|\n",
            "|   Hayes Imesson| Staff Accountant IV|\n",
            "|     Kerry Natte|     Data Coordiator|\n",
            "|   Zach Surfleet|Senior Quality En...|\n",
            "| Phillip Geockle| Clinical Specialist|\n",
            "|   Baron Kemster|Senior Cost Accou...|\n",
            "|Roseanna Crellim|        Accountant I|\n",
            "| Ingram McGeachy|     Sales Associate|\n",
            "|    Vinny Rikard|       Social Worker|\n",
            "|   Damita Grotty|Help Desk Technician|\n",
            "+----------------+--------------------+\n",
            "only showing top 15 rows\n",
            "\n"
          ]
        }
      ]
    },
    {
      "cell_type": "code",
      "execution_count": null,
      "metadata": {
        "colab": {
          "base_uri": "https://localhost:8080/"
        },
        "id": "HZFco7ARZvuf",
        "outputId": "0b0c037a-70b8-4a0e-fcb2-9c506f497f48"
      },
      "outputs": [
        {
          "output_type": "execute_result",
          "data": {
            "text/plain": [
              "['id',\n",
              " 'name',\n",
              " 'age',\n",
              " 'height_m',\n",
              " 'weight_kg',\n",
              " 'children',\n",
              " 'occupation',\n",
              " 'academic_degree',\n",
              " 'salary',\n",
              " 'location']"
            ]
          },
          "metadata": {},
          "execution_count": 8
        }
      ],
      "source": [
        "# Print the column names\n"
      ]
    },
    {
      "cell_type": "code",
      "execution_count": null,
      "metadata": {
        "colab": {
          "base_uri": "https://localhost:8080/"
        },
        "id": "wdj33caiZvuj",
        "outputId": "0dd29442-5b3d-4c3c-a8f8-33d42be13a30"
      },
      "outputs": [
        {
          "output_type": "stream",
          "name": "stdout",
          "text": [
            "+---+-----------------+---+--------+---------+--------+--------------------+---------------+------+--------------------+\n",
            "| id|             name|age|height_m|weight_kg|children|          occupation|academic_degree|salary|            location|\n",
            "+---+-----------------+---+--------+---------+--------+--------------------+---------------+------+--------------------+\n",
            "|  1|    Glad Gavrieli| 38|    1.52|       74|       0|Computer Systems ...|       Bachelor|    78|           Louisiana|\n",
            "|  2|  Henrieta Fittes| 34|    1.72|       39|       4|             Teacher|         Master|    44|            Illinois|\n",
            "|  3|   Peyton Dulanty| 24|    1.80|       47|       5|Senior Quality En...|            PhD|    44|      North Carolina|\n",
            "|  4|     Denna Morgen| 48|    1.81|       71|       5|   Account Executive|         Master|    81|          California|\n",
            "|  5|    Camella Izaks| 34|    1.65|       60|       1|   Director of Sales|            PhD|    76|                Ohio|\n",
            "|  6|     Shara Esposi| 49|    1.50|       52|       2|     Sales Associate|         Master|    68|            Virginia|\n",
            "|  7|Saunderson Gudgen| 64|    1.93|       47|       0|Sales Representative|         Master|    85|            New York|\n",
            "|  8|Aldrich Rosendorf| 42|    1.77|       66|       0|        Developer II|            PhD|    84|District of Columbia|\n",
            "|  9| Edlin Washington| 50|    1.74|       52|       4|     Design Engineer|         Master|    88|              Oregon|\n",
            "| 10| Anders Penwright| 55|    1.98|       90|       2|     Project Manager|       Bachelor|   116|             Georgia|\n",
            "+---+-----------------+---+--------+---------+--------+--------------------+---------------+------+--------------------+\n",
            "only showing top 10 rows\n",
            "\n"
          ]
        }
      ],
      "source": [
        "# Print out the first 10 rows\n"
      ]
    },
    {
      "cell_type": "code",
      "execution_count": null,
      "metadata": {
        "colab": {
          "base_uri": "https://localhost:8080/"
        },
        "id": "CifAfVSzZvun",
        "outputId": "b216c8fc-0267-4103-c25e-35a0d569eb5c"
      },
      "outputs": [
        {
          "output_type": "stream",
          "name": "stdout",
          "text": [
            "+-------+------------------+-------------------+------------------+\n",
            "|summary|               age|           height_m|         weight_kg|\n",
            "+-------+------------------+-------------------+------------------+\n",
            "|  count|              1000|               1000|              1000|\n",
            "|   mean|            42.961|  1.750380000000002|            64.308|\n",
            "| stddev|14.166869067623207|0.14157152997018183|15.840077147667067|\n",
            "|    min|                18|               1.50|                38|\n",
            "|    max|                67|               2.00|                90|\n",
            "+-------+------------------+-------------------+------------------+\n",
            "\n"
          ]
        }
      ],
      "source": [
        "# Select the age, height_meter, and weight_kg columns and use describe to show the summary statistics\n"
      ]
    },
    {
      "cell_type": "code",
      "execution_count": null,
      "metadata": {
        "colab": {
          "base_uri": "https://localhost:8080/"
        },
        "id": "KHyNTIS7Zvur",
        "outputId": "88835176-c02e-4d7c-a8e2-4f146f412ee7"
      },
      "outputs": [
        {
          "output_type": "stream",
          "name": "stdout",
          "text": [
            "root\n",
            " |-- id: string (nullable = true)\n",
            " |-- name: string (nullable = true)\n",
            " |-- age: string (nullable = true)\n",
            " |-- height_m: string (nullable = true)\n",
            " |-- weight_kg: string (nullable = true)\n",
            " |-- children: string (nullable = true)\n",
            " |-- occupation: string (nullable = true)\n",
            " |-- academic_degree: string (nullable = true)\n",
            " |-- salary: string (nullable = true)\n",
            " |-- location: string (nullable = true)\n",
            "\n"
          ]
        }
      ],
      "source": [
        "# Print the schema to see the types\n"
      ]
    },
    {
      "cell_type": "code",
      "execution_count": null,
      "metadata": {
        "colab": {
          "base_uri": "https://localhost:8080/"
        },
        "id": "VAmRujSRZvuv",
        "outputId": "ddc5d4f6-c8e2-4d60-960c-81188d0af98a"
      },
      "outputs": [
        {
          "output_type": "stream",
          "name": "stdout",
          "text": [
            "+-----------+\n",
            "|Salary (1k)|\n",
            "+-----------+\n",
            "|         78|\n",
            "|         44|\n",
            "|         44|\n",
            "|         81|\n",
            "|         76|\n",
            "|         68|\n",
            "|         85|\n",
            "|         84|\n",
            "|         88|\n",
            "|        116|\n",
            "|         51|\n",
            "|         66|\n",
            "|         90|\n",
            "|         40|\n",
            "|         96|\n",
            "|        116|\n",
            "|         74|\n",
            "|        103|\n",
            "|         46|\n",
            "|        114|\n",
            "+-----------+\n",
            "only showing top 20 rows\n",
            "\n"
          ]
        }
      ],
      "source": [
        "# Rename the Salary column to `Salary (1k)` and show only this new column\n",
        "df = df.withColumnRenamed('Salary', 'Salary (1k)')\n",
        "df.select(\"Salary (1k)\").show()"
      ]
    },
    {
      "cell_type": "code",
      "execution_count": null,
      "metadata": {
        "colab": {
          "base_uri": "https://localhost:8080/"
        },
        "id": "VYoi9OvwZvu0",
        "outputId": "9aaff2f2-5474-43c8-ad4a-fd829e0758f6"
      },
      "outputs": [
        {
          "output_type": "stream",
          "name": "stdout",
          "text": [
            "+--------+-----------+\n",
            "|  Salary|Salary (1k)|\n",
            "+--------+-----------+\n",
            "| 78000.0|         78|\n",
            "| 44000.0|         44|\n",
            "| 44000.0|         44|\n",
            "| 81000.0|         81|\n",
            "| 76000.0|         76|\n",
            "| 68000.0|         68|\n",
            "| 85000.0|         85|\n",
            "| 84000.0|         84|\n",
            "| 88000.0|         88|\n",
            "|116000.0|        116|\n",
            "| 51000.0|         51|\n",
            "| 66000.0|         66|\n",
            "| 90000.0|         90|\n",
            "| 40000.0|         40|\n",
            "| 96000.0|         96|\n",
            "|116000.0|        116|\n",
            "| 74000.0|         74|\n",
            "|103000.0|        103|\n",
            "| 46000.0|         46|\n",
            "|114000.0|        114|\n",
            "+--------+-----------+\n",
            "only showing top 20 rows\n",
            "\n"
          ]
        }
      ],
      "source": [
        "# Create a new column called `Salary` where the values are the `Salary (1k)` * 1000\n",
        "# Show the columns `Salary` and `Salary (1k)`\n",
        "df = df.withColumn(\"Salary\", df[\"Salary (1k)\"] * 1000)\n",
        "df.select([\"Salary\", \"Salary (1k)\"]).show()"
      ]
    }
  ],
  "metadata": {
    "anaconda-cloud": {},
    "colab": {
      "provenance": []
    },
    "kernelspec": {
      "display_name": "Python 3 (ipykernel)",
      "language": "python",
      "name": "python3"
    },
    "language_info": {
      "codemirror_mode": {
        "name": "ipython",
        "version": 3
      },
      "file_extension": ".py",
      "mimetype": "text/x-python",
      "name": "python",
      "nbconvert_exporter": "python",
      "pygments_lexer": "ipython3",
      "version": "3.10.4"
    },
    "varInspector": {
      "cols": {
        "lenName": 16,
        "lenType": 16,
        "lenVar": 40
      },
      "kernels_config": {
        "python": {
          "delete_cmd_postfix": "",
          "delete_cmd_prefix": "del ",
          "library": "var_list.py",
          "varRefreshCmd": "print(var_dic_list())"
        },
        "r": {
          "delete_cmd_postfix": ") ",
          "delete_cmd_prefix": "rm(",
          "library": "var_list.r",
          "varRefreshCmd": "cat(var_dic_list()) "
        }
      },
      "types_to_exclude": [
        "module",
        "function",
        "builtin_function_or_method",
        "instance",
        "_Feature"
      ],
      "window_display": false
    }
  },
  "nbformat": 4,
  "nbformat_minor": 0
}